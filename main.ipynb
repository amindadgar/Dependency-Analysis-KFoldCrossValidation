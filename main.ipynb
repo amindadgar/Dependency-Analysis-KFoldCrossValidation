{
 "cells": [
  {
   "cell_type": "code",
   "execution_count": 1,
   "id": "ef0e2b77",
   "metadata": {},
   "outputs": [],
   "source": [
    "import sklearn\n",
    "import numpy as np\n",
    "import pandas as pd\n",
    "from scipy import stats\n",
    "import json\n",
    "import os\n",
    "from sklearn.neighbors import KNeighborsClassifier\n",
    "from sklearn.model_selection import cross_validate, cross_val_score, LeaveOneOut, KFold\n",
    "from sklearn.naive_bayes import GaussianNB\n",
    "from IPython.display import display"
   ]
  },
  {
   "cell_type": "markdown",
   "id": "64fddae8",
   "metadata": {},
   "source": [
    "# Machine Learning Final Project\n",
    "**Student name:** Mohammad Amin Dadgar\n",
    "\n",
    "**Student Id:** 4003624016\n",
    "\n",
    "**Instructor:** Dr. Peyman Adibi\n",
    "\n",
    "**Date:** Tir 1401 | June, July 2022"
   ]
  },
  {
   "cell_type": "markdown",
   "id": "5613384b",
   "metadata": {},
   "source": [
    "The Final Project is the implementation of [dependency analysis of accuracy estimates in k-fold cross validation](https://ieeexplore.ieee.org/document/8012491) article."
   ]
  },
  {
   "cell_type": "markdown",
   "id": "4c6e77f0",
   "metadata": {},
   "source": [
    "**Abstract:** K-fold cross-validation is a method to evaluate the performance of classification algorithms. In this report, we are going to show the appropriateness of K-fold cross-validation for the dependence of fold accuracies. "
   ]
  },
  {
   "cell_type": "markdown",
   "id": "6e06d3e9",
   "metadata": {},
   "source": [
    "**Introduction**\n",
    "Several studies have shown that in k-fold cross-validation, fold accuracies are dependent, but there is no formal definition for this fact. This report is the reproduction results of referenced article that in section 2, we introduced the statistical methods needed for this experiment. In section 3 sampling the distribution from fold accuracies is introduced and using this in section 4, a statistical method is shown to evaluate the fold accuracies independence. In section 5, the method introduced in section 4 is tested on 20 UCI datasets, and in section 6 we’ve concluded the work done before."
   ]
  },
  {
   "cell_type": "markdown",
   "id": "7c4eff4a",
   "metadata": {},
   "source": [
    "To inference the idea behind this article, in section 4 the variances are given as below\n",
    "\n",
    "sample variance:\n",
    "\\begin{equation}\n",
    "s^2 = \\frac{\\sum_{i=0}^{k} (\\bar p_i - \\bar{\\bar{x}})^2}{k-1}\n",
    "\\end{equation}\n",
    "And the variance for leave-one-out cross validation\n",
    "\\begin{equation}\n",
    "\\sigma_I^2 = \\frac{p(1-p)}{n}\n",
    "\\end{equation}"
   ]
  },
  {
   "cell_type": "markdown",
   "id": "80bc6917",
   "metadata": {},
   "source": [
    "to explain the equations above we can say that $p$ is the accuracy of the classifier and to find it, we can devide the correct classifications by the sample size.\n",
    "\n",
    "$\\bar p_i$ refers to the accuracy estimate in fold i, and can be written as below\n",
    "\\begin{equation}\n",
    "\\bar{p_i} = \\frac{\\sum_{j=1}^{m} x_{ij}}{m}\n",
    "\\end{equation}\n",
    "where $m$ is the count of each fold sample. For example if we had $200$ sample in our dataset and using $5$ folds, then we would have $m=\\frac{200}{5}$.\n",
    "\n",
    "where $x_{ij}$ is a function that outputs $1$ where the classification is correct and outputs $0$ when the classification is wrong.\n",
    "\n",
    "The $\\bar{\\bar{x}}$ represents the sample mean and it's possible to find it using the equation below\n",
    "\\begin{equation}\n",
    "\\bar{\\bar{x}} = \\frac{\\sum_{i=1}^{k} \\bar{p_i}}{k}\n",
    "\\end{equation}"
   ]
  },
  {
   "cell_type": "markdown",
   "id": "70c493af",
   "metadata": {},
   "source": [
    "We will start the dependency test of folds with a hypothesis $H_0: s^2/k=\\sigma_l^2$. the test statistics can be found as $\\chi^2 = \\frac{(k-1) s^2}{k \\sigma_l^2}$ when $\\chi$ has $k-1$ degrees of freedom."
   ]
  },
  {
   "cell_type": "code",
   "execution_count": 2,
   "id": "6e48af1f",
   "metadata": {},
   "outputs": [
    {
     "name": "stdout",
     "output_type": "stream",
     "text": [
      "acc: 0.8\n",
      "acc: 0.75\n",
      "acc: 0.675\n",
      "acc: 0.75\n",
      "acc: 0.625\n",
      "sample mean is 0.72\n"
     ]
    }
   ],
   "source": [
    "######### Let's re-calculate the example 2 and 3 in the article\n",
    "total = 200\n",
    "classification_res = np.array([32, 30, 27, 30, 25])\n",
    "sample_mean = np.sum(classification_res / 200) \n",
    "\n",
    "for true_classified in classification_res:\n",
    "    print(f\"acc: {true_classified / 40}\")\n",
    "\n",
    "print(f\"sample mean is {sample_mean}\")"
   ]
  },
  {
   "cell_type": "code",
   "execution_count": 3,
   "id": "085ec19a",
   "metadata": {},
   "outputs": [],
   "source": [
    "##### implementing equation 1\n",
    "def find_sample_variance(true_classification, fold_samples_count):\n",
    "    \"\"\"\n",
    "    Find sample variance of k-fold cross validation\n",
    "    \n",
    "    Parameters:\n",
    "    -----------\n",
    "    true_classification : array of floats\n",
    "        the portion of true classified samples in each fold\n",
    "        note that the folds count is the length of this array\n",
    "    fold_samples_count : positive integer\n",
    "        the count of folds data samples\n",
    "        \n",
    "    Returns:\n",
    "    ---------\n",
    "    sample_variance : float\n",
    "        the sample variance of all the folds\n",
    "    \"\"\"\n",
    "    ## find the total sample count\n",
    "    total_sample_count = fold_samples_count * len(true_classification)\n",
    "    \n",
    "    sample_mean = find_sample_mean(true_classification, total_sample_count)\n",
    "    \n",
    "    ## the subtraction of true classified portion from sample mean\n",
    "    subtraction_arr = np.subtract(true_classification / fold_samples_count, sample_mean)\n",
    "\n",
    "    ## to divide the found value by `k-1`\n",
    "    sample_variance = np.sum(np.power(subtraction_arr, 2)) / (len(true_classification) - 1)\n",
    "    \n",
    "    return sample_variance\n",
    "    \n",
    "def find_sample_mean(true_classification, total_samples_count):\n",
    "    \"\"\"\n",
    "    Find the sample mean of k-fold cross validation using the true classification results\n",
    "    \n",
    "    Parameters:\n",
    "    -----------\n",
    "    true_classification : array of floats\n",
    "        the portion of true classified samples in each fold\n",
    "        note that the folds count is the length of this array\n",
    "    total_samples_count : positive integer\n",
    "        the count of total sample size (dataset length maybe)\n",
    "    \n",
    "    Returns:\n",
    "    ---------\n",
    "    sample_mean : float\n",
    "        the sample mean calculated for all the dataset\n",
    "    \"\"\"\n",
    "    sample_mean = np.sum(true_classification / total_samples_count)\n",
    "    \n",
    "    return sample_mean"
   ]
  },
  {
   "cell_type": "code",
   "execution_count": 4,
   "id": "84e00f70",
   "metadata": {},
   "outputs": [
    {
     "data": {
      "text/plain": [
       "0.004812500000000001"
      ]
     },
     "execution_count": 4,
     "metadata": {},
     "output_type": "execute_result"
    }
   ],
   "source": [
    "m_sample_variance = find_sample_variance(classification_res, 40)\n",
    "m_sample_variance"
   ]
  },
  {
   "cell_type": "code",
   "execution_count": 5,
   "id": "de611716",
   "metadata": {},
   "outputs": [],
   "source": [
    "def find_total_variance(accuracy, total_sample_count):\n",
    "    \"\"\"\n",
    "    Find the variance of a set using its accuracy and samples count\n",
    "    the equation is `accuracy(1-accuracy)/total_sample_count`\n",
    "    \n",
    "    Parameters:\n",
    "    ------------\n",
    "    accuracy : float between 0 and 1\n",
    "        the floating value that rerpresent the portion of true classified samples over all samples\n",
    "    total_sample_count : integer\n",
    "        the total samples in a dataset\n",
    "    \n",
    "    Returns:\n",
    "    ---------\n",
    "    variance : float\n",
    "        the calculated variance for the dataset\n",
    "    \"\"\"\n",
    "    \n",
    "    variance = (accuracy * (1 - accuracy)) / total_sample_count\n",
    "    \n",
    "    return variance"
   ]
  },
  {
   "cell_type": "code",
   "execution_count": 6,
   "id": "bf265366",
   "metadata": {},
   "outputs": [
    {
     "data": {
      "text/plain": [
       "0.0010500000000000002"
      ]
     },
     "execution_count": 6,
     "metadata": {},
     "output_type": "execute_result"
    }
   ],
   "source": [
    "m_variance = find_total_variance(0.7, 200)\n",
    "m_variance"
   ]
  },
  {
   "cell_type": "code",
   "execution_count": 7,
   "id": "a0ba70bf",
   "metadata": {},
   "outputs": [],
   "source": [
    "def chi_independence_test(k_folds, total_variance, sample_variance):\n",
    "    \"\"\"\n",
    "    the chi square independence test introduced in the article\n",
    "    equation is `(`k-1` folds * sample_varience) / `k` folds  * total_variance`\n",
    "    \n",
    "    Parameters:\n",
    "    ------------\n",
    "    k_folds : positive integer\n",
    "        the count of folds applied for a model\n",
    "    total_variance : float\n",
    "        the variance represented by leave-one-out cross validation\n",
    "    sample_variance : float\n",
    "        the variance that is found by aggregation of fold accuracies\n",
    "        \n",
    "    Returns:\n",
    "    ---------\n",
    "    chi_square : float\n",
    "        the chi square value \n",
    "    \"\"\"\n",
    "    \n",
    "    chi_square = ((k_folds - 1) * sample_variance) / (k_folds * total_variance)\n",
    "    \n",
    "    return chi_square"
   ]
  },
  {
   "cell_type": "code",
   "execution_count": 8,
   "id": "d204cce4",
   "metadata": {},
   "outputs": [
    {
     "data": {
      "text/plain": [
       "3.6666666666666665"
      ]
     },
     "execution_count": 8,
     "metadata": {},
     "output_type": "execute_result"
    }
   ],
   "source": [
    "chisquare_value = chi_independence_test(5, m_variance, m_sample_variance)\n",
    "chisquare_value"
   ]
  },
  {
   "cell_type": "markdown",
   "id": "336fc89c",
   "metadata": {},
   "source": [
    "And finding the exact values for `Example 3.`, we can now go on to real tests for real datasets, but Before going to experiments in real datasets another thing is to find out the p-value for our test.\n",
    "\n",
    "So we are going to find the p-value first"
   ]
  },
  {
   "cell_type": "code",
   "execution_count": 9,
   "id": "53fde476",
   "metadata": {},
   "outputs": [
    {
     "data": {
      "text/plain": [
       "0.5470073861075335"
      ]
     },
     "execution_count": 9,
     "metadata": {},
     "output_type": "execute_result"
    }
   ],
   "source": [
    "stats.chi2.cdf(chisquare_value, 4)"
   ]
  },
  {
   "cell_type": "markdown",
   "id": "10bcd730",
   "metadata": {},
   "source": [
    "# 1-NN Liver disorders dataset\n",
    "Let's try KNN method with K=1 with different datasets. minkowski distance with $p=2$ is the euclidean distance and we are using euclidean distance as our nearest neighbour metric."
   ]
  },
  {
   "cell_type": "code",
   "execution_count": 10,
   "id": "9ab78f6a",
   "metadata": {},
   "outputs": [
    {
     "data": {
      "text/html": [
       "<div>\n",
       "<style scoped>\n",
       "    .dataframe tbody tr th:only-of-type {\n",
       "        vertical-align: middle;\n",
       "    }\n",
       "\n",
       "    .dataframe tbody tr th {\n",
       "        vertical-align: top;\n",
       "    }\n",
       "\n",
       "    .dataframe thead th {\n",
       "        text-align: right;\n",
       "    }\n",
       "</style>\n",
       "<table border=\"1\" class=\"dataframe\">\n",
       "  <thead>\n",
       "    <tr style=\"text-align: right;\">\n",
       "      <th></th>\n",
       "      <th>mcv</th>\n",
       "      <th>alkphos</th>\n",
       "      <th>sgpt</th>\n",
       "      <th>sgot</th>\n",
       "      <th>gammagt</th>\n",
       "      <th>drinks</th>\n",
       "      <th>selector</th>\n",
       "    </tr>\n",
       "  </thead>\n",
       "  <tbody>\n",
       "    <tr>\n",
       "      <th>0</th>\n",
       "      <td>85</td>\n",
       "      <td>92</td>\n",
       "      <td>45</td>\n",
       "      <td>27</td>\n",
       "      <td>31</td>\n",
       "      <td>0.0</td>\n",
       "      <td>1</td>\n",
       "    </tr>\n",
       "    <tr>\n",
       "      <th>1</th>\n",
       "      <td>85</td>\n",
       "      <td>64</td>\n",
       "      <td>59</td>\n",
       "      <td>32</td>\n",
       "      <td>23</td>\n",
       "      <td>0.0</td>\n",
       "      <td>2</td>\n",
       "    </tr>\n",
       "    <tr>\n",
       "      <th>2</th>\n",
       "      <td>86</td>\n",
       "      <td>54</td>\n",
       "      <td>33</td>\n",
       "      <td>16</td>\n",
       "      <td>54</td>\n",
       "      <td>0.0</td>\n",
       "      <td>2</td>\n",
       "    </tr>\n",
       "    <tr>\n",
       "      <th>3</th>\n",
       "      <td>91</td>\n",
       "      <td>78</td>\n",
       "      <td>34</td>\n",
       "      <td>24</td>\n",
       "      <td>36</td>\n",
       "      <td>0.0</td>\n",
       "      <td>2</td>\n",
       "    </tr>\n",
       "    <tr>\n",
       "      <th>4</th>\n",
       "      <td>87</td>\n",
       "      <td>70</td>\n",
       "      <td>12</td>\n",
       "      <td>28</td>\n",
       "      <td>10</td>\n",
       "      <td>0.0</td>\n",
       "      <td>2</td>\n",
       "    </tr>\n",
       "  </tbody>\n",
       "</table>\n",
       "</div>"
      ],
      "text/plain": [
       "   mcv  alkphos  sgpt  sgot  gammagt  drinks  selector\n",
       "0   85       92    45    27       31     0.0         1\n",
       "1   85       64    59    32       23     0.0         2\n",
       "2   86       54    33    16       54     0.0         2\n",
       "3   91       78    34    24       36     0.0         2\n",
       "4   87       70    12    28       10     0.0         2"
      ]
     },
     "execution_count": 10,
     "metadata": {},
     "output_type": "execute_result"
    }
   ],
   "source": [
    "ds_liver = pd.read_csv('Datasets/liver-disorders/bupa.data', names=['mcv', 'alkphos', 'sgpt', 'sgot', 'gammagt', 'drinks', 'selector'])\n",
    "ds_liver.head()"
   ]
  },
  {
   "cell_type": "code",
   "execution_count": 11,
   "id": "07cd922f",
   "metadata": {},
   "outputs": [
    {
     "data": {
      "text/plain": [
       "array([1, 2], dtype=int64)"
      ]
     },
     "execution_count": 11,
     "metadata": {},
     "output_type": "execute_result"
    }
   ],
   "source": [
    "ds_liver.selector.unique()"
   ]
  },
  {
   "cell_type": "markdown",
   "id": "a2af6aee",
   "metadata": {},
   "source": [
    "we have two classess for each data, selector is the label in our dataset."
   ]
  },
  {
   "cell_type": "code",
   "execution_count": 12,
   "id": "b8f1a97a",
   "metadata": {},
   "outputs": [],
   "source": [
    "KNN_1_liver = KNeighborsClassifier(n_neighbors=1, p=2)\n",
    "# KNN_1_liver.fit(ds_liver[ds_liver.columns[:-1]], ds_liver.selector)"
   ]
  },
  {
   "cell_type": "code",
   "execution_count": 13,
   "id": "67a40efd",
   "metadata": {},
   "outputs": [],
   "source": [
    "ds_liver_X = ds_liver[ds_liver.columns[:-1]]\n",
    "ds_liver_Y = ds_liver.selector "
   ]
  },
  {
   "cell_type": "code",
   "execution_count": 14,
   "id": "ecd80b08",
   "metadata": {},
   "outputs": [
    {
     "data": {
      "text/plain": [
       "{'fit_time': array([0.00602102, 0.00300574, 0.00299954, 0.00199652, 0.00199032]),\n",
       " 'score_time': array([0.00399899, 0.00500011, 0.00299978, 0.00300145, 0.00299811]),\n",
       " 'estimator': [KNeighborsClassifier(n_neighbors=1),\n",
       "  KNeighborsClassifier(n_neighbors=1),\n",
       "  KNeighborsClassifier(n_neighbors=1),\n",
       "  KNeighborsClassifier(n_neighbors=1),\n",
       "  KNeighborsClassifier(n_neighbors=1)],\n",
       " 'test_score': array([0.65217391, 0.76811594, 0.62318841, 0.66666667, 0.53623188]),\n",
       " 'train_score': array([1., 1., 1., 1., 1.])}"
      ]
     },
     "execution_count": 14,
     "metadata": {},
     "output_type": "execute_result"
    }
   ],
   "source": [
    "KNN_1_5cv_scores = cross_validate(KNN_1_liver, \n",
    "                                  ds_liver_X,\n",
    "                                  ds_liver_Y,\n",
    "                                  cv=5,\n",
    "                                  return_train_score=True,\n",
    "                                 return_estimator=True)\n",
    "KNN_1_5cv_scores"
   ]
  },
  {
   "cell_type": "code",
   "execution_count": 15,
   "id": "6ccbec25",
   "metadata": {},
   "outputs": [
    {
     "data": {
      "text/plain": [
       "0.6492753623188406"
      ]
     },
     "execution_count": 15,
     "metadata": {},
     "output_type": "execute_result"
    }
   ],
   "source": [
    "m_sample_mean = np.mean(KNN_1_5cv_scores['test_score'])\n",
    "m_sample_mean"
   ]
  },
  {
   "cell_type": "code",
   "execution_count": 16,
   "id": "20dfb4a2",
   "metadata": {},
   "outputs": [],
   "source": [
    "## find sample variance\n",
    "def find_sample_variance_using_accuracies(fold_accuracies):\n",
    "    \"\"\"\n",
    "    Find variances using the accuracies got from k-fold cross validation\n",
    "    \n",
    "    Parameters:\n",
    "    ------------\n",
    "    fold_accuracies : float between 0 and 1\n",
    "        the accuracies in each fold of k-fold cross validation\n",
    "        note that the k folds count will be computed using the length of this parameter  \n",
    "    \n",
    "    Returns:\n",
    "    ---------\n",
    "    variance : float\n",
    "        the variance of accuracies\n",
    "    \"\"\"\n",
    "    sample_mean = np.mean(fold_accuracies)\n",
    "    \n",
    "    ## the subtraction of true classified portion from sample mean\n",
    "    subtraction = np.subtract(fold_accuracies, sample_mean)\n",
    "    \n",
    "    variance = np.sum(np.power(subtraction, 2)) / (len(fold_accuracies) - 1)\n",
    "    \n",
    "    return variance"
   ]
  },
  {
   "cell_type": "code",
   "execution_count": 17,
   "id": "963e4e9f",
   "metadata": {},
   "outputs": [
    {
     "data": {
      "text/plain": [
       "0.006973324931737026"
      ]
     },
     "execution_count": 17,
     "metadata": {},
     "output_type": "execute_result"
    }
   ],
   "source": [
    "sample_variance = find_sample_variance_using_accuracies(KNN_1_5cv_scores['test_score'])\n",
    "sample_variance"
   ]
  },
  {
   "cell_type": "markdown",
   "id": "937c62c3",
   "metadata": {},
   "source": [
    "## Leave one out method\n",
    "In this method the folds count is eqaul to the data size and test size in each fold is 1.https://www.statology.org/leave-one-out-cross-validation/"
   ]
  },
  {
   "cell_type": "code",
   "execution_count": 18,
   "id": "dbf78807",
   "metadata": {},
   "outputs": [],
   "source": [
    "KNN_leaveOneOut = KNeighborsClassifier(n_neighbors=1, p=2)\n",
    "KNN_leaveOneOut_result = cross_validate(KNN_leaveOneOut, \n",
    "                                  ds_liver_X,\n",
    "                                  ds_liver_Y,\n",
    "                                  cv=LeaveOneOut(),\n",
    "                                  return_train_score=True,\n",
    "                                 return_estimator=False)"
   ]
  },
  {
   "cell_type": "code",
   "execution_count": 19,
   "id": "5f8f6953",
   "metadata": {},
   "outputs": [
    {
     "data": {
      "text/plain": [
       "array([0., 0., 1., 1., 0., 1., 1., 1., 1., 1., 0., 0., 0., 1., 1., 0., 1.,\n",
       "       1., 0., 1., 1., 1., 1., 1., 0., 0., 1., 0., 0., 0., 1., 0., 0., 0.,\n",
       "       1., 1., 0., 1., 1., 1., 1., 1., 0., 0., 0., 1., 1., 1., 0., 0., 0.,\n",
       "       0., 1., 1., 0., 1., 0., 0., 1., 0., 1., 1., 1., 0., 1., 1., 1., 1.,\n",
       "       1., 1., 0., 1., 0., 1., 1., 1., 0., 0., 0., 1., 0., 1., 0., 1., 1.,\n",
       "       1., 1., 0., 1., 1., 1., 0., 1., 1., 1., 0., 1., 1., 1., 1., 1., 1.,\n",
       "       1., 1., 1., 0., 1., 1., 1., 0., 0., 1., 1., 0., 1., 1., 1., 1., 0.,\n",
       "       1., 1., 1., 1., 1., 1., 1., 1., 1., 0., 1., 0., 0., 0., 0., 1., 1.,\n",
       "       1., 1., 1., 1., 1., 0., 1., 1., 0., 0., 0., 0., 1., 1., 1., 1., 1.,\n",
       "       1., 1., 0., 1., 1., 1., 1., 1., 0., 0., 1., 0., 0., 1., 0., 1., 1.,\n",
       "       1., 0., 1., 1., 0., 1., 0., 1., 0., 1., 1., 1., 1., 0., 1., 1., 0.,\n",
       "       1., 0., 0., 1., 1., 0., 1., 0., 1., 1., 1., 1., 1., 1., 1., 0., 1.,\n",
       "       1., 1., 0., 1., 1., 0., 0., 1., 0., 1., 1., 0., 0., 0., 1., 0., 1.,\n",
       "       1., 0., 0., 1., 1., 0., 1., 1., 0., 0., 1., 1., 1., 1., 0., 0., 1.,\n",
       "       1., 1., 0., 1., 1., 0., 1., 1., 0., 1., 1., 0., 0., 1., 0., 1., 0.,\n",
       "       1., 0., 1., 1., 0., 0., 0., 0., 1., 1., 1., 0., 0., 0., 1., 1., 1.,\n",
       "       0., 1., 1., 1., 1., 1., 0., 1., 1., 1., 0., 1., 1., 1., 0., 0., 0.,\n",
       "       1., 0., 1., 1., 1., 1., 1., 1., 0., 0., 1., 0., 1., 1., 0., 1., 1.,\n",
       "       1., 0., 0., 0., 0., 0., 0., 1., 1., 0., 1., 1., 1., 1., 1., 1., 1.,\n",
       "       1., 0., 0., 1., 0., 0., 1., 1., 1., 1., 0., 0., 0., 0., 1., 0., 1.,\n",
       "       0., 0., 1., 1., 0.])"
      ]
     },
     "execution_count": 19,
     "metadata": {},
     "output_type": "execute_result"
    }
   ],
   "source": [
    "KNN_leaveOneOut_result['test_score']"
   ]
  },
  {
   "cell_type": "code",
   "execution_count": 20,
   "id": "20f6cda9",
   "metadata": {},
   "outputs": [
    {
     "data": {
      "text/plain": [
       "0.6202898550724638"
      ]
     },
     "execution_count": 20,
     "metadata": {},
     "output_type": "execute_result"
    }
   ],
   "source": [
    "leaveOneOut_acc = sum(KNN_leaveOneOut_result['test_score']) / len(ds_liver)\n",
    "leaveOneOut_acc"
   ]
  },
  {
   "cell_type": "code",
   "execution_count": 21,
   "id": "d64a6b01",
   "metadata": {},
   "outputs": [],
   "source": [
    "## implementing leave-one-out method by hand\n",
    "kf = KFold(n_splits=len(ds_liver))\n",
    "\n",
    "KNN_leaveOneOut = KNeighborsClassifier(n_neighbors=1, p=2)\n",
    "\n",
    "\n",
    "test_result = []\n",
    "for train, test in kf.split(ds_liver):\n",
    "    ## predict using the classifier\n",
    "    KNN_leaveOneOut.fit(ds_liver_X.loc[train], ds_liver_Y.loc[train])\n",
    "    ## predict the test data\n",
    "    y_pred = KNN_leaveOneOut.predict(ds_liver_X.loc[test])\n",
    "    \n",
    "    test_result.append(y_pred == ds_liver_Y.loc[test].values)"
   ]
  },
  {
   "cell_type": "code",
   "execution_count": 22,
   "id": "00117024",
   "metadata": {},
   "outputs": [
    {
     "data": {
      "text/plain": [
       "array([0.62028986])"
      ]
     },
     "execution_count": 22,
     "metadata": {},
     "output_type": "execute_result"
    }
   ],
   "source": [
    "sum(test_result) / len(ds_liver)"
   ]
  },
  {
   "cell_type": "markdown",
   "id": "e990650a",
   "metadata": {},
   "source": [
    "We can see that the accuracy of leave-one-out compited by hand is the same as the `LeaveOneOut()` method in sklearn. So we will continue with sklearn method because of its simplicity. (We just implement it by hand to see we are going in the right direction)"
   ]
  },
  {
   "cell_type": "markdown",
   "id": "af080efd",
   "metadata": {},
   "source": [
    "Now as Example 3, we can compute the chi value"
   ]
  },
  {
   "cell_type": "code",
   "execution_count": 23,
   "id": "084a94e9",
   "metadata": {},
   "outputs": [
    {
     "data": {
      "text/plain": [
       "0.000682696668888828"
      ]
     },
     "execution_count": 23,
     "metadata": {},
     "output_type": "execute_result"
    }
   ],
   "source": [
    "sigma = (leaveOneOut_acc * (1 - leaveOneOut_acc)) / len(ds_liver)\n",
    "sigma"
   ]
  },
  {
   "cell_type": "code",
   "execution_count": 24,
   "id": "b2c3139b",
   "metadata": {},
   "outputs": [
    {
     "data": {
      "text/plain": [
       "8.171506028394088"
      ]
     },
     "execution_count": 24,
     "metadata": {},
     "output_type": "execute_result"
    }
   ],
   "source": [
    "## the folds was chosen 5 above\n",
    "chi_square = ((5-1) * sample_variance) / (5* sigma)\n",
    "chi_square"
   ]
  },
  {
   "cell_type": "code",
   "execution_count": 25,
   "id": "5a9a7365",
   "metadata": {},
   "outputs": [
    {
     "data": {
      "text/plain": [
       "0.9145060709028664"
      ]
     },
     "execution_count": 25,
     "metadata": {},
     "output_type": "execute_result"
    }
   ],
   "source": [
    "## number of freedom is one less than 5\n",
    "stats.chi2.cdf(chi_square, 4)"
   ]
  },
  {
   "cell_type": "markdown",
   "id": "afaca51b",
   "metadata": {},
   "source": [
    "With significance level $\\alpha = 0.05$, our null hypothesis cannot be reject because the p-value is $0.91$. And we can say that here 5 fold accuracies are independent.\n"
   ]
  },
  {
   "cell_type": "markdown",
   "id": "5e400b3a",
   "metadata": {},
   "source": [
    "# Table 2 Reproduction\n",
    "Here we will reproduce table 2 results. To do this we need to find the leave-one-out accuracies of `1-NN`, `3-NN`, `5-NN`, `7-NN` and `NBC` of different datasets."
   ]
  },
  {
   "cell_type": "markdown",
   "id": "b6ff9aa2",
   "metadata": {},
   "source": [
    "## Livers-Disorders"
   ]
  },
  {
   "cell_type": "code",
   "execution_count": 26,
   "id": "9130cbc9",
   "metadata": {},
   "outputs": [],
   "source": [
    "ds_liver = pd.read_csv('Datasets/liver-disorders/bupa.data', names=['mcv', 'alkphos', 'sgpt', 'sgot', 'gammagt', 'drinks', 'selector'])\n",
    "\n",
    "ds_liver_X = ds_liver[ds_liver.columns[:-1]]\n",
    "ds_liver_Y = ds_liver.selector"
   ]
  },
  {
   "cell_type": "code",
   "execution_count": 27,
   "id": "090f75ef",
   "metadata": {},
   "outputs": [],
   "source": [
    "def find_leave_one_out_results(dataset_X, dataset_Y, verbose=False):\n",
    "    \"\"\"\n",
    "    Find the leave-one-out results of a dataset for 1NN, 3NN, 5NN, 7NN and Naive Bayes algorithm\n",
    "    \n",
    "    Parameters:\n",
    "    ------------\n",
    "    dataset_X : array_like\n",
    "        the features vector\n",
    "    dataset_Y : array_like\n",
    "        the label for each feature\n",
    "    verbose : bool\n",
    "        print the progress if True\n",
    "        default is False\n",
    "        \n",
    "    Returns:\n",
    "    ---------\n",
    "    acc_dict : dictionary\n",
    "        the leave-one-out method applied on the dataset and the results of each method accuracy is returned\n",
    "    \"\"\"\n",
    "    ## initialize a dicitonary\n",
    "    acc_dict = {}\n",
    "    \n",
    "    ## 1-NN, 3-NN, 5-NN, 7-NN\n",
    "    for neighbours_count in [1, 3, 5, 7]:\n",
    "        ## initialize KNN classifier with neighbours_count value\n",
    "        KNN_Classifier = KNeighborsClassifier(n_neighbors=neighbours_count, p=2)\n",
    "        ## find the results of leave-one-out cross validation\n",
    "        KNN_leaveOneOut_result = cross_validate(KNN_Classifier, \n",
    "                                      dataset_X,\n",
    "                                      dataset_Y,\n",
    "                                      cv=LeaveOneOut(),\n",
    "                                      return_train_score=False,\n",
    "                                      return_estimator=False)\n",
    "\n",
    "        ## both dataset_X and dataset_Y have the same length\n",
    "        ## here just use one of it to find the accuracy of classification\n",
    "        acc_score = sum(KNN_leaveOneOut_result['test_score']) / len(dataset_X)\n",
    "        \n",
    "        if verbose:\n",
    "            print(f'{neighbours_count}-NN finished with accuracy score: {acc_score}')\n",
    "        \n",
    "        ## add the accuracy of the classifier to our results\n",
    "        acc_dict[f'{neighbours_count}NN'] = acc_score\n",
    "    \n",
    "    ## Appying Naive Bayes afterwards\n",
    "    \n",
    "    ## Naive Bayes\n",
    "    NB_Classifier = GaussianNB()\n",
    "    NB_leaveOneOut_result = cross_validate(NB_Classifier, \n",
    "                                  dataset_X,\n",
    "                                  dataset_Y,\n",
    "                                  cv=LeaveOneOut(),\n",
    "                                  return_train_score=False,\n",
    "                                  return_estimator=False)\n",
    "    ## get the accuracy of Nive Bayes and save it in the dictionary\n",
    "    NB_acc_score = sum(KNN_leaveOneOut_result['test_score']) / len(dataset_X)\n",
    "    acc_dict['NBC'] = NB_acc_score\n",
    "    \n",
    "    if verbose:\n",
    "        print(f'Naive Bayes finished with accuracy score: {NB_acc_score}')\n",
    "    \n",
    "    return acc_dict"
   ]
  },
  {
   "cell_type": "markdown",
   "id": "94d40586",
   "metadata": {},
   "source": [
    "Because of multiple runs of the project, We've created this function just to save the produced results and read them in the next runs."
   ]
  },
  {
   "cell_type": "code",
   "execution_count": 28,
   "id": "f79534e5",
   "metadata": {},
   "outputs": [],
   "source": [
    "def read_if_available_else_produce(dataset_X, dataset_Y, file_name):\n",
    "    \"\"\"\n",
    "    Read the data if available and else run the leave-one-out method on dataset\n",
    "    \n",
    "    Parameters:\n",
    "    ------------\n",
    "    dataset_X : array_like\n",
    "        the features vector\n",
    "    dataset_Y : array_like\n",
    "        the label for each feature\n",
    "    file_name : string\n",
    "        where to read or save the data\n",
    "    \n",
    "    Returns:\n",
    "    ---------\n",
    "    acc_dict : dictionary\n",
    "        the leave-one-out method applied on the dataset and the results of each method accuracy is returned\n",
    "    \"\"\"\n",
    "    ## initialize out of the conditions to have access to it\n",
    "    table2_results = {}\n",
    "    ## check if the results is not available then run the method to produce results\n",
    "    if os.path.isfile(file_name) == False:  \n",
    "        print(\"Results not available, Producing them\\n\")\n",
    "        table2_results = find_leave_one_out_results(dataset_X,\n",
    "                                                    dataset_Y,\n",
    "                                                    verbose=True)\n",
    "\n",
    "        ## save the results to use later\n",
    "        file = open(file_name, 'w')\n",
    "        json.dump(table2_results, file)\n",
    "        file.close()\n",
    "    else:\n",
    "        print(f\"Reading From previous data\\nResults from file {file_name}\")\n",
    "        file = open(file_name, 'r')\n",
    "        table2_results = file.read()\n",
    "        ## convert string to dictionary\n",
    "        table2_results = json.loads(table2_results)\n",
    "        file.close()\n",
    "\n",
    "    return table2_results\n"
   ]
  },
  {
   "cell_type": "code",
   "execution_count": 29,
   "id": "25f89449",
   "metadata": {},
   "outputs": [
    {
     "name": "stdout",
     "output_type": "stream",
     "text": [
      "Reading From previous data\n",
      "Results from file results/LeaveOneOut_liverDisorders.txt\n"
     ]
    },
    {
     "data": {
      "text/plain": [
       "{'1NN': 0.6202898550724638,\n",
       " '3NN': 0.6376811594202898,\n",
       " '5NN': 0.6608695652173913,\n",
       " '7NN': 0.6869565217391305,\n",
       " 'NBC': 0.6869565217391305}"
      ]
     },
     "execution_count": 29,
     "metadata": {},
     "output_type": "execute_result"
    }
   ],
   "source": [
    "livers_fileName = 'results/LeaveOneOut_liverDisorders.txt'\n",
    "table2_results_livers_disorder = read_if_available_else_produce(ds_liver_X, ds_liver_Y, livers_fileName)\n",
    "table2_results_livers_disorder"
   ]
  },
  {
   "cell_type": "markdown",
   "id": "b2ae14d1",
   "metadata": {},
   "source": [
    "## Letter-Recognition dataset\n",
    "dataset link: https://archive.ics.uci.edu/ml/machine-learning-databases/letter-recognition/"
   ]
  },
  {
   "cell_type": "code",
   "execution_count": 30,
   "id": "67a51654",
   "metadata": {},
   "outputs": [],
   "source": [
    "letter_recognition_cols = ['letter', 'x-box', 'y-box', \n",
    "                            'width', 'height', 'onpix', 'x-bar', 'y-bar',\n",
    "                            'x2-bar', 'y2-bar', 'xy-bar', 'x2y-bar','xy2-bar',\n",
    "                            'x-ege', 'xegvy', 'y-ege','yegvx']\n",
    "ds_letter_reco = pd.read_csv('Datasets/letter recognition/letter-recognition.data',\n",
    "                            names=letter_recognition_cols)"
   ]
  },
  {
   "cell_type": "code",
   "execution_count": 31,
   "id": "c430fc38",
   "metadata": {},
   "outputs": [
    {
     "data": {
      "text/html": [
       "<div>\n",
       "<style scoped>\n",
       "    .dataframe tbody tr th:only-of-type {\n",
       "        vertical-align: middle;\n",
       "    }\n",
       "\n",
       "    .dataframe tbody tr th {\n",
       "        vertical-align: top;\n",
       "    }\n",
       "\n",
       "    .dataframe thead th {\n",
       "        text-align: right;\n",
       "    }\n",
       "</style>\n",
       "<table border=\"1\" class=\"dataframe\">\n",
       "  <thead>\n",
       "    <tr style=\"text-align: right;\">\n",
       "      <th></th>\n",
       "      <th>letter</th>\n",
       "      <th>x-box</th>\n",
       "      <th>y-box</th>\n",
       "      <th>width</th>\n",
       "      <th>height</th>\n",
       "      <th>onpix</th>\n",
       "      <th>x-bar</th>\n",
       "      <th>y-bar</th>\n",
       "      <th>x2-bar</th>\n",
       "      <th>y2-bar</th>\n",
       "      <th>xy-bar</th>\n",
       "      <th>x2y-bar</th>\n",
       "      <th>xy2-bar</th>\n",
       "      <th>x-ege</th>\n",
       "      <th>xegvy</th>\n",
       "      <th>y-ege</th>\n",
       "      <th>yegvx</th>\n",
       "    </tr>\n",
       "  </thead>\n",
       "  <tbody>\n",
       "    <tr>\n",
       "      <th>0</th>\n",
       "      <td>T</td>\n",
       "      <td>2</td>\n",
       "      <td>8</td>\n",
       "      <td>3</td>\n",
       "      <td>5</td>\n",
       "      <td>1</td>\n",
       "      <td>8</td>\n",
       "      <td>13</td>\n",
       "      <td>0</td>\n",
       "      <td>6</td>\n",
       "      <td>6</td>\n",
       "      <td>10</td>\n",
       "      <td>8</td>\n",
       "      <td>0</td>\n",
       "      <td>8</td>\n",
       "      <td>0</td>\n",
       "      <td>8</td>\n",
       "    </tr>\n",
       "    <tr>\n",
       "      <th>1</th>\n",
       "      <td>I</td>\n",
       "      <td>5</td>\n",
       "      <td>12</td>\n",
       "      <td>3</td>\n",
       "      <td>7</td>\n",
       "      <td>2</td>\n",
       "      <td>10</td>\n",
       "      <td>5</td>\n",
       "      <td>5</td>\n",
       "      <td>4</td>\n",
       "      <td>13</td>\n",
       "      <td>3</td>\n",
       "      <td>9</td>\n",
       "      <td>2</td>\n",
       "      <td>8</td>\n",
       "      <td>4</td>\n",
       "      <td>10</td>\n",
       "    </tr>\n",
       "    <tr>\n",
       "      <th>2</th>\n",
       "      <td>D</td>\n",
       "      <td>4</td>\n",
       "      <td>11</td>\n",
       "      <td>6</td>\n",
       "      <td>8</td>\n",
       "      <td>6</td>\n",
       "      <td>10</td>\n",
       "      <td>6</td>\n",
       "      <td>2</td>\n",
       "      <td>6</td>\n",
       "      <td>10</td>\n",
       "      <td>3</td>\n",
       "      <td>7</td>\n",
       "      <td>3</td>\n",
       "      <td>7</td>\n",
       "      <td>3</td>\n",
       "      <td>9</td>\n",
       "    </tr>\n",
       "    <tr>\n",
       "      <th>3</th>\n",
       "      <td>N</td>\n",
       "      <td>7</td>\n",
       "      <td>11</td>\n",
       "      <td>6</td>\n",
       "      <td>6</td>\n",
       "      <td>3</td>\n",
       "      <td>5</td>\n",
       "      <td>9</td>\n",
       "      <td>4</td>\n",
       "      <td>6</td>\n",
       "      <td>4</td>\n",
       "      <td>4</td>\n",
       "      <td>10</td>\n",
       "      <td>6</td>\n",
       "      <td>10</td>\n",
       "      <td>2</td>\n",
       "      <td>8</td>\n",
       "    </tr>\n",
       "    <tr>\n",
       "      <th>4</th>\n",
       "      <td>G</td>\n",
       "      <td>2</td>\n",
       "      <td>1</td>\n",
       "      <td>3</td>\n",
       "      <td>1</td>\n",
       "      <td>1</td>\n",
       "      <td>8</td>\n",
       "      <td>6</td>\n",
       "      <td>6</td>\n",
       "      <td>6</td>\n",
       "      <td>6</td>\n",
       "      <td>5</td>\n",
       "      <td>9</td>\n",
       "      <td>1</td>\n",
       "      <td>7</td>\n",
       "      <td>5</td>\n",
       "      <td>10</td>\n",
       "    </tr>\n",
       "  </tbody>\n",
       "</table>\n",
       "</div>"
      ],
      "text/plain": [
       "  letter  x-box  y-box  width  height  onpix  x-bar  y-bar  x2-bar  y2-bar  \\\n",
       "0      T      2      8      3       5      1      8     13       0       6   \n",
       "1      I      5     12      3       7      2     10      5       5       4   \n",
       "2      D      4     11      6       8      6     10      6       2       6   \n",
       "3      N      7     11      6       6      3      5      9       4       6   \n",
       "4      G      2      1      3       1      1      8      6       6       6   \n",
       "\n",
       "   xy-bar  x2y-bar  xy2-bar  x-ege  xegvy  y-ege  yegvx  \n",
       "0       6       10        8      0      8      0      8  \n",
       "1      13        3        9      2      8      4     10  \n",
       "2      10        3        7      3      7      3      9  \n",
       "3       4        4       10      6     10      2      8  \n",
       "4       6        5        9      1      7      5     10  "
      ]
     },
     "execution_count": 31,
     "metadata": {},
     "output_type": "execute_result"
    }
   ],
   "source": [
    "ds_letter_reco.head()"
   ]
  },
  {
   "cell_type": "code",
   "execution_count": 32,
   "id": "c45f34ff",
   "metadata": {},
   "outputs": [],
   "source": [
    "ds_letter_reco_X = ds_letter_reco[letter_recognition_cols[1:]]\n",
    "ds_letter_reco_Y = ds_letter_reco[letter_recognition_cols[0]]"
   ]
  },
  {
   "cell_type": "code",
   "execution_count": 33,
   "id": "2ed695cb",
   "metadata": {},
   "outputs": [
    {
     "name": "stdout",
     "output_type": "stream",
     "text": [
      "Reading From previous data\n",
      "Results from file results/LeaveOneOut_letter_recognition.txt\n"
     ]
    },
    {
     "data": {
      "text/plain": [
       "{'1NN': 0.96245, '3NN': 0.9595, '5NN': 0.958, '7NN': 0.95585, 'NBC': 0.95585}"
      ]
     },
     "execution_count": 33,
     "metadata": {},
     "output_type": "execute_result"
    }
   ],
   "source": [
    "letter_recognition_result_fileName = 'results/LeaveOneOut_letter_recognition.txt'\n",
    "table2_results_letter_recognition = read_if_available_else_produce(ds_letter_reco_X,\n",
    "                               ds_letter_reco_Y\n",
    "                              ,letter_recognition_result_fileName)\n",
    "table2_results_letter_recognition"
   ]
  },
  {
   "cell_type": "markdown",
   "id": "a424020b",
   "metadata": {},
   "source": [
    "## MAGIC gamma telescope data\n",
    "Link: https://archive.ics.uci.edu/ml/datasets/magic+gamma+telescope"
   ]
  },
  {
   "cell_type": "code",
   "execution_count": 34,
   "id": "6d319799",
   "metadata": {},
   "outputs": [],
   "source": [
    "ds_magic_gamma = pd.read_csv('Datasets/magic/magic04.data', \n",
    "                             names=['fLength', 'fWidth', 'fSize', 'fConc',\n",
    "                                   'fConc1', 'fAsym', 'fM3Long', 'fM3Trans',\n",
    "                                   'fAlpha', 'fDist', 'class'])"
   ]
  },
  {
   "cell_type": "code",
   "execution_count": 35,
   "id": "22c0fee4",
   "metadata": {},
   "outputs": [
    {
     "data": {
      "text/html": [
       "<div>\n",
       "<style scoped>\n",
       "    .dataframe tbody tr th:only-of-type {\n",
       "        vertical-align: middle;\n",
       "    }\n",
       "\n",
       "    .dataframe tbody tr th {\n",
       "        vertical-align: top;\n",
       "    }\n",
       "\n",
       "    .dataframe thead th {\n",
       "        text-align: right;\n",
       "    }\n",
       "</style>\n",
       "<table border=\"1\" class=\"dataframe\">\n",
       "  <thead>\n",
       "    <tr style=\"text-align: right;\">\n",
       "      <th></th>\n",
       "      <th>fLength</th>\n",
       "      <th>fWidth</th>\n",
       "      <th>fSize</th>\n",
       "      <th>fConc</th>\n",
       "      <th>fConc1</th>\n",
       "      <th>fAsym</th>\n",
       "      <th>fM3Long</th>\n",
       "      <th>fM3Trans</th>\n",
       "      <th>fAlpha</th>\n",
       "      <th>fDist</th>\n",
       "      <th>class</th>\n",
       "    </tr>\n",
       "  </thead>\n",
       "  <tbody>\n",
       "    <tr>\n",
       "      <th>0</th>\n",
       "      <td>28.7967</td>\n",
       "      <td>16.0021</td>\n",
       "      <td>2.6449</td>\n",
       "      <td>0.3918</td>\n",
       "      <td>0.1982</td>\n",
       "      <td>27.7004</td>\n",
       "      <td>22.0110</td>\n",
       "      <td>-8.2027</td>\n",
       "      <td>40.0920</td>\n",
       "      <td>81.8828</td>\n",
       "      <td>g</td>\n",
       "    </tr>\n",
       "    <tr>\n",
       "      <th>1</th>\n",
       "      <td>31.6036</td>\n",
       "      <td>11.7235</td>\n",
       "      <td>2.5185</td>\n",
       "      <td>0.5303</td>\n",
       "      <td>0.3773</td>\n",
       "      <td>26.2722</td>\n",
       "      <td>23.8238</td>\n",
       "      <td>-9.9574</td>\n",
       "      <td>6.3609</td>\n",
       "      <td>205.2610</td>\n",
       "      <td>g</td>\n",
       "    </tr>\n",
       "    <tr>\n",
       "      <th>2</th>\n",
       "      <td>162.0520</td>\n",
       "      <td>136.0310</td>\n",
       "      <td>4.0612</td>\n",
       "      <td>0.0374</td>\n",
       "      <td>0.0187</td>\n",
       "      <td>116.7410</td>\n",
       "      <td>-64.8580</td>\n",
       "      <td>-45.2160</td>\n",
       "      <td>76.9600</td>\n",
       "      <td>256.7880</td>\n",
       "      <td>g</td>\n",
       "    </tr>\n",
       "    <tr>\n",
       "      <th>3</th>\n",
       "      <td>23.8172</td>\n",
       "      <td>9.5728</td>\n",
       "      <td>2.3385</td>\n",
       "      <td>0.6147</td>\n",
       "      <td>0.3922</td>\n",
       "      <td>27.2107</td>\n",
       "      <td>-6.4633</td>\n",
       "      <td>-7.1513</td>\n",
       "      <td>10.4490</td>\n",
       "      <td>116.7370</td>\n",
       "      <td>g</td>\n",
       "    </tr>\n",
       "    <tr>\n",
       "      <th>4</th>\n",
       "      <td>75.1362</td>\n",
       "      <td>30.9205</td>\n",
       "      <td>3.1611</td>\n",
       "      <td>0.3168</td>\n",
       "      <td>0.1832</td>\n",
       "      <td>-5.5277</td>\n",
       "      <td>28.5525</td>\n",
       "      <td>21.8393</td>\n",
       "      <td>4.6480</td>\n",
       "      <td>356.4620</td>\n",
       "      <td>g</td>\n",
       "    </tr>\n",
       "  </tbody>\n",
       "</table>\n",
       "</div>"
      ],
      "text/plain": [
       "    fLength    fWidth   fSize   fConc  fConc1     fAsym  fM3Long  fM3Trans  \\\n",
       "0   28.7967   16.0021  2.6449  0.3918  0.1982   27.7004  22.0110   -8.2027   \n",
       "1   31.6036   11.7235  2.5185  0.5303  0.3773   26.2722  23.8238   -9.9574   \n",
       "2  162.0520  136.0310  4.0612  0.0374  0.0187  116.7410 -64.8580  -45.2160   \n",
       "3   23.8172    9.5728  2.3385  0.6147  0.3922   27.2107  -6.4633   -7.1513   \n",
       "4   75.1362   30.9205  3.1611  0.3168  0.1832   -5.5277  28.5525   21.8393   \n",
       "\n",
       "    fAlpha     fDist class  \n",
       "0  40.0920   81.8828     g  \n",
       "1   6.3609  205.2610     g  \n",
       "2  76.9600  256.7880     g  \n",
       "3  10.4490  116.7370     g  \n",
       "4   4.6480  356.4620     g  "
      ]
     },
     "execution_count": 35,
     "metadata": {},
     "output_type": "execute_result"
    }
   ],
   "source": [
    "ds_magic_gamma.head()"
   ]
  },
  {
   "cell_type": "code",
   "execution_count": 36,
   "id": "f531dc8d",
   "metadata": {},
   "outputs": [],
   "source": [
    "ds_magic_gamma_X = ds_magic_gamma[ds_magic_gamma.columns[:-1]]\n",
    "ds_magic_gamma_Y = ds_magic_gamma['class']"
   ]
  },
  {
   "cell_type": "code",
   "execution_count": 37,
   "id": "4a920e69",
   "metadata": {},
   "outputs": [
    {
     "name": "stdout",
     "output_type": "stream",
     "text": [
      "Reading From previous data\n",
      "Results from file results/LeaveOneOut_magic_gamma.txt\n"
     ]
    }
   ],
   "source": [
    "magic_gamma_FileName = 'results/LeaveOneOut_magic_gamma.txt'\n",
    "table2_results_magic_gamma = read_if_available_else_produce(ds_letter_reco_X,\n",
    "                                                            ds_letter_reco_Y,\n",
    "                                                            magic_gamma_FileName)"
   ]
  },
  {
   "cell_type": "code",
   "execution_count": 38,
   "id": "5cb8dba0",
   "metadata": {},
   "outputs": [
    {
     "data": {
      "text/plain": [
       "{'1NN': 0.96245, '3NN': 0.9595, '5NN': 0.958, '7NN': 0.95585, 'NBC': 0.95585}"
      ]
     },
     "execution_count": 38,
     "metadata": {},
     "output_type": "execute_result"
    }
   ],
   "source": [
    "table2_results_magic_gamma"
   ]
  },
  {
   "cell_type": "markdown",
   "id": "a5f4d372",
   "metadata": {},
   "source": [
    "## Page-Blocks dataset\n",
    "Link: https://archive.ics.uci.edu/ml/datasets/Page+Blocks+Classification"
   ]
  },
  {
   "cell_type": "code",
   "execution_count": 39,
   "id": "c8689bb8",
   "metadata": {},
   "outputs": [],
   "source": [
    "ds_page_blocks = pd.read_csv('Datasets/page-blocks/page-blocks.data', \n",
    "                             sep=' +',\n",
    "                             engine='python',\n",
    "                             names=['height', 'length', 'area', 'eccen',\n",
    "                                   'p_black', 'p_and', 'mean_tr', 'blackpix',\n",
    "                                   'blackand', 'wb_trans'])"
   ]
  },
  {
   "cell_type": "code",
   "execution_count": 40,
   "id": "cdcd3eda",
   "metadata": {},
   "outputs": [
    {
     "data": {
      "text/html": [
       "<div>\n",
       "<style scoped>\n",
       "    .dataframe tbody tr th:only-of-type {\n",
       "        vertical-align: middle;\n",
       "    }\n",
       "\n",
       "    .dataframe tbody tr th {\n",
       "        vertical-align: top;\n",
       "    }\n",
       "\n",
       "    .dataframe thead th {\n",
       "        text-align: right;\n",
       "    }\n",
       "</style>\n",
       "<table border=\"1\" class=\"dataframe\">\n",
       "  <thead>\n",
       "    <tr style=\"text-align: right;\">\n",
       "      <th></th>\n",
       "      <th>height</th>\n",
       "      <th>length</th>\n",
       "      <th>area</th>\n",
       "      <th>eccen</th>\n",
       "      <th>p_black</th>\n",
       "      <th>p_and</th>\n",
       "      <th>mean_tr</th>\n",
       "      <th>blackpix</th>\n",
       "      <th>blackand</th>\n",
       "      <th>wb_trans</th>\n",
       "    </tr>\n",
       "  </thead>\n",
       "  <tbody>\n",
       "    <tr>\n",
       "      <th>5</th>\n",
       "      <td>7</td>\n",
       "      <td>35</td>\n",
       "      <td>1.400</td>\n",
       "      <td>0.400</td>\n",
       "      <td>0.657</td>\n",
       "      <td>2.33</td>\n",
       "      <td>14</td>\n",
       "      <td>23</td>\n",
       "      <td>6</td>\n",
       "      <td>1</td>\n",
       "    </tr>\n",
       "    <tr>\n",
       "      <th>6</th>\n",
       "      <td>7</td>\n",
       "      <td>42</td>\n",
       "      <td>1.167</td>\n",
       "      <td>0.429</td>\n",
       "      <td>0.881</td>\n",
       "      <td>3.60</td>\n",
       "      <td>18</td>\n",
       "      <td>37</td>\n",
       "      <td>5</td>\n",
       "      <td>1</td>\n",
       "    </tr>\n",
       "    <tr>\n",
       "      <th>6</th>\n",
       "      <td>18</td>\n",
       "      <td>108</td>\n",
       "      <td>3.000</td>\n",
       "      <td>0.287</td>\n",
       "      <td>0.741</td>\n",
       "      <td>4.43</td>\n",
       "      <td>31</td>\n",
       "      <td>80</td>\n",
       "      <td>7</td>\n",
       "      <td>1</td>\n",
       "    </tr>\n",
       "    <tr>\n",
       "      <th>5</th>\n",
       "      <td>7</td>\n",
       "      <td>35</td>\n",
       "      <td>1.400</td>\n",
       "      <td>0.371</td>\n",
       "      <td>0.743</td>\n",
       "      <td>4.33</td>\n",
       "      <td>13</td>\n",
       "      <td>26</td>\n",
       "      <td>3</td>\n",
       "      <td>1</td>\n",
       "    </tr>\n",
       "    <tr>\n",
       "      <th>6</th>\n",
       "      <td>3</td>\n",
       "      <td>18</td>\n",
       "      <td>0.500</td>\n",
       "      <td>0.500</td>\n",
       "      <td>0.944</td>\n",
       "      <td>2.25</td>\n",
       "      <td>9</td>\n",
       "      <td>17</td>\n",
       "      <td>4</td>\n",
       "      <td>1</td>\n",
       "    </tr>\n",
       "  </tbody>\n",
       "</table>\n",
       "</div>"
      ],
      "text/plain": [
       "   height  length   area  eccen  p_black  p_and  mean_tr  blackpix  blackand  \\\n",
       "5       7      35  1.400  0.400    0.657   2.33       14        23         6   \n",
       "6       7      42  1.167  0.429    0.881   3.60       18        37         5   \n",
       "6      18     108  3.000  0.287    0.741   4.43       31        80         7   \n",
       "5       7      35  1.400  0.371    0.743   4.33       13        26         3   \n",
       "6       3      18  0.500  0.500    0.944   2.25        9        17         4   \n",
       "\n",
       "   wb_trans  \n",
       "5         1  \n",
       "6         1  \n",
       "6         1  \n",
       "5         1  \n",
       "6         1  "
      ]
     },
     "execution_count": 40,
     "metadata": {},
     "output_type": "execute_result"
    }
   ],
   "source": [
    "ds_page_blocks.head()\n"
   ]
  },
  {
   "cell_type": "code",
   "execution_count": 41,
   "id": "cd197ad1",
   "metadata": {},
   "outputs": [],
   "source": [
    "ds_page_blocks_X = ds_page_blocks[ds_page_blocks.columns[:-1]]\n",
    "ds_page_blocks_Y = ds_page_blocks.wb_trans"
   ]
  },
  {
   "cell_type": "code",
   "execution_count": 42,
   "id": "74c2f856",
   "metadata": {},
   "outputs": [
    {
     "name": "stdout",
     "output_type": "stream",
     "text": [
      "Reading From previous data\n",
      "Results from file results/LeaveOneOut_page_blocks.txt\n"
     ]
    },
    {
     "data": {
      "text/plain": [
       "{'1NN': 0.9572446555819477,\n",
       " '3NN': 0.9574273707290334,\n",
       " '5NN': 0.957061940434862,\n",
       " '7NN': 0.9552347889640052,\n",
       " 'NBC': 0.9552347889640052}"
      ]
     },
     "execution_count": 42,
     "metadata": {},
     "output_type": "execute_result"
    }
   ],
   "source": [
    "page_blocks_FileName = 'results/LeaveOneOut_page_blocks.txt'\n",
    "table2_results_page_blocks = read_if_available_else_produce(ds_page_blocks_X,\n",
    "                                                            ds_page_blocks_Y,\n",
    "                                                            page_blocks_FileName)\n",
    "table2_results_page_blocks"
   ]
  },
  {
   "cell_type": "markdown",
   "id": "0fe78b0a",
   "metadata": {},
   "source": [
    "## Wine Quality dataset\n",
    "Link: https://archive.ics.uci.edu/ml/datasets/wine+quality"
   ]
  },
  {
   "cell_type": "markdown",
   "id": "03c382d4",
   "metadata": {},
   "source": [
    "### White Wine"
   ]
  },
  {
   "cell_type": "code",
   "execution_count": 43,
   "id": "2b244aa3",
   "metadata": {},
   "outputs": [
    {
     "data": {
      "text/html": [
       "<div>\n",
       "<style scoped>\n",
       "    .dataframe tbody tr th:only-of-type {\n",
       "        vertical-align: middle;\n",
       "    }\n",
       "\n",
       "    .dataframe tbody tr th {\n",
       "        vertical-align: top;\n",
       "    }\n",
       "\n",
       "    .dataframe thead th {\n",
       "        text-align: right;\n",
       "    }\n",
       "</style>\n",
       "<table border=\"1\" class=\"dataframe\">\n",
       "  <thead>\n",
       "    <tr style=\"text-align: right;\">\n",
       "      <th></th>\n",
       "      <th>fixed acidity</th>\n",
       "      <th>volatile acidity</th>\n",
       "      <th>citric acid</th>\n",
       "      <th>residual sugar</th>\n",
       "      <th>chlorides</th>\n",
       "      <th>free sulfur dioxide</th>\n",
       "      <th>total sulfur dioxide</th>\n",
       "      <th>density</th>\n",
       "      <th>pH</th>\n",
       "      <th>sulphates</th>\n",
       "      <th>alcohol</th>\n",
       "      <th>quality</th>\n",
       "    </tr>\n",
       "  </thead>\n",
       "  <tbody>\n",
       "    <tr>\n",
       "      <th>0</th>\n",
       "      <td>7.4</td>\n",
       "      <td>0.70</td>\n",
       "      <td>0.00</td>\n",
       "      <td>1.9</td>\n",
       "      <td>0.076</td>\n",
       "      <td>11.0</td>\n",
       "      <td>34.0</td>\n",
       "      <td>0.9978</td>\n",
       "      <td>3.51</td>\n",
       "      <td>0.56</td>\n",
       "      <td>9.4</td>\n",
       "      <td>5</td>\n",
       "    </tr>\n",
       "    <tr>\n",
       "      <th>1</th>\n",
       "      <td>7.8</td>\n",
       "      <td>0.88</td>\n",
       "      <td>0.00</td>\n",
       "      <td>2.6</td>\n",
       "      <td>0.098</td>\n",
       "      <td>25.0</td>\n",
       "      <td>67.0</td>\n",
       "      <td>0.9968</td>\n",
       "      <td>3.20</td>\n",
       "      <td>0.68</td>\n",
       "      <td>9.8</td>\n",
       "      <td>5</td>\n",
       "    </tr>\n",
       "    <tr>\n",
       "      <th>2</th>\n",
       "      <td>7.8</td>\n",
       "      <td>0.76</td>\n",
       "      <td>0.04</td>\n",
       "      <td>2.3</td>\n",
       "      <td>0.092</td>\n",
       "      <td>15.0</td>\n",
       "      <td>54.0</td>\n",
       "      <td>0.9970</td>\n",
       "      <td>3.26</td>\n",
       "      <td>0.65</td>\n",
       "      <td>9.8</td>\n",
       "      <td>5</td>\n",
       "    </tr>\n",
       "    <tr>\n",
       "      <th>3</th>\n",
       "      <td>11.2</td>\n",
       "      <td>0.28</td>\n",
       "      <td>0.56</td>\n",
       "      <td>1.9</td>\n",
       "      <td>0.075</td>\n",
       "      <td>17.0</td>\n",
       "      <td>60.0</td>\n",
       "      <td>0.9980</td>\n",
       "      <td>3.16</td>\n",
       "      <td>0.58</td>\n",
       "      <td>9.8</td>\n",
       "      <td>6</td>\n",
       "    </tr>\n",
       "    <tr>\n",
       "      <th>4</th>\n",
       "      <td>7.4</td>\n",
       "      <td>0.70</td>\n",
       "      <td>0.00</td>\n",
       "      <td>1.9</td>\n",
       "      <td>0.076</td>\n",
       "      <td>11.0</td>\n",
       "      <td>34.0</td>\n",
       "      <td>0.9978</td>\n",
       "      <td>3.51</td>\n",
       "      <td>0.56</td>\n",
       "      <td>9.4</td>\n",
       "      <td>5</td>\n",
       "    </tr>\n",
       "  </tbody>\n",
       "</table>\n",
       "</div>"
      ],
      "text/plain": [
       "   fixed acidity  volatile acidity  citric acid  residual sugar  chlorides  \\\n",
       "0            7.4              0.70         0.00             1.9      0.076   \n",
       "1            7.8              0.88         0.00             2.6      0.098   \n",
       "2            7.8              0.76         0.04             2.3      0.092   \n",
       "3           11.2              0.28         0.56             1.9      0.075   \n",
       "4            7.4              0.70         0.00             1.9      0.076   \n",
       "\n",
       "   free sulfur dioxide  total sulfur dioxide  density    pH  sulphates  \\\n",
       "0                 11.0                  34.0   0.9978  3.51       0.56   \n",
       "1                 25.0                  67.0   0.9968  3.20       0.68   \n",
       "2                 15.0                  54.0   0.9970  3.26       0.65   \n",
       "3                 17.0                  60.0   0.9980  3.16       0.58   \n",
       "4                 11.0                  34.0   0.9978  3.51       0.56   \n",
       "\n",
       "   alcohol  quality  \n",
       "0      9.4        5  \n",
       "1      9.8        5  \n",
       "2      9.8        5  \n",
       "3      9.8        6  \n",
       "4      9.4        5  "
      ]
     },
     "execution_count": 43,
     "metadata": {},
     "output_type": "execute_result"
    }
   ],
   "source": [
    "ds_redWine = pd.read_csv('Datasets/wine-quality/winequality-red.csv', sep=';')\n",
    "ds_redWine.head()"
   ]
  },
  {
   "cell_type": "code",
   "execution_count": 44,
   "id": "3ba06cd3",
   "metadata": {},
   "outputs": [],
   "source": [
    "ds_redWine_X = ds_redWine[ds_redWine.columns[:-1]]\n",
    "ds_redWine_Y = ds_redWine.quality"
   ]
  },
  {
   "cell_type": "code",
   "execution_count": 45,
   "id": "3c2338ad",
   "metadata": {},
   "outputs": [
    {
     "name": "stdout",
     "output_type": "stream",
     "text": [
      "Reading From previous data\n",
      "Results from file results/LeaveOneOut_redWine.txt\n"
     ]
    },
    {
     "data": {
      "text/plain": [
       "{'1NN': 0.6153846153846154,\n",
       " '3NN': 0.5234521575984991,\n",
       " '5NN': 0.5103189493433395,\n",
       " '7NN': 0.4996873045653533,\n",
       " 'NBC': 0.4996873045653533}"
      ]
     },
     "execution_count": 45,
     "metadata": {},
     "output_type": "execute_result"
    }
   ],
   "source": [
    "redWine_FileName = 'results/LeaveOneOut_redWine.txt'\n",
    "table2_results_redWine = read_if_available_else_produce(ds_redWine_X,\n",
    "                                                        ds_redWine_Y,\n",
    "                                                        redWine_FileName)\n",
    "table2_results_redWine"
   ]
  },
  {
   "cell_type": "markdown",
   "id": "18211369",
   "metadata": {},
   "source": [
    "### Red Wine"
   ]
  },
  {
   "cell_type": "code",
   "execution_count": 46,
   "id": "a36164ed",
   "metadata": {},
   "outputs": [
    {
     "data": {
      "text/html": [
       "<div>\n",
       "<style scoped>\n",
       "    .dataframe tbody tr th:only-of-type {\n",
       "        vertical-align: middle;\n",
       "    }\n",
       "\n",
       "    .dataframe tbody tr th {\n",
       "        vertical-align: top;\n",
       "    }\n",
       "\n",
       "    .dataframe thead th {\n",
       "        text-align: right;\n",
       "    }\n",
       "</style>\n",
       "<table border=\"1\" class=\"dataframe\">\n",
       "  <thead>\n",
       "    <tr style=\"text-align: right;\">\n",
       "      <th></th>\n",
       "      <th>fixed acidity</th>\n",
       "      <th>volatile acidity</th>\n",
       "      <th>citric acid</th>\n",
       "      <th>residual sugar</th>\n",
       "      <th>chlorides</th>\n",
       "      <th>free sulfur dioxide</th>\n",
       "      <th>total sulfur dioxide</th>\n",
       "      <th>density</th>\n",
       "      <th>pH</th>\n",
       "      <th>sulphates</th>\n",
       "      <th>alcohol</th>\n",
       "      <th>quality</th>\n",
       "    </tr>\n",
       "  </thead>\n",
       "  <tbody>\n",
       "    <tr>\n",
       "      <th>0</th>\n",
       "      <td>7.0</td>\n",
       "      <td>0.27</td>\n",
       "      <td>0.36</td>\n",
       "      <td>20.7</td>\n",
       "      <td>0.045</td>\n",
       "      <td>45.0</td>\n",
       "      <td>170.0</td>\n",
       "      <td>1.0010</td>\n",
       "      <td>3.00</td>\n",
       "      <td>0.45</td>\n",
       "      <td>8.8</td>\n",
       "      <td>6</td>\n",
       "    </tr>\n",
       "    <tr>\n",
       "      <th>1</th>\n",
       "      <td>6.3</td>\n",
       "      <td>0.30</td>\n",
       "      <td>0.34</td>\n",
       "      <td>1.6</td>\n",
       "      <td>0.049</td>\n",
       "      <td>14.0</td>\n",
       "      <td>132.0</td>\n",
       "      <td>0.9940</td>\n",
       "      <td>3.30</td>\n",
       "      <td>0.49</td>\n",
       "      <td>9.5</td>\n",
       "      <td>6</td>\n",
       "    </tr>\n",
       "    <tr>\n",
       "      <th>2</th>\n",
       "      <td>8.1</td>\n",
       "      <td>0.28</td>\n",
       "      <td>0.40</td>\n",
       "      <td>6.9</td>\n",
       "      <td>0.050</td>\n",
       "      <td>30.0</td>\n",
       "      <td>97.0</td>\n",
       "      <td>0.9951</td>\n",
       "      <td>3.26</td>\n",
       "      <td>0.44</td>\n",
       "      <td>10.1</td>\n",
       "      <td>6</td>\n",
       "    </tr>\n",
       "    <tr>\n",
       "      <th>3</th>\n",
       "      <td>7.2</td>\n",
       "      <td>0.23</td>\n",
       "      <td>0.32</td>\n",
       "      <td>8.5</td>\n",
       "      <td>0.058</td>\n",
       "      <td>47.0</td>\n",
       "      <td>186.0</td>\n",
       "      <td>0.9956</td>\n",
       "      <td>3.19</td>\n",
       "      <td>0.40</td>\n",
       "      <td>9.9</td>\n",
       "      <td>6</td>\n",
       "    </tr>\n",
       "    <tr>\n",
       "      <th>4</th>\n",
       "      <td>7.2</td>\n",
       "      <td>0.23</td>\n",
       "      <td>0.32</td>\n",
       "      <td>8.5</td>\n",
       "      <td>0.058</td>\n",
       "      <td>47.0</td>\n",
       "      <td>186.0</td>\n",
       "      <td>0.9956</td>\n",
       "      <td>3.19</td>\n",
       "      <td>0.40</td>\n",
       "      <td>9.9</td>\n",
       "      <td>6</td>\n",
       "    </tr>\n",
       "  </tbody>\n",
       "</table>\n",
       "</div>"
      ],
      "text/plain": [
       "   fixed acidity  volatile acidity  citric acid  residual sugar  chlorides  \\\n",
       "0            7.0              0.27         0.36            20.7      0.045   \n",
       "1            6.3              0.30         0.34             1.6      0.049   \n",
       "2            8.1              0.28         0.40             6.9      0.050   \n",
       "3            7.2              0.23         0.32             8.5      0.058   \n",
       "4            7.2              0.23         0.32             8.5      0.058   \n",
       "\n",
       "   free sulfur dioxide  total sulfur dioxide  density    pH  sulphates  \\\n",
       "0                 45.0                 170.0   1.0010  3.00       0.45   \n",
       "1                 14.0                 132.0   0.9940  3.30       0.49   \n",
       "2                 30.0                  97.0   0.9951  3.26       0.44   \n",
       "3                 47.0                 186.0   0.9956  3.19       0.40   \n",
       "4                 47.0                 186.0   0.9956  3.19       0.40   \n",
       "\n",
       "   alcohol  quality  \n",
       "0      8.8        6  \n",
       "1      9.5        6  \n",
       "2     10.1        6  \n",
       "3      9.9        6  \n",
       "4      9.9        6  "
      ]
     },
     "execution_count": 46,
     "metadata": {},
     "output_type": "execute_result"
    }
   ],
   "source": [
    "ds_whiteWine = pd.read_csv('Datasets/wine-quality/winequality-white.csv', sep=';')\n",
    "ds_whiteWine.head()"
   ]
  },
  {
   "cell_type": "code",
   "execution_count": 47,
   "id": "b59c41b4",
   "metadata": {},
   "outputs": [],
   "source": [
    "ds_whiteWine_X = ds_whiteWine[ds_whiteWine.columns[:-1]]\n",
    "ds_whiteWine_Y = ds_whiteWine.quality"
   ]
  },
  {
   "cell_type": "code",
   "execution_count": 48,
   "id": "5f1ec9a7",
   "metadata": {},
   "outputs": [
    {
     "name": "stdout",
     "output_type": "stream",
     "text": [
      "Reading From previous data\n",
      "Results from file results/LeaveOneOut_white_Wine.txt\n"
     ]
    },
    {
     "data": {
      "text/plain": [
       "{'1NN': 0.6161698652511229,\n",
       " '3NN': 0.5065332788893426,\n",
       " '5NN': 0.4959167006941609,\n",
       " '7NN': 0.4881584320130666,\n",
       " 'NBC': 0.4881584320130666}"
      ]
     },
     "execution_count": 48,
     "metadata": {},
     "output_type": "execute_result"
    }
   ],
   "source": [
    "white_Wine_FileName = 'results/LeaveOneOut_white_Wine.txt'\n",
    "table2_results_White_Wine = read_if_available_else_produce(ds_whiteWine_X,\n",
    "                                                        ds_whiteWine_Y,\n",
    "                                                        white_Wine_FileName)\n",
    "table2_results_White_Wine"
   ]
  },
  {
   "cell_type": "markdown",
   "id": "4fb46e15",
   "metadata": {},
   "source": [
    "## Haberman's survival dataset\n",
    "Link: https://archive.ics.uci.edu/ml/datasets/haberman's+survival"
   ]
  },
  {
   "cell_type": "code",
   "execution_count": 49,
   "id": "503b560d",
   "metadata": {},
   "outputs": [
    {
     "data": {
      "text/html": [
       "<div>\n",
       "<style scoped>\n",
       "    .dataframe tbody tr th:only-of-type {\n",
       "        vertical-align: middle;\n",
       "    }\n",
       "\n",
       "    .dataframe tbody tr th {\n",
       "        vertical-align: top;\n",
       "    }\n",
       "\n",
       "    .dataframe thead th {\n",
       "        text-align: right;\n",
       "    }\n",
       "</style>\n",
       "<table border=\"1\" class=\"dataframe\">\n",
       "  <thead>\n",
       "    <tr style=\"text-align: right;\">\n",
       "      <th></th>\n",
       "      <th>Age</th>\n",
       "      <th>op_year</th>\n",
       "      <th>auxilary_node</th>\n",
       "      <th>survival</th>\n",
       "    </tr>\n",
       "  </thead>\n",
       "  <tbody>\n",
       "    <tr>\n",
       "      <th>0</th>\n",
       "      <td>30</td>\n",
       "      <td>64</td>\n",
       "      <td>1</td>\n",
       "      <td>1</td>\n",
       "    </tr>\n",
       "    <tr>\n",
       "      <th>1</th>\n",
       "      <td>30</td>\n",
       "      <td>62</td>\n",
       "      <td>3</td>\n",
       "      <td>1</td>\n",
       "    </tr>\n",
       "    <tr>\n",
       "      <th>2</th>\n",
       "      <td>30</td>\n",
       "      <td>65</td>\n",
       "      <td>0</td>\n",
       "      <td>1</td>\n",
       "    </tr>\n",
       "    <tr>\n",
       "      <th>3</th>\n",
       "      <td>31</td>\n",
       "      <td>59</td>\n",
       "      <td>2</td>\n",
       "      <td>1</td>\n",
       "    </tr>\n",
       "    <tr>\n",
       "      <th>4</th>\n",
       "      <td>31</td>\n",
       "      <td>65</td>\n",
       "      <td>4</td>\n",
       "      <td>1</td>\n",
       "    </tr>\n",
       "  </tbody>\n",
       "</table>\n",
       "</div>"
      ],
      "text/plain": [
       "   Age  op_year  auxilary_node  survival\n",
       "0   30       64              1         1\n",
       "1   30       62              3         1\n",
       "2   30       65              0         1\n",
       "3   31       59              2         1\n",
       "4   31       65              4         1"
      ]
     },
     "execution_count": 49,
     "metadata": {},
     "output_type": "execute_result"
    }
   ],
   "source": [
    "ds_haberman = pd.read_csv('Datasets/haberman/haberman.data', \n",
    "                          names=['Age', 'op_year', 'auxilary_node', 'survival'])\n",
    "ds_haberman.head()"
   ]
  },
  {
   "cell_type": "code",
   "execution_count": 50,
   "id": "803895fb",
   "metadata": {},
   "outputs": [],
   "source": [
    "ds_haberman_X = ds_haberman[ds_haberman.columns[:-1]]\n",
    "ds_haberman_Y = ds_haberman.survival"
   ]
  },
  {
   "cell_type": "code",
   "execution_count": 51,
   "id": "3a650ca4",
   "metadata": {},
   "outputs": [
    {
     "name": "stdout",
     "output_type": "stream",
     "text": [
      "Reading From previous data\n",
      "Results from file results/LeaveOneOut_haberman.txt\n"
     ]
    },
    {
     "data": {
      "text/plain": [
       "{'1NN': 0.6764705882352942,\n",
       " '3NN': 0.7026143790849673,\n",
       " '5NN': 0.7222222222222222,\n",
       " '7NN': 0.7254901960784313,\n",
       " 'NBC': 0.7254901960784313}"
      ]
     },
     "execution_count": 51,
     "metadata": {},
     "output_type": "execute_result"
    }
   ],
   "source": [
    "haberman_fileName = 'results/LeaveOneOut_haberman.txt'\n",
    "table2_results_haberman = read_if_available_else_produce(ds_haberman_X, \n",
    "                           ds_haberman_Y,\n",
    "                            haberman_fileName)\n",
    "table2_results_haberman"
   ]
  },
  {
   "cell_type": "markdown",
   "id": "0c915052",
   "metadata": {},
   "source": [
    "And now we can show the table two results as below"
   ]
  },
  {
   "cell_type": "code",
   "execution_count": 52,
   "id": "ac4092f8",
   "metadata": {},
   "outputs": [
    {
     "data": {
      "text/html": [
       "<div>\n",
       "<style scoped>\n",
       "    .dataframe tbody tr th:only-of-type {\n",
       "        vertical-align: middle;\n",
       "    }\n",
       "\n",
       "    .dataframe tbody tr th {\n",
       "        vertical-align: top;\n",
       "    }\n",
       "\n",
       "    .dataframe thead th {\n",
       "        text-align: right;\n",
       "    }\n",
       "</style>\n",
       "<table border=\"1\" class=\"dataframe\">\n",
       "  <thead>\n",
       "    <tr style=\"text-align: right;\">\n",
       "      <th></th>\n",
       "      <th>1NN</th>\n",
       "      <th>3NN</th>\n",
       "      <th>5NN</th>\n",
       "      <th>7NN</th>\n",
       "      <th>NBC</th>\n",
       "    </tr>\n",
       "  </thead>\n",
       "  <tbody>\n",
       "    <tr>\n",
       "      <th>Haberman</th>\n",
       "      <td>0.676471</td>\n",
       "      <td>0.702614</td>\n",
       "      <td>0.722222</td>\n",
       "      <td>0.725490</td>\n",
       "      <td>0.725490</td>\n",
       "    </tr>\n",
       "    <tr>\n",
       "      <th>Magic</th>\n",
       "      <td>0.962450</td>\n",
       "      <td>0.959500</td>\n",
       "      <td>0.958000</td>\n",
       "      <td>0.955850</td>\n",
       "      <td>0.955850</td>\n",
       "    </tr>\n",
       "    <tr>\n",
       "      <th>Livers</th>\n",
       "      <td>0.620290</td>\n",
       "      <td>0.637681</td>\n",
       "      <td>0.660870</td>\n",
       "      <td>0.686957</td>\n",
       "      <td>0.686957</td>\n",
       "    </tr>\n",
       "    <tr>\n",
       "      <th>Letter</th>\n",
       "      <td>0.962450</td>\n",
       "      <td>0.959500</td>\n",
       "      <td>0.958000</td>\n",
       "      <td>0.955850</td>\n",
       "      <td>0.955850</td>\n",
       "    </tr>\n",
       "    <tr>\n",
       "      <th>Page-Blocks</th>\n",
       "      <td>0.957245</td>\n",
       "      <td>0.957427</td>\n",
       "      <td>0.957062</td>\n",
       "      <td>0.955235</td>\n",
       "      <td>0.955235</td>\n",
       "    </tr>\n",
       "    <tr>\n",
       "      <th>Red-wine</th>\n",
       "      <td>0.615385</td>\n",
       "      <td>0.523452</td>\n",
       "      <td>0.510319</td>\n",
       "      <td>0.499687</td>\n",
       "      <td>0.499687</td>\n",
       "    </tr>\n",
       "    <tr>\n",
       "      <th>White-wine</th>\n",
       "      <td>0.616170</td>\n",
       "      <td>0.506533</td>\n",
       "      <td>0.495917</td>\n",
       "      <td>0.488158</td>\n",
       "      <td>0.488158</td>\n",
       "    </tr>\n",
       "  </tbody>\n",
       "</table>\n",
       "</div>"
      ],
      "text/plain": [
       "                  1NN       3NN       5NN       7NN       NBC\n",
       "Haberman     0.676471  0.702614  0.722222  0.725490  0.725490\n",
       "Magic        0.962450  0.959500  0.958000  0.955850  0.955850\n",
       "Livers       0.620290  0.637681  0.660870  0.686957  0.686957\n",
       "Letter       0.962450  0.959500  0.958000  0.955850  0.955850\n",
       "Page-Blocks  0.957245  0.957427  0.957062  0.955235  0.955235\n",
       "Red-wine     0.615385  0.523452  0.510319  0.499687  0.499687\n",
       "White-wine   0.616170  0.506533  0.495917  0.488158  0.488158"
      ]
     },
     "execution_count": 52,
     "metadata": {},
     "output_type": "execute_result"
    }
   ],
   "source": [
    "table2_dict = {'Haberman': table2_results_haberman, \n",
    "            'Magic': table2_results_magic_gamma,\n",
    "           'Livers': table2_results_livers_disorder, \n",
    "           'Letter': table2_results_letter_recognition,\n",
    "           'Page-Blocks':table2_results_page_blocks,\n",
    "           'Red-wine':table2_results_redWine,\n",
    "           'White-wine':table2_results_White_Wine}\n",
    "table2_df = pd.DataFrame.from_dict(table2_dict, orient='index')\n",
    "table2_df"
   ]
  },
  {
   "cell_type": "markdown",
   "id": "2e388f33",
   "metadata": {},
   "source": [
    "# Table 3 Reproduction\n",
    "Table 3, represents the p-values for our null hypothesis $H_0: \\frac{s^2}{k} = \\sigma_I^2$. To reproduce the p-values in table 3, we need to first find each folds accuracies and compute the $\\chi$ values for each algorithm."
   ]
  },
  {
   "cell_type": "code",
   "execution_count": 53,
   "id": "953f67c0",
   "metadata": {},
   "outputs": [],
   "source": [
    "def find_p_value(acc_cross_val, leaveOneOut_acc, dataset_length, df):\n",
    "    \"\"\"\n",
    "    Find the p-value, by computing the chi-score\n",
    "    \n",
    "    Parameters:\n",
    "    -----------\n",
    "    acc_cross_val : float_array\n",
    "        cross validation test scores\n",
    "    leaveOneOut_acc : float\n",
    "        the accuracy found by leaveOneOut cross validation method\n",
    "    dataset_length : positive integer\n",
    "        dataset length, representing the count of data in dataset\n",
    "    df : positive integer\n",
    "        the degrees of freedom to find p-value\n",
    "        \n",
    "    Returns:\n",
    "    ---------\n",
    "    p_value : float\n",
    "        the p_value score\n",
    "    \"\"\"\n",
    "    variance = np.sum(np.power(acc_cross_val - np.mean(acc_cross_val), 2))\n",
    "    sigma = ((leaveOneOut_acc) * (1 - leaveOneOut_acc )) / dataset_length\n",
    "    chi_value = variance / (2*sigma)\n",
    "    \n",
    "    ## get the p_value\n",
    "    p_value = stats.chi2.cdf(chi_value, df)\n",
    "    \n",
    "    return p_value\n",
    "\n",
    "def find_p_values_multiple_methods(dataset_X, dataset_Y, leaveOneOut_acc, fileName, verbose=False):\n",
    "    \"\"\"\n",
    "    read the p-values or compute it for the dataset if not available\n",
    "    Using the test introduced in the article\n",
    "    the p-values are obtained for methods: `1NN`, `3NN`, `5NN`, `7NN` and `NBC` using 2 to 10 folds\n",
    "    \n",
    "    Parameters:\n",
    "    ------------\n",
    "    dataset_X : array_like\n",
    "        the features vector\n",
    "    dataset_Y : array_like\n",
    "        the label for each feature\n",
    "    leaveOneOut_acc : dictionary of floats\n",
    "        the accuracy represented for leaveOneOut cross validation, on methods `1NN`, `3NN`, `5NN`, `7NN` and `NBC`\n",
    "    file_name : string\n",
    "        where to read or save the data\n",
    "    verbose : bool\n",
    "        print the progress if True\n",
    "        default is False\n",
    "    \n",
    "    Returns:\n",
    "    --------\n",
    "    p_values_dict : dictionary\n",
    "        the dictionary contans the p-values for `1NN`, `3NN`, `5NN`, `7NN` and `NBC` and 2 to 10 folds\n",
    "    \"\"\"\n",
    "    ## if the results file is not available, then calculate the results\n",
    "    if os.path.isfile(fileName) == False:\n",
    "        print(\"Results not available, Producing them\\n\")\n",
    "\n",
    "        ## initialize the dictionary\n",
    "        p_values_dict = {}\n",
    "\n",
    "        ## Find p-values for \n",
    "        ## 1-NN, 3-NN, 5-NN and 7-NN\n",
    "        for neighbours_count in [1, 3, 5, 7]:\n",
    "            ## to create a nested dictionary\n",
    "            ## initialize the folds dictionary\n",
    "            p_values_folds = {}\n",
    "            ## 2,3, ..., 10 folds\n",
    "            for folds_count in range(2,11):\n",
    "                ## KNN with K neighbours count\n",
    "                KNN_method = KNeighborsClassifier(n_neighbors=neighbours_count)\n",
    "                ## cross validation test score\n",
    "                acc_cross_val = cross_val_score(KNN_method, \n",
    "                                dataset_X, \n",
    "                                dataset_Y,\n",
    "                                cv=folds_count)\n",
    "\n",
    "                ## degrees of freedom is folds minus one\n",
    "                p_value = find_p_value(acc_cross_val, leaveOneOut_acc[f'{neighbours_count}NN'], len(dataset_X), folds_count - 1)\n",
    "\n",
    "                if verbose:\n",
    "                    print(f'{neighbours_count}NN method with fold count {folds_count}, p-value: {p_value}')\n",
    "\n",
    "                p_values_folds[f'{folds_count}'] = p_value\n",
    "\n",
    "            ## add all the folds p_values\n",
    "            p_values_dict[f'{neighbours_count}NN'] = p_values_folds\n",
    "\n",
    "        ## For Naive Bayes p-value We need to find repeat the codes above again\n",
    "        NB_p_values_folds = {}\n",
    "        ## 2,3, ..., 10 folds\n",
    "        for folds_count in range(2,11):\n",
    "            NB_method = GaussianNB()\n",
    "            ## cross validation test score\n",
    "            acc_cross_val = cross_val_score(KNN_method, \n",
    "                            dataset_X, \n",
    "                            dataset_Y,\n",
    "                            cv=folds_count)\n",
    "\n",
    "            ## degrees of freedom is folds minus one\n",
    "            p_value = find_p_value(acc_cross_val, leaveOneOut_acc['NBC'], len(dataset_X), folds_count - 1)\n",
    "\n",
    "            if verbose:\n",
    "                print(f'Naive Bayes method with fold count {folds_count}, p-value: {p_value}')\n",
    "\n",
    "            NB_p_values_folds[f'{folds_count}'] = p_value\n",
    "\n",
    "        p_values_dict['NB'] = NB_p_values_folds\n",
    "        \n",
    "        ## save the results\n",
    "        file = open(fileName, 'w')\n",
    "        json.dump(p_values_dict, file)\n",
    "        file.close()\n",
    "        \n",
    "        print(f\"Results Produced and saved in {fileName}\")\n",
    "    \n",
    "    ## else if the results file is available, then load it\n",
    "    else:\n",
    "        print(f\"Reading From previous data\\nResults from file {fileName}\")\n",
    "\n",
    "        file = open(fileName, 'r')\n",
    "        p_values_dict = file.read()\n",
    "        ## convert string to dictionary\n",
    "        p_values_dict = json.loads(p_values_dict)\n",
    "        file.close()\n",
    "        \n",
    "    return p_values_dict"
   ]
  },
  {
   "cell_type": "code",
   "execution_count": 54,
   "id": "ef0f3446",
   "metadata": {},
   "outputs": [
    {
     "name": "stdout",
     "output_type": "stream",
     "text": [
      "Reading From previous data\n",
      "Results from file results/pValues_livers_disorder.txt\n"
     ]
    }
   ],
   "source": [
    "table3_livers_file = 'results/pValues_livers_disorder.txt'\n",
    "table3_results_livers_disorder = find_p_values_multiple_methods(ds_liver_X,\n",
    "                                                                ds_liver_Y,\n",
    "                                                                table2_df.loc['Livers'],\n",
    "                                                                table3_livers_file)"
   ]
  },
  {
   "cell_type": "code",
   "execution_count": 55,
   "id": "b0eaa8c6",
   "metadata": {},
   "outputs": [
    {
     "name": "stdout",
     "output_type": "stream",
     "text": [
      "Reading From previous data\n",
      "Results from file results/pValues_letter_recognition.txt\n"
     ]
    }
   ],
   "source": [
    "table3_letters_reco_file = 'results/pValues_letter_recognition.txt'\n",
    "table3_results_letters_reco = find_p_values_multiple_methods(ds_letter_reco_X,\n",
    "                                                             ds_letter_reco_Y,\n",
    "                                                                table2_df.loc['Letter'],\n",
    "                                                                table3_letters_reco_file)"
   ]
  },
  {
   "cell_type": "code",
   "execution_count": 56,
   "id": "a2046356",
   "metadata": {},
   "outputs": [
    {
     "name": "stdout",
     "output_type": "stream",
     "text": [
      "Reading From previous data\n",
      "Results from file results/pValues_magic.txt\n"
     ]
    }
   ],
   "source": [
    "table3_magic_file = 'results/pValues_magic.txt'\n",
    "table3_results_magic = find_p_values_multiple_methods(ds_magic_gamma_X,\n",
    "                                                             ds_magic_gamma_Y,\n",
    "                                                             table2_df.loc['Magic'],\n",
    "                                                             table3_magic_file)"
   ]
  },
  {
   "cell_type": "code",
   "execution_count": 57,
   "id": "0e564bfa",
   "metadata": {},
   "outputs": [
    {
     "name": "stdout",
     "output_type": "stream",
     "text": [
      "Reading From previous data\n",
      "Results from file results/pValues_haberman.txt\n"
     ]
    }
   ],
   "source": [
    "table3_haberman_file = 'results/pValues_haberman.txt'\n",
    "table3_results_haberman = find_p_values_multiple_methods(ds_haberman_X,\n",
    "                                                             ds_haberman_Y,\n",
    "                                                             table2_df.loc['Haberman'],\n",
    "                                                             table3_haberman_file)"
   ]
  },
  {
   "cell_type": "code",
   "execution_count": 58,
   "id": "ef005999",
   "metadata": {},
   "outputs": [
    {
     "name": "stdout",
     "output_type": "stream",
     "text": [
      "Reading From previous data\n",
      "Results from file results/pValues_pageBlocks.txt\n"
     ]
    }
   ],
   "source": [
    "table3_pageBlocks_file = 'results/pValues_pageBlocks.txt'\n",
    "table3_results_page_blocks = find_p_values_multiple_methods(ds_page_blocks_X,\n",
    "                                                             ds_page_blocks_Y,\n",
    "                                                             table2_df.loc['Page-Blocks'],\n",
    "                                                             table3_pageBlocks_file)"
   ]
  },
  {
   "cell_type": "code",
   "execution_count": 59,
   "id": "e0f5d248",
   "metadata": {},
   "outputs": [
    {
     "name": "stdout",
     "output_type": "stream",
     "text": [
      "Reading From previous data\n",
      "Results from file results/pValues_redWine.txt\n"
     ]
    }
   ],
   "source": [
    "table3_redWine_file = 'results/pValues_redWine.txt'\n",
    "table3_results_redWine = find_p_values_multiple_methods(ds_redWine_X,\n",
    "                                                             ds_redWine_Y,\n",
    "                                                             table2_df.loc['Red-wine'],\n",
    "                                                             table3_redWine_file)"
   ]
  },
  {
   "cell_type": "code",
   "execution_count": 60,
   "id": "160d8774",
   "metadata": {},
   "outputs": [
    {
     "name": "stdout",
     "output_type": "stream",
     "text": [
      "Reading From previous data\n",
      "Results from file results/pValues_whiteWine.txt\n"
     ]
    }
   ],
   "source": [
    "table3_whiteWine_file = 'results/pValues_whiteWine.txt'\n",
    "table3_results_whiteWine = find_p_values_multiple_methods(ds_whiteWine_X,\n",
    "                                                             ds_whiteWine_Y,\n",
    "                                                             table2_df.loc['White-wine'],\n",
    "                                                             table3_whiteWine_file)"
   ]
  },
  {
   "cell_type": "code",
   "execution_count": 74,
   "id": "954b20ac",
   "metadata": {},
   "outputs": [
    {
     "data": {
      "text/html": [
       "<style type=\"text/css\">\n",
       "#T_32c48_row0_col0, #T_32c48_row0_col1, #T_32c48_row0_col2, #T_32c48_row0_col3, #T_32c48_row0_col4, #T_32c48_row0_col5, #T_32c48_row0_col6, #T_32c48_row0_col7, #T_32c48_row0_col8, #T_32c48_row1_col0, #T_32c48_row1_col1, #T_32c48_row1_col2, #T_32c48_row1_col3, #T_32c48_row1_col4, #T_32c48_row1_col5, #T_32c48_row1_col6, #T_32c48_row1_col7, #T_32c48_row1_col8, #T_32c48_row2_col0, #T_32c48_row2_col1, #T_32c48_row2_col2, #T_32c48_row2_col3, #T_32c48_row2_col4, #T_32c48_row2_col5, #T_32c48_row2_col6, #T_32c48_row2_col7, #T_32c48_row2_col8, #T_32c48_row3_col0, #T_32c48_row3_col1, #T_32c48_row3_col2, #T_32c48_row3_col3, #T_32c48_row3_col4, #T_32c48_row3_col5, #T_32c48_row3_col6, #T_32c48_row3_col7, #T_32c48_row3_col8, #T_32c48_row4_col0, #T_32c48_row4_col1, #T_32c48_row4_col2, #T_32c48_row4_col3, #T_32c48_row4_col4, #T_32c48_row4_col5, #T_32c48_row4_col6, #T_32c48_row4_col7, #T_32c48_row4_col8, #T_32c48_row5_col0, #T_32c48_row5_col1, #T_32c48_row5_col2, #T_32c48_row5_col3, #T_32c48_row5_col4, #T_32c48_row5_col5, #T_32c48_row5_col6, #T_32c48_row5_col7, #T_32c48_row5_col8, #T_32c48_row6_col1, #T_32c48_row6_col2, #T_32c48_row6_col3, #T_32c48_row6_col4, #T_32c48_row6_col5, #T_32c48_row6_col6, #T_32c48_row6_col7, #T_32c48_row6_col8 {\n",
       "  background-color: ;\n",
       "}\n",
       "#T_32c48_row6_col0 {\n",
       "  background-color: yellow;\n",
       "}\n",
       "</style>\n",
       "<table id=\"T_32c48\">\n",
       "  <thead>\n",
       "    <tr>\n",
       "      <th class=\"index_name level0\" >(1NN) Dataset/folds</th>\n",
       "      <th id=\"T_32c48_level0_col0\" class=\"col_heading level0 col0\" >2</th>\n",
       "      <th id=\"T_32c48_level0_col1\" class=\"col_heading level0 col1\" >3</th>\n",
       "      <th id=\"T_32c48_level0_col2\" class=\"col_heading level0 col2\" >4</th>\n",
       "      <th id=\"T_32c48_level0_col3\" class=\"col_heading level0 col3\" >5</th>\n",
       "      <th id=\"T_32c48_level0_col4\" class=\"col_heading level0 col4\" >6</th>\n",
       "      <th id=\"T_32c48_level0_col5\" class=\"col_heading level0 col5\" >7</th>\n",
       "      <th id=\"T_32c48_level0_col6\" class=\"col_heading level0 col6\" >8</th>\n",
       "      <th id=\"T_32c48_level0_col7\" class=\"col_heading level0 col7\" >9</th>\n",
       "      <th id=\"T_32c48_level0_col8\" class=\"col_heading level0 col8\" >10</th>\n",
       "    </tr>\n",
       "  </thead>\n",
       "  <tbody>\n",
       "    <tr>\n",
       "      <th id=\"T_32c48_level0_row0\" class=\"row_heading level0 row0\" >Haberman</th>\n",
       "      <td id=\"T_32c48_row0_col0\" class=\"data row0 col0\" >0.887838</td>\n",
       "      <td id=\"T_32c48_row0_col1\" class=\"data row0 col1\" >0.869738</td>\n",
       "      <td id=\"T_32c48_row0_col2\" class=\"data row0 col2\" >1.000000</td>\n",
       "      <td id=\"T_32c48_row0_col3\" class=\"data row0 col3\" >1.000000</td>\n",
       "      <td id=\"T_32c48_row0_col4\" class=\"data row0 col4\" >1.000000</td>\n",
       "      <td id=\"T_32c48_row0_col5\" class=\"data row0 col5\" >1.000000</td>\n",
       "      <td id=\"T_32c48_row0_col6\" class=\"data row0 col6\" >1.000000</td>\n",
       "      <td id=\"T_32c48_row0_col7\" class=\"data row0 col7\" >1.000000</td>\n",
       "      <td id=\"T_32c48_row0_col8\" class=\"data row0 col8\" >1.000000</td>\n",
       "    </tr>\n",
       "    <tr>\n",
       "      <th id=\"T_32c48_level0_row1\" class=\"row_heading level0 row1\" >Magic</th>\n",
       "      <td id=\"T_32c48_row1_col0\" class=\"data row1 col0\" >0.983736</td>\n",
       "      <td id=\"T_32c48_row1_col1\" class=\"data row1 col1\" >0.965209</td>\n",
       "      <td id=\"T_32c48_row1_col2\" class=\"data row1 col2\" >0.999995</td>\n",
       "      <td id=\"T_32c48_row1_col3\" class=\"data row1 col3\" >0.999973</td>\n",
       "      <td id=\"T_32c48_row1_col4\" class=\"data row1 col4\" >1.000000</td>\n",
       "      <td id=\"T_32c48_row1_col5\" class=\"data row1 col5\" >0.999977</td>\n",
       "      <td id=\"T_32c48_row1_col6\" class=\"data row1 col6\" >1.000000</td>\n",
       "      <td id=\"T_32c48_row1_col7\" class=\"data row1 col7\" >1.000000</td>\n",
       "      <td id=\"T_32c48_row1_col8\" class=\"data row1 col8\" >1.000000</td>\n",
       "    </tr>\n",
       "    <tr>\n",
       "      <th id=\"T_32c48_level0_row2\" class=\"row_heading level0 row2\" >Livers</th>\n",
       "      <td id=\"T_32c48_row2_col0\" class=\"data row2 col0\" >0.518691</td>\n",
       "      <td id=\"T_32c48_row2_col1\" class=\"data row2 col1\" >0.933701</td>\n",
       "      <td id=\"T_32c48_row2_col2\" class=\"data row2 col2\" >0.879641</td>\n",
       "      <td id=\"T_32c48_row2_col3\" class=\"data row2 col3\" >0.999589</td>\n",
       "      <td id=\"T_32c48_row2_col4\" class=\"data row2 col4\" >0.848436</td>\n",
       "      <td id=\"T_32c48_row2_col5\" class=\"data row2 col5\" >0.962822</td>\n",
       "      <td id=\"T_32c48_row2_col6\" class=\"data row2 col6\" >0.999235</td>\n",
       "      <td id=\"T_32c48_row2_col7\" class=\"data row2 col7\" >0.999999</td>\n",
       "      <td id=\"T_32c48_row2_col8\" class=\"data row2 col8\" >0.999940</td>\n",
       "    </tr>\n",
       "    <tr>\n",
       "      <th id=\"T_32c48_level0_row3\" class=\"row_heading level0 row3\" >Letters</th>\n",
       "      <td id=\"T_32c48_row3_col0\" class=\"data row3 col0\" >0.496836</td>\n",
       "      <td id=\"T_32c48_row3_col1\" class=\"data row3 col1\" >0.956897</td>\n",
       "      <td id=\"T_32c48_row3_col2\" class=\"data row3 col2\" >0.999990</td>\n",
       "      <td id=\"T_32c48_row3_col3\" class=\"data row3 col3\" >0.743307</td>\n",
       "      <td id=\"T_32c48_row3_col4\" class=\"data row3 col4\" >0.999994</td>\n",
       "      <td id=\"T_32c48_row3_col5\" class=\"data row3 col5\" >0.705099</td>\n",
       "      <td id=\"T_32c48_row3_col6\" class=\"data row3 col6\" >0.999994</td>\n",
       "      <td id=\"T_32c48_row3_col7\" class=\"data row3 col7\" >1.000000</td>\n",
       "      <td id=\"T_32c48_row3_col8\" class=\"data row3 col8\" >1.000000</td>\n",
       "    </tr>\n",
       "    <tr>\n",
       "      <th id=\"T_32c48_level0_row4\" class=\"row_heading level0 row4\" >Page-Blocks</th>\n",
       "      <td id=\"T_32c48_row4_col0\" class=\"data row4 col0\" >0.999995</td>\n",
       "      <td id=\"T_32c48_row4_col1\" class=\"data row4 col1\" >1.000000</td>\n",
       "      <td id=\"T_32c48_row4_col2\" class=\"data row4 col2\" >1.000000</td>\n",
       "      <td id=\"T_32c48_row4_col3\" class=\"data row4 col3\" >1.000000</td>\n",
       "      <td id=\"T_32c48_row4_col4\" class=\"data row4 col4\" >1.000000</td>\n",
       "      <td id=\"T_32c48_row4_col5\" class=\"data row4 col5\" >1.000000</td>\n",
       "      <td id=\"T_32c48_row4_col6\" class=\"data row4 col6\" >1.000000</td>\n",
       "      <td id=\"T_32c48_row4_col7\" class=\"data row4 col7\" >1.000000</td>\n",
       "      <td id=\"T_32c48_row4_col8\" class=\"data row4 col8\" >1.000000</td>\n",
       "    </tr>\n",
       "    <tr>\n",
       "      <th id=\"T_32c48_level0_row5\" class=\"row_heading level0 row5\" >Red-wine</th>\n",
       "      <td id=\"T_32c48_row5_col0\" class=\"data row5 col0\" >0.952585</td>\n",
       "      <td id=\"T_32c48_row5_col1\" class=\"data row5 col1\" >0.979516</td>\n",
       "      <td id=\"T_32c48_row5_col2\" class=\"data row5 col2\" >0.999148</td>\n",
       "      <td id=\"T_32c48_row5_col3\" class=\"data row5 col3\" >0.951465</td>\n",
       "      <td id=\"T_32c48_row5_col4\" class=\"data row5 col4\" >0.999861</td>\n",
       "      <td id=\"T_32c48_row5_col5\" class=\"data row5 col5\" >0.999990</td>\n",
       "      <td id=\"T_32c48_row5_col6\" class=\"data row5 col6\" >1.000000</td>\n",
       "      <td id=\"T_32c48_row5_col7\" class=\"data row5 col7\" >1.000000</td>\n",
       "      <td id=\"T_32c48_row5_col8\" class=\"data row5 col8\" >1.000000</td>\n",
       "    </tr>\n",
       "    <tr>\n",
       "      <th id=\"T_32c48_level0_row6\" class=\"row_heading level0 row6\" >White-wine</th>\n",
       "      <td id=\"T_32c48_row6_col0\" class=\"data row6 col0\" >0.046859</td>\n",
       "      <td id=\"T_32c48_row6_col1\" class=\"data row6 col1\" >0.670176</td>\n",
       "      <td id=\"T_32c48_row6_col2\" class=\"data row6 col2\" >0.999620</td>\n",
       "      <td id=\"T_32c48_row6_col3\" class=\"data row6 col3\" >0.999601</td>\n",
       "      <td id=\"T_32c48_row6_col4\" class=\"data row6 col4\" >1.000000</td>\n",
       "      <td id=\"T_32c48_row6_col5\" class=\"data row6 col5\" >0.999970</td>\n",
       "      <td id=\"T_32c48_row6_col6\" class=\"data row6 col6\" >1.000000</td>\n",
       "      <td id=\"T_32c48_row6_col7\" class=\"data row6 col7\" >1.000000</td>\n",
       "      <td id=\"T_32c48_row6_col8\" class=\"data row6 col8\" >1.000000</td>\n",
       "    </tr>\n",
       "  </tbody>\n",
       "</table>\n"
      ],
      "text/plain": [
       "<pandas.io.formats.style.Styler at 0x16462f29d60>"
      ]
     },
     "metadata": {},
     "output_type": "display_data"
    },
    {
     "data": {
      "text/html": [
       "<style type=\"text/css\">\n",
       "#T_e3255_row0_col0, #T_e3255_row0_col1, #T_e3255_row0_col2, #T_e3255_row0_col3, #T_e3255_row0_col4, #T_e3255_row0_col5, #T_e3255_row0_col6, #T_e3255_row0_col7, #T_e3255_row0_col8, #T_e3255_row1_col0, #T_e3255_row1_col1, #T_e3255_row1_col2, #T_e3255_row1_col3, #T_e3255_row1_col4, #T_e3255_row1_col5, #T_e3255_row1_col6, #T_e3255_row1_col7, #T_e3255_row1_col8, #T_e3255_row2_col0, #T_e3255_row2_col1, #T_e3255_row2_col3, #T_e3255_row2_col4, #T_e3255_row2_col5, #T_e3255_row2_col6, #T_e3255_row2_col7, #T_e3255_row2_col8, #T_e3255_row3_col0, #T_e3255_row3_col1, #T_e3255_row3_col2, #T_e3255_row3_col3, #T_e3255_row3_col4, #T_e3255_row3_col5, #T_e3255_row3_col6, #T_e3255_row3_col7, #T_e3255_row3_col8, #T_e3255_row4_col0, #T_e3255_row4_col1, #T_e3255_row4_col2, #T_e3255_row4_col3, #T_e3255_row4_col4, #T_e3255_row4_col5, #T_e3255_row4_col6, #T_e3255_row4_col7, #T_e3255_row4_col8, #T_e3255_row5_col0, #T_e3255_row5_col1, #T_e3255_row5_col2, #T_e3255_row5_col3, #T_e3255_row5_col4, #T_e3255_row5_col5, #T_e3255_row5_col6, #T_e3255_row5_col7, #T_e3255_row5_col8, #T_e3255_row6_col0, #T_e3255_row6_col1, #T_e3255_row6_col2, #T_e3255_row6_col3, #T_e3255_row6_col4, #T_e3255_row6_col5, #T_e3255_row6_col6, #T_e3255_row6_col7, #T_e3255_row6_col8 {\n",
       "  background-color: ;\n",
       "}\n",
       "#T_e3255_row2_col2 {\n",
       "  background-color: yellow;\n",
       "}\n",
       "</style>\n",
       "<table id=\"T_e3255\">\n",
       "  <thead>\n",
       "    <tr>\n",
       "      <th class=\"index_name level0\" >(3NN) Dataset/folds</th>\n",
       "      <th id=\"T_e3255_level0_col0\" class=\"col_heading level0 col0\" >2</th>\n",
       "      <th id=\"T_e3255_level0_col1\" class=\"col_heading level0 col1\" >3</th>\n",
       "      <th id=\"T_e3255_level0_col2\" class=\"col_heading level0 col2\" >4</th>\n",
       "      <th id=\"T_e3255_level0_col3\" class=\"col_heading level0 col3\" >5</th>\n",
       "      <th id=\"T_e3255_level0_col4\" class=\"col_heading level0 col4\" >6</th>\n",
       "      <th id=\"T_e3255_level0_col5\" class=\"col_heading level0 col5\" >7</th>\n",
       "      <th id=\"T_e3255_level0_col6\" class=\"col_heading level0 col6\" >8</th>\n",
       "      <th id=\"T_e3255_level0_col7\" class=\"col_heading level0 col7\" >9</th>\n",
       "      <th id=\"T_e3255_level0_col8\" class=\"col_heading level0 col8\" >10</th>\n",
       "    </tr>\n",
       "  </thead>\n",
       "  <tbody>\n",
       "    <tr>\n",
       "      <th id=\"T_e3255_level0_row0\" class=\"row_heading level0 row0\" >Haberman</th>\n",
       "      <td id=\"T_e3255_row0_col0\" class=\"data row0 col0\" >0.920028</td>\n",
       "      <td id=\"T_e3255_row0_col1\" class=\"data row0 col1\" >0.968212</td>\n",
       "      <td id=\"T_e3255_row0_col2\" class=\"data row0 col2\" >1.000000</td>\n",
       "      <td id=\"T_e3255_row0_col3\" class=\"data row0 col3\" >1.000000</td>\n",
       "      <td id=\"T_e3255_row0_col4\" class=\"data row0 col4\" >1.000000</td>\n",
       "      <td id=\"T_e3255_row0_col5\" class=\"data row0 col5\" >0.999999</td>\n",
       "      <td id=\"T_e3255_row0_col6\" class=\"data row0 col6\" >1.000000</td>\n",
       "      <td id=\"T_e3255_row0_col7\" class=\"data row0 col7\" >1.000000</td>\n",
       "      <td id=\"T_e3255_row0_col8\" class=\"data row0 col8\" >1.000000</td>\n",
       "    </tr>\n",
       "    <tr>\n",
       "      <th id=\"T_e3255_level0_row1\" class=\"row_heading level0 row1\" >Magic</th>\n",
       "      <td id=\"T_e3255_row1_col0\" class=\"data row1 col0\" >0.992750</td>\n",
       "      <td id=\"T_e3255_row1_col1\" class=\"data row1 col1\" >0.697403</td>\n",
       "      <td id=\"T_e3255_row1_col2\" class=\"data row1 col2\" >0.960222</td>\n",
       "      <td id=\"T_e3255_row1_col3\" class=\"data row1 col3\" >1.000000</td>\n",
       "      <td id=\"T_e3255_row1_col4\" class=\"data row1 col4\" >1.000000</td>\n",
       "      <td id=\"T_e3255_row1_col5\" class=\"data row1 col5\" >1.000000</td>\n",
       "      <td id=\"T_e3255_row1_col6\" class=\"data row1 col6\" >1.000000</td>\n",
       "      <td id=\"T_e3255_row1_col7\" class=\"data row1 col7\" >1.000000</td>\n",
       "      <td id=\"T_e3255_row1_col8\" class=\"data row1 col8\" >1.000000</td>\n",
       "    </tr>\n",
       "    <tr>\n",
       "      <th id=\"T_e3255_level0_row2\" class=\"row_heading level0 row2\" >Livers</th>\n",
       "      <td id=\"T_e3255_row2_col0\" class=\"data row2 col0\" >0.796170</td>\n",
       "      <td id=\"T_e3255_row2_col1\" class=\"data row2 col1\" >0.300609</td>\n",
       "      <td id=\"T_e3255_row2_col2\" class=\"data row2 col2\" >0.024092</td>\n",
       "      <td id=\"T_e3255_row2_col3\" class=\"data row2 col3\" >0.820314</td>\n",
       "      <td id=\"T_e3255_row2_col4\" class=\"data row2 col4\" >0.952167</td>\n",
       "      <td id=\"T_e3255_row2_col5\" class=\"data row2 col5\" >0.061336</td>\n",
       "      <td id=\"T_e3255_row2_col6\" class=\"data row2 col6\" >0.145584</td>\n",
       "      <td id=\"T_e3255_row2_col7\" class=\"data row2 col7\" >0.983429</td>\n",
       "      <td id=\"T_e3255_row2_col8\" class=\"data row2 col8\" >0.999709</td>\n",
       "    </tr>\n",
       "    <tr>\n",
       "      <th id=\"T_e3255_level0_row3\" class=\"row_heading level0 row3\" >Letters</th>\n",
       "      <td id=\"T_e3255_row3_col0\" class=\"data row3 col0\" >0.777380</td>\n",
       "      <td id=\"T_e3255_row3_col1\" class=\"data row3 col1\" >0.528967</td>\n",
       "      <td id=\"T_e3255_row3_col2\" class=\"data row3 col2\" >0.888941</td>\n",
       "      <td id=\"T_e3255_row3_col3\" class=\"data row3 col3\" >0.631956</td>\n",
       "      <td id=\"T_e3255_row3_col4\" class=\"data row3 col4\" >0.931341</td>\n",
       "      <td id=\"T_e3255_row3_col5\" class=\"data row3 col5\" >0.831017</td>\n",
       "      <td id=\"T_e3255_row3_col6\" class=\"data row3 col6\" >0.999939</td>\n",
       "      <td id=\"T_e3255_row3_col7\" class=\"data row3 col7\" >0.999993</td>\n",
       "      <td id=\"T_e3255_row3_col8\" class=\"data row3 col8\" >1.000000</td>\n",
       "    </tr>\n",
       "    <tr>\n",
       "      <th id=\"T_e3255_level0_row4\" class=\"row_heading level0 row4\" >Page-Blocks</th>\n",
       "      <td id=\"T_e3255_row4_col0\" class=\"data row4 col0\" >0.999998</td>\n",
       "      <td id=\"T_e3255_row4_col1\" class=\"data row4 col1\" >1.000000</td>\n",
       "      <td id=\"T_e3255_row4_col2\" class=\"data row4 col2\" >1.000000</td>\n",
       "      <td id=\"T_e3255_row4_col3\" class=\"data row4 col3\" >1.000000</td>\n",
       "      <td id=\"T_e3255_row4_col4\" class=\"data row4 col4\" >1.000000</td>\n",
       "      <td id=\"T_e3255_row4_col5\" class=\"data row4 col5\" >1.000000</td>\n",
       "      <td id=\"T_e3255_row4_col6\" class=\"data row4 col6\" >1.000000</td>\n",
       "      <td id=\"T_e3255_row4_col7\" class=\"data row4 col7\" >1.000000</td>\n",
       "      <td id=\"T_e3255_row4_col8\" class=\"data row4 col8\" >1.000000</td>\n",
       "    </tr>\n",
       "    <tr>\n",
       "      <th id=\"T_e3255_level0_row5\" class=\"row_heading level0 row5\" >Red-wine</th>\n",
       "      <td id=\"T_e3255_row5_col0\" class=\"data row5 col0\" >0.593357</td>\n",
       "      <td id=\"T_e3255_row5_col1\" class=\"data row5 col1\" >0.989397</td>\n",
       "      <td id=\"T_e3255_row5_col2\" class=\"data row5 col2\" >1.000000</td>\n",
       "      <td id=\"T_e3255_row5_col3\" class=\"data row5 col3\" >1.000000</td>\n",
       "      <td id=\"T_e3255_row5_col4\" class=\"data row5 col4\" >1.000000</td>\n",
       "      <td id=\"T_e3255_row5_col5\" class=\"data row5 col5\" >1.000000</td>\n",
       "      <td id=\"T_e3255_row5_col6\" class=\"data row5 col6\" >1.000000</td>\n",
       "      <td id=\"T_e3255_row5_col7\" class=\"data row5 col7\" >1.000000</td>\n",
       "      <td id=\"T_e3255_row5_col8\" class=\"data row5 col8\" >1.000000</td>\n",
       "    </tr>\n",
       "    <tr>\n",
       "      <th id=\"T_e3255_level0_row6\" class=\"row_heading level0 row6\" >White-wine</th>\n",
       "      <td id=\"T_e3255_row6_col0\" class=\"data row6 col0\" >0.525077</td>\n",
       "      <td id=\"T_e3255_row6_col1\" class=\"data row6 col1\" >0.919169</td>\n",
       "      <td id=\"T_e3255_row6_col2\" class=\"data row6 col2\" >0.999971</td>\n",
       "      <td id=\"T_e3255_row6_col3\" class=\"data row6 col3\" >0.990614</td>\n",
       "      <td id=\"T_e3255_row6_col4\" class=\"data row6 col4\" >1.000000</td>\n",
       "      <td id=\"T_e3255_row6_col5\" class=\"data row6 col5\" >0.999308</td>\n",
       "      <td id=\"T_e3255_row6_col6\" class=\"data row6 col6\" >1.000000</td>\n",
       "      <td id=\"T_e3255_row6_col7\" class=\"data row6 col7\" >1.000000</td>\n",
       "      <td id=\"T_e3255_row6_col8\" class=\"data row6 col8\" >1.000000</td>\n",
       "    </tr>\n",
       "  </tbody>\n",
       "</table>\n"
      ],
      "text/plain": [
       "<pandas.io.formats.style.Styler at 0x16462f29d60>"
      ]
     },
     "metadata": {},
     "output_type": "display_data"
    },
    {
     "data": {
      "text/html": [
       "<style type=\"text/css\">\n",
       "#T_45ca6_row0_col0, #T_45ca6_row0_col1, #T_45ca6_row0_col2, #T_45ca6_row0_col3, #T_45ca6_row0_col4, #T_45ca6_row0_col5, #T_45ca6_row0_col6, #T_45ca6_row0_col7, #T_45ca6_row0_col8, #T_45ca6_row1_col0, #T_45ca6_row1_col1, #T_45ca6_row1_col2, #T_45ca6_row1_col3, #T_45ca6_row1_col4, #T_45ca6_row1_col5, #T_45ca6_row1_col6, #T_45ca6_row1_col7, #T_45ca6_row1_col8, #T_45ca6_row2_col0, #T_45ca6_row2_col1, #T_45ca6_row2_col2, #T_45ca6_row2_col3, #T_45ca6_row2_col4, #T_45ca6_row2_col5, #T_45ca6_row2_col6, #T_45ca6_row2_col7, #T_45ca6_row2_col8, #T_45ca6_row3_col0, #T_45ca6_row3_col1, #T_45ca6_row3_col2, #T_45ca6_row3_col3, #T_45ca6_row3_col4, #T_45ca6_row3_col5, #T_45ca6_row3_col6, #T_45ca6_row3_col7, #T_45ca6_row3_col8, #T_45ca6_row4_col0, #T_45ca6_row4_col1, #T_45ca6_row4_col2, #T_45ca6_row4_col3, #T_45ca6_row4_col4, #T_45ca6_row4_col5, #T_45ca6_row4_col6, #T_45ca6_row4_col7, #T_45ca6_row4_col8, #T_45ca6_row5_col0, #T_45ca6_row5_col1, #T_45ca6_row5_col2, #T_45ca6_row5_col3, #T_45ca6_row5_col4, #T_45ca6_row5_col5, #T_45ca6_row5_col6, #T_45ca6_row5_col7, #T_45ca6_row5_col8, #T_45ca6_row6_col0, #T_45ca6_row6_col1, #T_45ca6_row6_col2, #T_45ca6_row6_col3, #T_45ca6_row6_col4, #T_45ca6_row6_col5, #T_45ca6_row6_col6, #T_45ca6_row6_col7, #T_45ca6_row6_col8 {\n",
       "  background-color: ;\n",
       "}\n",
       "</style>\n",
       "<table id=\"T_45ca6\">\n",
       "  <thead>\n",
       "    <tr>\n",
       "      <th class=\"index_name level0\" >(5NN) Dataset/folds</th>\n",
       "      <th id=\"T_45ca6_level0_col0\" class=\"col_heading level0 col0\" >2</th>\n",
       "      <th id=\"T_45ca6_level0_col1\" class=\"col_heading level0 col1\" >3</th>\n",
       "      <th id=\"T_45ca6_level0_col2\" class=\"col_heading level0 col2\" >4</th>\n",
       "      <th id=\"T_45ca6_level0_col3\" class=\"col_heading level0 col3\" >5</th>\n",
       "      <th id=\"T_45ca6_level0_col4\" class=\"col_heading level0 col4\" >6</th>\n",
       "      <th id=\"T_45ca6_level0_col5\" class=\"col_heading level0 col5\" >7</th>\n",
       "      <th id=\"T_45ca6_level0_col6\" class=\"col_heading level0 col6\" >8</th>\n",
       "      <th id=\"T_45ca6_level0_col7\" class=\"col_heading level0 col7\" >9</th>\n",
       "      <th id=\"T_45ca6_level0_col8\" class=\"col_heading level0 col8\" >10</th>\n",
       "    </tr>\n",
       "  </thead>\n",
       "  <tbody>\n",
       "    <tr>\n",
       "      <th id=\"T_45ca6_level0_row0\" class=\"row_heading level0 row0\" >Haberman</th>\n",
       "      <td id=\"T_45ca6_row0_col0\" class=\"data row0 col0\" >0.298200</td>\n",
       "      <td id=\"T_45ca6_row0_col1\" class=\"data row0 col1\" >0.970358</td>\n",
       "      <td id=\"T_45ca6_row0_col2\" class=\"data row0 col2\" >0.840694</td>\n",
       "      <td id=\"T_45ca6_row0_col3\" class=\"data row0 col3\" >0.999909</td>\n",
       "      <td id=\"T_45ca6_row0_col4\" class=\"data row0 col4\" >1.000000</td>\n",
       "      <td id=\"T_45ca6_row0_col5\" class=\"data row0 col5\" >0.932226</td>\n",
       "      <td id=\"T_45ca6_row0_col6\" class=\"data row0 col6\" >0.998999</td>\n",
       "      <td id=\"T_45ca6_row0_col7\" class=\"data row0 col7\" >1.000000</td>\n",
       "      <td id=\"T_45ca6_row0_col8\" class=\"data row0 col8\" >1.000000</td>\n",
       "    </tr>\n",
       "    <tr>\n",
       "      <th id=\"T_45ca6_level0_row1\" class=\"row_heading level0 row1\" >Magic</th>\n",
       "      <td id=\"T_45ca6_row1_col0\" class=\"data row1 col0\" >0.999830</td>\n",
       "      <td id=\"T_45ca6_row1_col1\" class=\"data row1 col1\" >0.996228</td>\n",
       "      <td id=\"T_45ca6_row1_col2\" class=\"data row1 col2\" >0.553456</td>\n",
       "      <td id=\"T_45ca6_row1_col3\" class=\"data row1 col3\" >1.000000</td>\n",
       "      <td id=\"T_45ca6_row1_col4\" class=\"data row1 col4\" >0.998854</td>\n",
       "      <td id=\"T_45ca6_row1_col5\" class=\"data row1 col5\" >1.000000</td>\n",
       "      <td id=\"T_45ca6_row1_col6\" class=\"data row1 col6\" >1.000000</td>\n",
       "      <td id=\"T_45ca6_row1_col7\" class=\"data row1 col7\" >1.000000</td>\n",
       "      <td id=\"T_45ca6_row1_col8\" class=\"data row1 col8\" >1.000000</td>\n",
       "    </tr>\n",
       "    <tr>\n",
       "      <th id=\"T_45ca6_level0_row2\" class=\"row_heading level0 row2\" >Livers</th>\n",
       "      <td id=\"T_45ca6_row2_col0\" class=\"data row2 col0\" >0.527209</td>\n",
       "      <td id=\"T_45ca6_row2_col1\" class=\"data row2 col1\" >0.705409</td>\n",
       "      <td id=\"T_45ca6_row2_col2\" class=\"data row2 col2\" >0.209247</td>\n",
       "      <td id=\"T_45ca6_row2_col3\" class=\"data row2 col3\" >0.869971</td>\n",
       "      <td id=\"T_45ca6_row2_col4\" class=\"data row2 col4\" >0.975632</td>\n",
       "      <td id=\"T_45ca6_row2_col5\" class=\"data row2 col5\" >0.881018</td>\n",
       "      <td id=\"T_45ca6_row2_col6\" class=\"data row2 col6\" >0.984343</td>\n",
       "      <td id=\"T_45ca6_row2_col7\" class=\"data row2 col7\" >0.999965</td>\n",
       "      <td id=\"T_45ca6_row2_col8\" class=\"data row2 col8\" >0.999945</td>\n",
       "    </tr>\n",
       "    <tr>\n",
       "      <th id=\"T_45ca6_level0_row3\" class=\"row_heading level0 row3\" >Letters</th>\n",
       "      <td id=\"T_45ca6_row3_col0\" class=\"data row3 col0\" >0.540871</td>\n",
       "      <td id=\"T_45ca6_row3_col1\" class=\"data row3 col1\" >0.982361</td>\n",
       "      <td id=\"T_45ca6_row3_col2\" class=\"data row3 col2\" >0.947001</td>\n",
       "      <td id=\"T_45ca6_row3_col3\" class=\"data row3 col3\" >0.984432</td>\n",
       "      <td id=\"T_45ca6_row3_col4\" class=\"data row3 col4\" >0.979942</td>\n",
       "      <td id=\"T_45ca6_row3_col5\" class=\"data row3 col5\" >0.996975</td>\n",
       "      <td id=\"T_45ca6_row3_col6\" class=\"data row3 col6\" >0.984166</td>\n",
       "      <td id=\"T_45ca6_row3_col7\" class=\"data row3 col7\" >0.987542</td>\n",
       "      <td id=\"T_45ca6_row3_col8\" class=\"data row3 col8\" >1.000000</td>\n",
       "    </tr>\n",
       "    <tr>\n",
       "      <th id=\"T_45ca6_level0_row4\" class=\"row_heading level0 row4\" >Page-Blocks</th>\n",
       "      <td id=\"T_45ca6_row4_col0\" class=\"data row4 col0\" >0.997872</td>\n",
       "      <td id=\"T_45ca6_row4_col1\" class=\"data row4 col1\" >1.000000</td>\n",
       "      <td id=\"T_45ca6_row4_col2\" class=\"data row4 col2\" >1.000000</td>\n",
       "      <td id=\"T_45ca6_row4_col3\" class=\"data row4 col3\" >1.000000</td>\n",
       "      <td id=\"T_45ca6_row4_col4\" class=\"data row4 col4\" >1.000000</td>\n",
       "      <td id=\"T_45ca6_row4_col5\" class=\"data row4 col5\" >1.000000</td>\n",
       "      <td id=\"T_45ca6_row4_col6\" class=\"data row4 col6\" >1.000000</td>\n",
       "      <td id=\"T_45ca6_row4_col7\" class=\"data row4 col7\" >1.000000</td>\n",
       "      <td id=\"T_45ca6_row4_col8\" class=\"data row4 col8\" >1.000000</td>\n",
       "    </tr>\n",
       "    <tr>\n",
       "      <th id=\"T_45ca6_level0_row5\" class=\"row_heading level0 row5\" >Red-wine</th>\n",
       "      <td id=\"T_45ca6_row5_col0\" class=\"data row5 col0\" >0.467064</td>\n",
       "      <td id=\"T_45ca6_row5_col1\" class=\"data row5 col1\" >0.239697</td>\n",
       "      <td id=\"T_45ca6_row5_col2\" class=\"data row5 col2\" >0.938136</td>\n",
       "      <td id=\"T_45ca6_row5_col3\" class=\"data row5 col3\" >0.990823</td>\n",
       "      <td id=\"T_45ca6_row5_col4\" class=\"data row5 col4\" >0.990119</td>\n",
       "      <td id=\"T_45ca6_row5_col5\" class=\"data row5 col5\" >1.000000</td>\n",
       "      <td id=\"T_45ca6_row5_col6\" class=\"data row5 col6\" >0.999992</td>\n",
       "      <td id=\"T_45ca6_row5_col7\" class=\"data row5 col7\" >1.000000</td>\n",
       "      <td id=\"T_45ca6_row5_col8\" class=\"data row5 col8\" >1.000000</td>\n",
       "    </tr>\n",
       "    <tr>\n",
       "      <th id=\"T_45ca6_level0_row6\" class=\"row_heading level0 row6\" >White-wine</th>\n",
       "      <td id=\"T_45ca6_row6_col0\" class=\"data row6 col0\" >0.412861</td>\n",
       "      <td id=\"T_45ca6_row6_col1\" class=\"data row6 col1\" >0.993200</td>\n",
       "      <td id=\"T_45ca6_row6_col2\" class=\"data row6 col2\" >0.794083</td>\n",
       "      <td id=\"T_45ca6_row6_col3\" class=\"data row6 col3\" >0.806029</td>\n",
       "      <td id=\"T_45ca6_row6_col4\" class=\"data row6 col4\" >0.999111</td>\n",
       "      <td id=\"T_45ca6_row6_col5\" class=\"data row6 col5\" >0.989864</td>\n",
       "      <td id=\"T_45ca6_row6_col6\" class=\"data row6 col6\" >0.998980</td>\n",
       "      <td id=\"T_45ca6_row6_col7\" class=\"data row6 col7\" >0.989034</td>\n",
       "      <td id=\"T_45ca6_row6_col8\" class=\"data row6 col8\" >1.000000</td>\n",
       "    </tr>\n",
       "  </tbody>\n",
       "</table>\n"
      ],
      "text/plain": [
       "<pandas.io.formats.style.Styler at 0x16462f29d60>"
      ]
     },
     "metadata": {},
     "output_type": "display_data"
    },
    {
     "data": {
      "text/html": [
       "<style type=\"text/css\">\n",
       "#T_0fc85_row0_col0 {\n",
       "  background-color: yellow;\n",
       "}\n",
       "#T_0fc85_row0_col1, #T_0fc85_row0_col2, #T_0fc85_row0_col3, #T_0fc85_row0_col4, #T_0fc85_row0_col5, #T_0fc85_row0_col6, #T_0fc85_row0_col7, #T_0fc85_row0_col8, #T_0fc85_row1_col0, #T_0fc85_row1_col1, #T_0fc85_row1_col2, #T_0fc85_row1_col3, #T_0fc85_row1_col4, #T_0fc85_row1_col5, #T_0fc85_row1_col6, #T_0fc85_row1_col7, #T_0fc85_row1_col8, #T_0fc85_row2_col0, #T_0fc85_row2_col1, #T_0fc85_row2_col2, #T_0fc85_row2_col3, #T_0fc85_row2_col4, #T_0fc85_row2_col5, #T_0fc85_row2_col6, #T_0fc85_row2_col7, #T_0fc85_row2_col8, #T_0fc85_row3_col0, #T_0fc85_row3_col1, #T_0fc85_row3_col2, #T_0fc85_row3_col3, #T_0fc85_row3_col4, #T_0fc85_row3_col5, #T_0fc85_row3_col6, #T_0fc85_row3_col7, #T_0fc85_row3_col8, #T_0fc85_row4_col0, #T_0fc85_row4_col1, #T_0fc85_row4_col2, #T_0fc85_row4_col3, #T_0fc85_row4_col4, #T_0fc85_row4_col5, #T_0fc85_row4_col6, #T_0fc85_row4_col7, #T_0fc85_row4_col8, #T_0fc85_row5_col0, #T_0fc85_row5_col1, #T_0fc85_row5_col2, #T_0fc85_row5_col3, #T_0fc85_row5_col4, #T_0fc85_row5_col5, #T_0fc85_row5_col6, #T_0fc85_row5_col7, #T_0fc85_row5_col8, #T_0fc85_row6_col0, #T_0fc85_row6_col1, #T_0fc85_row6_col2, #T_0fc85_row6_col3, #T_0fc85_row6_col4, #T_0fc85_row6_col5, #T_0fc85_row6_col6, #T_0fc85_row6_col7, #T_0fc85_row6_col8 {\n",
       "  background-color: ;\n",
       "}\n",
       "</style>\n",
       "<table id=\"T_0fc85\">\n",
       "  <thead>\n",
       "    <tr>\n",
       "      <th class=\"index_name level0\" >(7NN) Dataset/folds</th>\n",
       "      <th id=\"T_0fc85_level0_col0\" class=\"col_heading level0 col0\" >2</th>\n",
       "      <th id=\"T_0fc85_level0_col1\" class=\"col_heading level0 col1\" >3</th>\n",
       "      <th id=\"T_0fc85_level0_col2\" class=\"col_heading level0 col2\" >4</th>\n",
       "      <th id=\"T_0fc85_level0_col3\" class=\"col_heading level0 col3\" >5</th>\n",
       "      <th id=\"T_0fc85_level0_col4\" class=\"col_heading level0 col4\" >6</th>\n",
       "      <th id=\"T_0fc85_level0_col5\" class=\"col_heading level0 col5\" >7</th>\n",
       "      <th id=\"T_0fc85_level0_col6\" class=\"col_heading level0 col6\" >8</th>\n",
       "      <th id=\"T_0fc85_level0_col7\" class=\"col_heading level0 col7\" >9</th>\n",
       "      <th id=\"T_0fc85_level0_col8\" class=\"col_heading level0 col8\" >10</th>\n",
       "    </tr>\n",
       "  </thead>\n",
       "  <tbody>\n",
       "    <tr>\n",
       "      <th id=\"T_0fc85_level0_row0\" class=\"row_heading level0 row0\" >Haberman</th>\n",
       "      <td id=\"T_0fc85_row0_col0\" class=\"data row0 col0\" >0.000000</td>\n",
       "      <td id=\"T_0fc85_row0_col1\" class=\"data row0 col1\" >0.373536</td>\n",
       "      <td id=\"T_0fc85_row0_col2\" class=\"data row0 col2\" >0.984275</td>\n",
       "      <td id=\"T_0fc85_row0_col3\" class=\"data row0 col3\" >0.999960</td>\n",
       "      <td id=\"T_0fc85_row0_col4\" class=\"data row0 col4\" >1.000000</td>\n",
       "      <td id=\"T_0fc85_row0_col5\" class=\"data row0 col5\" >0.350122</td>\n",
       "      <td id=\"T_0fc85_row0_col6\" class=\"data row0 col6\" >0.987512</td>\n",
       "      <td id=\"T_0fc85_row0_col7\" class=\"data row0 col7\" >1.000000</td>\n",
       "      <td id=\"T_0fc85_row0_col8\" class=\"data row0 col8\" >1.000000</td>\n",
       "    </tr>\n",
       "    <tr>\n",
       "      <th id=\"T_0fc85_level0_row1\" class=\"row_heading level0 row1\" >Magic</th>\n",
       "      <td id=\"T_0fc85_row1_col0\" class=\"data row1 col0\" >0.997599</td>\n",
       "      <td id=\"T_0fc85_row1_col1\" class=\"data row1 col1\" >0.998862</td>\n",
       "      <td id=\"T_0fc85_row1_col2\" class=\"data row1 col2\" >0.984154</td>\n",
       "      <td id=\"T_0fc85_row1_col3\" class=\"data row1 col3\" >0.999926</td>\n",
       "      <td id=\"T_0fc85_row1_col4\" class=\"data row1 col4\" >1.000000</td>\n",
       "      <td id=\"T_0fc85_row1_col5\" class=\"data row1 col5\" >1.000000</td>\n",
       "      <td id=\"T_0fc85_row1_col6\" class=\"data row1 col6\" >1.000000</td>\n",
       "      <td id=\"T_0fc85_row1_col7\" class=\"data row1 col7\" >1.000000</td>\n",
       "      <td id=\"T_0fc85_row1_col8\" class=\"data row1 col8\" >1.000000</td>\n",
       "    </tr>\n",
       "    <tr>\n",
       "      <th id=\"T_0fc85_level0_row2\" class=\"row_heading level0 row2\" >Livers</th>\n",
       "      <td id=\"T_0fc85_row2_col0\" class=\"data row2 col0\" >0.414356</td>\n",
       "      <td id=\"T_0fc85_row2_col1\" class=\"data row2 col1\" >0.893988</td>\n",
       "      <td id=\"T_0fc85_row2_col2\" class=\"data row2 col2\" >0.703853</td>\n",
       "      <td id=\"T_0fc85_row2_col3\" class=\"data row2 col3\" >0.805683</td>\n",
       "      <td id=\"T_0fc85_row2_col4\" class=\"data row2 col4\" >0.999665</td>\n",
       "      <td id=\"T_0fc85_row2_col5\" class=\"data row2 col5\" >0.999758</td>\n",
       "      <td id=\"T_0fc85_row2_col6\" class=\"data row2 col6\" >0.998214</td>\n",
       "      <td id=\"T_0fc85_row2_col7\" class=\"data row2 col7\" >1.000000</td>\n",
       "      <td id=\"T_0fc85_row2_col8\" class=\"data row2 col8\" >0.985949</td>\n",
       "    </tr>\n",
       "    <tr>\n",
       "      <th id=\"T_0fc85_level0_row3\" class=\"row_heading level0 row3\" >Letters</th>\n",
       "      <td id=\"T_0fc85_row3_col0\" class=\"data row3 col0\" >0.370120</td>\n",
       "      <td id=\"T_0fc85_row3_col1\" class=\"data row3 col1\" >0.475599</td>\n",
       "      <td id=\"T_0fc85_row3_col2\" class=\"data row3 col2\" >0.092167</td>\n",
       "      <td id=\"T_0fc85_row3_col3\" class=\"data row3 col3\" >0.611180</td>\n",
       "      <td id=\"T_0fc85_row3_col4\" class=\"data row3 col4\" >0.475987</td>\n",
       "      <td id=\"T_0fc85_row3_col5\" class=\"data row3 col5\" >0.999957</td>\n",
       "      <td id=\"T_0fc85_row3_col6\" class=\"data row3 col6\" >0.999992</td>\n",
       "      <td id=\"T_0fc85_row3_col7\" class=\"data row3 col7\" >0.984248</td>\n",
       "      <td id=\"T_0fc85_row3_col8\" class=\"data row3 col8\" >1.000000</td>\n",
       "    </tr>\n",
       "    <tr>\n",
       "      <th id=\"T_0fc85_level0_row4\" class=\"row_heading level0 row4\" >Page-Blocks</th>\n",
       "      <td id=\"T_0fc85_row4_col0\" class=\"data row4 col0\" >0.997398</td>\n",
       "      <td id=\"T_0fc85_row4_col1\" class=\"data row4 col1\" >1.000000</td>\n",
       "      <td id=\"T_0fc85_row4_col2\" class=\"data row4 col2\" >0.999999</td>\n",
       "      <td id=\"T_0fc85_row4_col3\" class=\"data row4 col3\" >1.000000</td>\n",
       "      <td id=\"T_0fc85_row4_col4\" class=\"data row4 col4\" >1.000000</td>\n",
       "      <td id=\"T_0fc85_row4_col5\" class=\"data row4 col5\" >1.000000</td>\n",
       "      <td id=\"T_0fc85_row4_col6\" class=\"data row4 col6\" >1.000000</td>\n",
       "      <td id=\"T_0fc85_row4_col7\" class=\"data row4 col7\" >1.000000</td>\n",
       "      <td id=\"T_0fc85_row4_col8\" class=\"data row4 col8\" >1.000000</td>\n",
       "    </tr>\n",
       "    <tr>\n",
       "      <th id=\"T_0fc85_level0_row5\" class=\"row_heading level0 row5\" >Red-wine</th>\n",
       "      <td id=\"T_0fc85_row5_col0\" class=\"data row5 col0\" >0.330275</td>\n",
       "      <td id=\"T_0fc85_row5_col1\" class=\"data row5 col1\" >0.837347</td>\n",
       "      <td id=\"T_0fc85_row5_col2\" class=\"data row5 col2\" >0.888244</td>\n",
       "      <td id=\"T_0fc85_row5_col3\" class=\"data row5 col3\" >0.824378</td>\n",
       "      <td id=\"T_0fc85_row5_col4\" class=\"data row5 col4\" >0.956167</td>\n",
       "      <td id=\"T_0fc85_row5_col5\" class=\"data row5 col5\" >1.000000</td>\n",
       "      <td id=\"T_0fc85_row5_col6\" class=\"data row5 col6\" >0.999988</td>\n",
       "      <td id=\"T_0fc85_row5_col7\" class=\"data row5 col7\" >1.000000</td>\n",
       "      <td id=\"T_0fc85_row5_col8\" class=\"data row5 col8\" >0.999783</td>\n",
       "    </tr>\n",
       "    <tr>\n",
       "      <th id=\"T_0fc85_level0_row6\" class=\"row_heading level0 row6\" >White-wine</th>\n",
       "      <td id=\"T_0fc85_row6_col0\" class=\"data row6 col0\" >0.668899</td>\n",
       "      <td id=\"T_0fc85_row6_col1\" class=\"data row6 col1\" >0.932369</td>\n",
       "      <td id=\"T_0fc85_row6_col2\" class=\"data row6 col2\" >0.996489</td>\n",
       "      <td id=\"T_0fc85_row6_col3\" class=\"data row6 col3\" >0.999024</td>\n",
       "      <td id=\"T_0fc85_row6_col4\" class=\"data row6 col4\" >0.999998</td>\n",
       "      <td id=\"T_0fc85_row6_col5\" class=\"data row6 col5\" >0.999808</td>\n",
       "      <td id=\"T_0fc85_row6_col6\" class=\"data row6 col6\" >1.000000</td>\n",
       "      <td id=\"T_0fc85_row6_col7\" class=\"data row6 col7\" >1.000000</td>\n",
       "      <td id=\"T_0fc85_row6_col8\" class=\"data row6 col8\" >1.000000</td>\n",
       "    </tr>\n",
       "  </tbody>\n",
       "</table>\n"
      ],
      "text/plain": [
       "<pandas.io.formats.style.Styler at 0x16462f29d60>"
      ]
     },
     "metadata": {},
     "output_type": "display_data"
    },
    {
     "data": {
      "text/html": [
       "<style type=\"text/css\">\n",
       "#T_4763e_row0_col0 {\n",
       "  background-color: yellow;\n",
       "}\n",
       "#T_4763e_row0_col1, #T_4763e_row0_col2, #T_4763e_row0_col3, #T_4763e_row0_col4, #T_4763e_row0_col5, #T_4763e_row0_col6, #T_4763e_row0_col7, #T_4763e_row0_col8, #T_4763e_row1_col0, #T_4763e_row1_col1, #T_4763e_row1_col2, #T_4763e_row1_col3, #T_4763e_row1_col4, #T_4763e_row1_col5, #T_4763e_row1_col6, #T_4763e_row1_col7, #T_4763e_row1_col8, #T_4763e_row2_col0, #T_4763e_row2_col1, #T_4763e_row2_col2, #T_4763e_row2_col3, #T_4763e_row2_col4, #T_4763e_row2_col5, #T_4763e_row2_col6, #T_4763e_row2_col7, #T_4763e_row2_col8, #T_4763e_row3_col0, #T_4763e_row3_col1, #T_4763e_row3_col2, #T_4763e_row3_col3, #T_4763e_row3_col4, #T_4763e_row3_col5, #T_4763e_row3_col6, #T_4763e_row3_col7, #T_4763e_row3_col8, #T_4763e_row4_col0, #T_4763e_row4_col1, #T_4763e_row4_col2, #T_4763e_row4_col3, #T_4763e_row4_col4, #T_4763e_row4_col5, #T_4763e_row4_col6, #T_4763e_row4_col7, #T_4763e_row4_col8, #T_4763e_row5_col0, #T_4763e_row5_col1, #T_4763e_row5_col2, #T_4763e_row5_col3, #T_4763e_row5_col4, #T_4763e_row5_col5, #T_4763e_row5_col6, #T_4763e_row5_col7, #T_4763e_row5_col8, #T_4763e_row6_col0, #T_4763e_row6_col1, #T_4763e_row6_col2, #T_4763e_row6_col3, #T_4763e_row6_col4, #T_4763e_row6_col5, #T_4763e_row6_col6, #T_4763e_row6_col7, #T_4763e_row6_col8 {\n",
       "  background-color: ;\n",
       "}\n",
       "</style>\n",
       "<table id=\"T_4763e\">\n",
       "  <thead>\n",
       "    <tr>\n",
       "      <th class=\"index_name level0\" >(NB) Dataset/folds</th>\n",
       "      <th id=\"T_4763e_level0_col0\" class=\"col_heading level0 col0\" >2</th>\n",
       "      <th id=\"T_4763e_level0_col1\" class=\"col_heading level0 col1\" >3</th>\n",
       "      <th id=\"T_4763e_level0_col2\" class=\"col_heading level0 col2\" >4</th>\n",
       "      <th id=\"T_4763e_level0_col3\" class=\"col_heading level0 col3\" >5</th>\n",
       "      <th id=\"T_4763e_level0_col4\" class=\"col_heading level0 col4\" >6</th>\n",
       "      <th id=\"T_4763e_level0_col5\" class=\"col_heading level0 col5\" >7</th>\n",
       "      <th id=\"T_4763e_level0_col6\" class=\"col_heading level0 col6\" >8</th>\n",
       "      <th id=\"T_4763e_level0_col7\" class=\"col_heading level0 col7\" >9</th>\n",
       "      <th id=\"T_4763e_level0_col8\" class=\"col_heading level0 col8\" >10</th>\n",
       "    </tr>\n",
       "  </thead>\n",
       "  <tbody>\n",
       "    <tr>\n",
       "      <th id=\"T_4763e_level0_row0\" class=\"row_heading level0 row0\" >Haberman</th>\n",
       "      <td id=\"T_4763e_row0_col0\" class=\"data row0 col0\" >0.000000</td>\n",
       "      <td id=\"T_4763e_row0_col1\" class=\"data row0 col1\" >0.373536</td>\n",
       "      <td id=\"T_4763e_row0_col2\" class=\"data row0 col2\" >0.984275</td>\n",
       "      <td id=\"T_4763e_row0_col3\" class=\"data row0 col3\" >0.999960</td>\n",
       "      <td id=\"T_4763e_row0_col4\" class=\"data row0 col4\" >1.000000</td>\n",
       "      <td id=\"T_4763e_row0_col5\" class=\"data row0 col5\" >0.350122</td>\n",
       "      <td id=\"T_4763e_row0_col6\" class=\"data row0 col6\" >0.987512</td>\n",
       "      <td id=\"T_4763e_row0_col7\" class=\"data row0 col7\" >1.000000</td>\n",
       "      <td id=\"T_4763e_row0_col8\" class=\"data row0 col8\" >1.000000</td>\n",
       "    </tr>\n",
       "    <tr>\n",
       "      <th id=\"T_4763e_level0_row1\" class=\"row_heading level0 row1\" >Magic</th>\n",
       "      <td id=\"T_4763e_row1_col0\" class=\"data row1 col0\" >0.997599</td>\n",
       "      <td id=\"T_4763e_row1_col1\" class=\"data row1 col1\" >0.998862</td>\n",
       "      <td id=\"T_4763e_row1_col2\" class=\"data row1 col2\" >0.984154</td>\n",
       "      <td id=\"T_4763e_row1_col3\" class=\"data row1 col3\" >0.999926</td>\n",
       "      <td id=\"T_4763e_row1_col4\" class=\"data row1 col4\" >1.000000</td>\n",
       "      <td id=\"T_4763e_row1_col5\" class=\"data row1 col5\" >1.000000</td>\n",
       "      <td id=\"T_4763e_row1_col6\" class=\"data row1 col6\" >1.000000</td>\n",
       "      <td id=\"T_4763e_row1_col7\" class=\"data row1 col7\" >1.000000</td>\n",
       "      <td id=\"T_4763e_row1_col8\" class=\"data row1 col8\" >1.000000</td>\n",
       "    </tr>\n",
       "    <tr>\n",
       "      <th id=\"T_4763e_level0_row2\" class=\"row_heading level0 row2\" >Livers</th>\n",
       "      <td id=\"T_4763e_row2_col0\" class=\"data row2 col0\" >0.414356</td>\n",
       "      <td id=\"T_4763e_row2_col1\" class=\"data row2 col1\" >0.893988</td>\n",
       "      <td id=\"T_4763e_row2_col2\" class=\"data row2 col2\" >0.703853</td>\n",
       "      <td id=\"T_4763e_row2_col3\" class=\"data row2 col3\" >0.805683</td>\n",
       "      <td id=\"T_4763e_row2_col4\" class=\"data row2 col4\" >0.999665</td>\n",
       "      <td id=\"T_4763e_row2_col5\" class=\"data row2 col5\" >0.999758</td>\n",
       "      <td id=\"T_4763e_row2_col6\" class=\"data row2 col6\" >0.998214</td>\n",
       "      <td id=\"T_4763e_row2_col7\" class=\"data row2 col7\" >1.000000</td>\n",
       "      <td id=\"T_4763e_row2_col8\" class=\"data row2 col8\" >0.985949</td>\n",
       "    </tr>\n",
       "    <tr>\n",
       "      <th id=\"T_4763e_level0_row3\" class=\"row_heading level0 row3\" >Letters</th>\n",
       "      <td id=\"T_4763e_row3_col0\" class=\"data row3 col0\" >0.370120</td>\n",
       "      <td id=\"T_4763e_row3_col1\" class=\"data row3 col1\" >0.475599</td>\n",
       "      <td id=\"T_4763e_row3_col2\" class=\"data row3 col2\" >0.092167</td>\n",
       "      <td id=\"T_4763e_row3_col3\" class=\"data row3 col3\" >0.611180</td>\n",
       "      <td id=\"T_4763e_row3_col4\" class=\"data row3 col4\" >0.475987</td>\n",
       "      <td id=\"T_4763e_row3_col5\" class=\"data row3 col5\" >0.999957</td>\n",
       "      <td id=\"T_4763e_row3_col6\" class=\"data row3 col6\" >0.999992</td>\n",
       "      <td id=\"T_4763e_row3_col7\" class=\"data row3 col7\" >0.984248</td>\n",
       "      <td id=\"T_4763e_row3_col8\" class=\"data row3 col8\" >1.000000</td>\n",
       "    </tr>\n",
       "    <tr>\n",
       "      <th id=\"T_4763e_level0_row4\" class=\"row_heading level0 row4\" >Page-Blocks</th>\n",
       "      <td id=\"T_4763e_row4_col0\" class=\"data row4 col0\" >0.997398</td>\n",
       "      <td id=\"T_4763e_row4_col1\" class=\"data row4 col1\" >1.000000</td>\n",
       "      <td id=\"T_4763e_row4_col2\" class=\"data row4 col2\" >0.999999</td>\n",
       "      <td id=\"T_4763e_row4_col3\" class=\"data row4 col3\" >1.000000</td>\n",
       "      <td id=\"T_4763e_row4_col4\" class=\"data row4 col4\" >1.000000</td>\n",
       "      <td id=\"T_4763e_row4_col5\" class=\"data row4 col5\" >1.000000</td>\n",
       "      <td id=\"T_4763e_row4_col6\" class=\"data row4 col6\" >1.000000</td>\n",
       "      <td id=\"T_4763e_row4_col7\" class=\"data row4 col7\" >1.000000</td>\n",
       "      <td id=\"T_4763e_row4_col8\" class=\"data row4 col8\" >1.000000</td>\n",
       "    </tr>\n",
       "    <tr>\n",
       "      <th id=\"T_4763e_level0_row5\" class=\"row_heading level0 row5\" >Red-wine</th>\n",
       "      <td id=\"T_4763e_row5_col0\" class=\"data row5 col0\" >0.330275</td>\n",
       "      <td id=\"T_4763e_row5_col1\" class=\"data row5 col1\" >0.837347</td>\n",
       "      <td id=\"T_4763e_row5_col2\" class=\"data row5 col2\" >0.888244</td>\n",
       "      <td id=\"T_4763e_row5_col3\" class=\"data row5 col3\" >0.824378</td>\n",
       "      <td id=\"T_4763e_row5_col4\" class=\"data row5 col4\" >0.956167</td>\n",
       "      <td id=\"T_4763e_row5_col5\" class=\"data row5 col5\" >1.000000</td>\n",
       "      <td id=\"T_4763e_row5_col6\" class=\"data row5 col6\" >0.999988</td>\n",
       "      <td id=\"T_4763e_row5_col7\" class=\"data row5 col7\" >1.000000</td>\n",
       "      <td id=\"T_4763e_row5_col8\" class=\"data row5 col8\" >0.999783</td>\n",
       "    </tr>\n",
       "    <tr>\n",
       "      <th id=\"T_4763e_level0_row6\" class=\"row_heading level0 row6\" >White-wine</th>\n",
       "      <td id=\"T_4763e_row6_col0\" class=\"data row6 col0\" >0.668899</td>\n",
       "      <td id=\"T_4763e_row6_col1\" class=\"data row6 col1\" >0.932369</td>\n",
       "      <td id=\"T_4763e_row6_col2\" class=\"data row6 col2\" >0.996489</td>\n",
       "      <td id=\"T_4763e_row6_col3\" class=\"data row6 col3\" >0.999024</td>\n",
       "      <td id=\"T_4763e_row6_col4\" class=\"data row6 col4\" >0.999998</td>\n",
       "      <td id=\"T_4763e_row6_col5\" class=\"data row6 col5\" >0.999808</td>\n",
       "      <td id=\"T_4763e_row6_col6\" class=\"data row6 col6\" >1.000000</td>\n",
       "      <td id=\"T_4763e_row6_col7\" class=\"data row6 col7\" >1.000000</td>\n",
       "      <td id=\"T_4763e_row6_col8\" class=\"data row6 col8\" >1.000000</td>\n",
       "    </tr>\n",
       "  </tbody>\n",
       "</table>\n"
      ],
      "text/plain": [
       "<pandas.io.formats.style.Styler at 0x16462f29d60>"
      ]
     },
     "metadata": {},
     "output_type": "display_data"
    }
   ],
   "source": [
    "def highlight_accepted_null_hypothesis(val):\n",
    "    \"\"\"\n",
    "    styler function for pandas dataframe\n",
    "    if the null hypothesis probability is less than 0.05, then color the background as yellow\n",
    "    \"\"\"\n",
    "    \n",
    "    background = 'yellow' if val < 0.05 else ''\n",
    "    \n",
    "    return 'background-color: %s' % background\n",
    "\n",
    "## save all the tex versions of table 3 in the array\n",
    "table3_df_tex_versions = []\n",
    "\n",
    "for method in ['1NN', '3NN', '5NN', '7NN', 'NB']:\n",
    "    \n",
    "    new_dict = {'Haberman': table3_results_haberman[method],\n",
    "                'Magic': table3_results_magic[method],\n",
    "                'Livers': table3_results_livers_disorder[method],\n",
    "                'Letters': table3_results_letters_reco[method],\n",
    "                'Page-Blocks' : table3_results_page_blocks[method],\n",
    "                'Red-wine' : table3_results_redWine[method],\n",
    "                'White-wine' : table3_results_whiteWine[method]\n",
    "               }\n",
    "    table3_df = pd.DataFrame.from_dict(new_dict, orient='index')\n",
    "    table3_df = table3_df.style.applymap(highlight_accepted_null_hypothesis)\n",
    "    \n",
    "    table3_df.columns.name = f'({method}) Dataset/folds'\n",
    "    table3_df_tex_versions.append(table3_df.to_latex())\n",
    "    display(table3_df)"
   ]
  },
  {
   "cell_type": "markdown",
   "id": "9591ead3",
   "metadata": {},
   "source": [
    "# Table 4 Reproduction\n",
    "Now lets find the frequency of significance for the independence test."
   ]
  },
  {
   "cell_type": "code",
   "execution_count": 62,
   "id": "24cdc705",
   "metadata": {},
   "outputs": [
    {
     "data": {
      "text/html": [
       "<style type=\"text/css\">\n",
       "#T_5fa35_row0_col0, #T_5fa35_row0_col1, #T_5fa35_row0_col2, #T_5fa35_row0_col3, #T_5fa35_row0_col4, #T_5fa35_row0_col5, #T_5fa35_row0_col6, #T_5fa35_row0_col7, #T_5fa35_row0_col8, #T_5fa35_row1_col0, #T_5fa35_row1_col1, #T_5fa35_row1_col2, #T_5fa35_row1_col3, #T_5fa35_row1_col4, #T_5fa35_row1_col5, #T_5fa35_row1_col6, #T_5fa35_row1_col7, #T_5fa35_row1_col8, #T_5fa35_row2_col0, #T_5fa35_row2_col1, #T_5fa35_row2_col2, #T_5fa35_row2_col3, #T_5fa35_row2_col4, #T_5fa35_row2_col5, #T_5fa35_row2_col6, #T_5fa35_row2_col7, #T_5fa35_row2_col8, #T_5fa35_row3_col0, #T_5fa35_row3_col1, #T_5fa35_row3_col2, #T_5fa35_row3_col3, #T_5fa35_row3_col4, #T_5fa35_row3_col5, #T_5fa35_row3_col6, #T_5fa35_row3_col7, #T_5fa35_row3_col8, #T_5fa35_row4_col0, #T_5fa35_row4_col1, #T_5fa35_row4_col2, #T_5fa35_row4_col3, #T_5fa35_row4_col4, #T_5fa35_row4_col5, #T_5fa35_row4_col6, #T_5fa35_row4_col7, #T_5fa35_row4_col8, #T_5fa35_row5_col0, #T_5fa35_row5_col1, #T_5fa35_row5_col2, #T_5fa35_row5_col3, #T_5fa35_row5_col4, #T_5fa35_row5_col5, #T_5fa35_row5_col6, #T_5fa35_row5_col7, #T_5fa35_row5_col8 {\n",
       "  text-align: center;\n",
       "}\n",
       "</style>\n",
       "<table id=\"T_5fa35\">\n",
       "  <thead>\n",
       "    <tr>\n",
       "      <th class=\"index_name level0\" >Method / Folds</th>\n",
       "      <th id=\"T_5fa35_level0_col0\" class=\"col_heading level0 col0\" >2</th>\n",
       "      <th id=\"T_5fa35_level0_col1\" class=\"col_heading level0 col1\" >3</th>\n",
       "      <th id=\"T_5fa35_level0_col2\" class=\"col_heading level0 col2\" >4</th>\n",
       "      <th id=\"T_5fa35_level0_col3\" class=\"col_heading level0 col3\" >5</th>\n",
       "      <th id=\"T_5fa35_level0_col4\" class=\"col_heading level0 col4\" >6</th>\n",
       "      <th id=\"T_5fa35_level0_col5\" class=\"col_heading level0 col5\" >7</th>\n",
       "      <th id=\"T_5fa35_level0_col6\" class=\"col_heading level0 col6\" >8</th>\n",
       "      <th id=\"T_5fa35_level0_col7\" class=\"col_heading level0 col7\" >9</th>\n",
       "      <th id=\"T_5fa35_level0_col8\" class=\"col_heading level0 col8\" >Total</th>\n",
       "    </tr>\n",
       "  </thead>\n",
       "  <tbody>\n",
       "    <tr>\n",
       "      <th id=\"T_5fa35_level0_row0\" class=\"row_heading level0 row0\" >1NN</th>\n",
       "      <td id=\"T_5fa35_row0_col0\" class=\"data row0 col0\" >1</td>\n",
       "      <td id=\"T_5fa35_row0_col1\" class=\"data row0 col1\" >0</td>\n",
       "      <td id=\"T_5fa35_row0_col2\" class=\"data row0 col2\" >0</td>\n",
       "      <td id=\"T_5fa35_row0_col3\" class=\"data row0 col3\" >0</td>\n",
       "      <td id=\"T_5fa35_row0_col4\" class=\"data row0 col4\" >0</td>\n",
       "      <td id=\"T_5fa35_row0_col5\" class=\"data row0 col5\" >0</td>\n",
       "      <td id=\"T_5fa35_row0_col6\" class=\"data row0 col6\" >0</td>\n",
       "      <td id=\"T_5fa35_row0_col7\" class=\"data row0 col7\" >0</td>\n",
       "      <td id=\"T_5fa35_row0_col8\" class=\"data row0 col8\" >1</td>\n",
       "    </tr>\n",
       "    <tr>\n",
       "      <th id=\"T_5fa35_level0_row1\" class=\"row_heading level0 row1\" >3NN</th>\n",
       "      <td id=\"T_5fa35_row1_col0\" class=\"data row1 col0\" >0</td>\n",
       "      <td id=\"T_5fa35_row1_col1\" class=\"data row1 col1\" >0</td>\n",
       "      <td id=\"T_5fa35_row1_col2\" class=\"data row1 col2\" >1</td>\n",
       "      <td id=\"T_5fa35_row1_col3\" class=\"data row1 col3\" >0</td>\n",
       "      <td id=\"T_5fa35_row1_col4\" class=\"data row1 col4\" >0</td>\n",
       "      <td id=\"T_5fa35_row1_col5\" class=\"data row1 col5\" >0</td>\n",
       "      <td id=\"T_5fa35_row1_col6\" class=\"data row1 col6\" >0</td>\n",
       "      <td id=\"T_5fa35_row1_col7\" class=\"data row1 col7\" >0</td>\n",
       "      <td id=\"T_5fa35_row1_col8\" class=\"data row1 col8\" >1</td>\n",
       "    </tr>\n",
       "    <tr>\n",
       "      <th id=\"T_5fa35_level0_row2\" class=\"row_heading level0 row2\" >5NN</th>\n",
       "      <td id=\"T_5fa35_row2_col0\" class=\"data row2 col0\" >0</td>\n",
       "      <td id=\"T_5fa35_row2_col1\" class=\"data row2 col1\" >0</td>\n",
       "      <td id=\"T_5fa35_row2_col2\" class=\"data row2 col2\" >0</td>\n",
       "      <td id=\"T_5fa35_row2_col3\" class=\"data row2 col3\" >0</td>\n",
       "      <td id=\"T_5fa35_row2_col4\" class=\"data row2 col4\" >0</td>\n",
       "      <td id=\"T_5fa35_row2_col5\" class=\"data row2 col5\" >0</td>\n",
       "      <td id=\"T_5fa35_row2_col6\" class=\"data row2 col6\" >0</td>\n",
       "      <td id=\"T_5fa35_row2_col7\" class=\"data row2 col7\" >0</td>\n",
       "      <td id=\"T_5fa35_row2_col8\" class=\"data row2 col8\" >0</td>\n",
       "    </tr>\n",
       "    <tr>\n",
       "      <th id=\"T_5fa35_level0_row3\" class=\"row_heading level0 row3\" >7NN</th>\n",
       "      <td id=\"T_5fa35_row3_col0\" class=\"data row3 col0\" >1</td>\n",
       "      <td id=\"T_5fa35_row3_col1\" class=\"data row3 col1\" >0</td>\n",
       "      <td id=\"T_5fa35_row3_col2\" class=\"data row3 col2\" >0</td>\n",
       "      <td id=\"T_5fa35_row3_col3\" class=\"data row3 col3\" >0</td>\n",
       "      <td id=\"T_5fa35_row3_col4\" class=\"data row3 col4\" >0</td>\n",
       "      <td id=\"T_5fa35_row3_col5\" class=\"data row3 col5\" >0</td>\n",
       "      <td id=\"T_5fa35_row3_col6\" class=\"data row3 col6\" >0</td>\n",
       "      <td id=\"T_5fa35_row3_col7\" class=\"data row3 col7\" >0</td>\n",
       "      <td id=\"T_5fa35_row3_col8\" class=\"data row3 col8\" >1</td>\n",
       "    </tr>\n",
       "    <tr>\n",
       "      <th id=\"T_5fa35_level0_row4\" class=\"row_heading level0 row4\" >NB</th>\n",
       "      <td id=\"T_5fa35_row4_col0\" class=\"data row4 col0\" >1</td>\n",
       "      <td id=\"T_5fa35_row4_col1\" class=\"data row4 col1\" >0</td>\n",
       "      <td id=\"T_5fa35_row4_col2\" class=\"data row4 col2\" >0</td>\n",
       "      <td id=\"T_5fa35_row4_col3\" class=\"data row4 col3\" >0</td>\n",
       "      <td id=\"T_5fa35_row4_col4\" class=\"data row4 col4\" >0</td>\n",
       "      <td id=\"T_5fa35_row4_col5\" class=\"data row4 col5\" >0</td>\n",
       "      <td id=\"T_5fa35_row4_col6\" class=\"data row4 col6\" >0</td>\n",
       "      <td id=\"T_5fa35_row4_col7\" class=\"data row4 col7\" >0</td>\n",
       "      <td id=\"T_5fa35_row4_col8\" class=\"data row4 col8\" >1</td>\n",
       "    </tr>\n",
       "    <tr>\n",
       "      <th id=\"T_5fa35_level0_row5\" class=\"row_heading level0 row5\" >Total</th>\n",
       "      <td id=\"T_5fa35_row5_col0\" class=\"data row5 col0\" >3</td>\n",
       "      <td id=\"T_5fa35_row5_col1\" class=\"data row5 col1\" >0</td>\n",
       "      <td id=\"T_5fa35_row5_col2\" class=\"data row5 col2\" >1</td>\n",
       "      <td id=\"T_5fa35_row5_col3\" class=\"data row5 col3\" >0</td>\n",
       "      <td id=\"T_5fa35_row5_col4\" class=\"data row5 col4\" >0</td>\n",
       "      <td id=\"T_5fa35_row5_col5\" class=\"data row5 col5\" >0</td>\n",
       "      <td id=\"T_5fa35_row5_col6\" class=\"data row5 col6\" >0</td>\n",
       "      <td id=\"T_5fa35_row5_col7\" class=\"data row5 col7\" >0</td>\n",
       "      <td id=\"T_5fa35_row5_col8\" class=\"data row5 col8\" >4</td>\n",
       "    </tr>\n",
       "  </tbody>\n",
       "</table>\n"
      ],
      "text/plain": [
       "<pandas.io.formats.style.Styler at 0x16461017ca0>"
      ]
     },
     "execution_count": 62,
     "metadata": {},
     "output_type": "execute_result"
    }
   ],
   "source": [
    "## initialize a dictionary for it\n",
    "table4_frequency_significance_dict = {}\n",
    "\n",
    "for method in ['1NN', '3NN', '5NN', '7NN', 'NB']:\n",
    "    \n",
    "    new_dict = {'Haberman': table3_results_haberman[method],\n",
    "                'Magic': table3_results_magic[method],\n",
    "                'Livers': table3_results_livers_disorder[method],\n",
    "                'Letters': table3_results_letters_reco[method],\n",
    "                'Page-Blocks' : table3_results_page_blocks[method],\n",
    "                'Red-wine' : table3_results_redWine[method],\n",
    "                'White-wine' : table3_results_whiteWine[method]\n",
    "               }\n",
    "    table3_df = pd.DataFrame.from_dict(new_dict, orient='index')\n",
    "    \n",
    "    \n",
    "    ## find each methods null hypothesis acceptence count\n",
    "    table4_folds_frequency_dict = {}\n",
    "    total = 0\n",
    "    for folds in range(2, 10):\n",
    "        ## find how many null hypothesis was not rejected\n",
    "        ## threshold is 0.05\n",
    "        table4_frequency_significance_count = sum(table3_df[str(folds)].values < 0.05)\n",
    "        \n",
    "        ## append the null hypothesis acceptence count to frequency dict\n",
    "        table4_folds_frequency_dict[f'{folds}'] = table4_frequency_significance_count\n",
    "        \n",
    "        total += table4_frequency_significance_count\n",
    "    table4_folds_frequency_dict['Total'] = total\n",
    "    \n",
    "    ## append to the results\n",
    "    table4_frequency_significance_dict[method] = table4_folds_frequency_dict\n",
    "    \n",
    "\n",
    "## not containing the totals row\n",
    "temp_df = pd.DataFrame.from_dict(table4_frequency_significance_dict, orient='index')\n",
    "\n",
    "\n",
    "####### the last row of table 4\n",
    "## table 4 is created and just one more thing to add\n",
    "## the total counts row\n",
    "table4_totals_dict = {}\n",
    "for total_column in range(2, 10):\n",
    "    table4_totals_dict[str(total_column)] = sum(temp_df[str(total_column)])\n",
    "table4_totals_dict['Total'] = sum(temp_df['Total'])\n",
    "\n",
    "## Add the last row to the table4 dict\n",
    "table4_frequency_significance_dict['Total'] = table4_totals_dict\n",
    "\n",
    "## create the dataframe of table 4\n",
    "table4_df = pd.DataFrame.from_dict(table4_frequency_significance_dict, orient='index')\n",
    "\n",
    "\n",
    "table4_df.columns.name = 'Method / Folds'\n",
    "table4_df.style.set_properties(**{'text-align': 'center'})"
   ]
  },
  {
   "cell_type": "code",
   "execution_count": 63,
   "id": "58169841",
   "metadata": {},
   "outputs": [
    {
     "data": {
      "text/plain": [
       "0.012698412698412698"
      ]
     },
     "execution_count": 63,
     "metadata": {},
     "output_type": "execute_result"
    }
   ],
   "source": [
    "## File methods, `1NN`, `3NN`, `5NN`, `7NN, `NB`\n",
    "## `NB` is the abbreviation for `Naive Bayes` \n",
    "\n",
    "## see the rejection rate for null hypothesis\n",
    "table4_df['Total']['Total'] / (5 * table3_df.shape[0] * (table3_df.shape[1]))"
   ]
  },
  {
   "cell_type": "markdown",
   "id": "d56d3789",
   "metadata": {},
   "source": [
    "As we can see the rejection rate for null hypothesis is about 1%, So the null hypothesis (folds dependece) is rejected and we can say that fold accuracies are independent."
   ]
  },
  {
   "cell_type": "markdown",
   "id": "c5fddfa9",
   "metadata": {},
   "source": [
    "# Saving the tables for the report"
   ]
  },
  {
   "cell_type": "code",
   "execution_count": 68,
   "id": "efd23c37",
   "metadata": {},
   "outputs": [
    {
     "name": "stdout",
     "output_type": "stream",
     "text": [
      "\\begin{tabular}{lrrrrr}\n",
      " & 1NN & 3NN & 5NN & 7NN & NBC \\\\\n",
      "Haberman & 0.676471 & 0.702614 & 0.722222 & 0.725490 & 0.725490 \\\\\n",
      "Magic & 0.962450 & 0.959500 & 0.958000 & 0.955850 & 0.955850 \\\\\n",
      "Livers & 0.620290 & 0.637681 & 0.660870 & 0.686957 & 0.686957 \\\\\n",
      "Letter & 0.962450 & 0.959500 & 0.958000 & 0.955850 & 0.955850 \\\\\n",
      "Page-Blocks & 0.957245 & 0.957427 & 0.957062 & 0.955235 & 0.955235 \\\\\n",
      "Red-wine & 0.615385 & 0.523452 & 0.510319 & 0.499687 & 0.499687 \\\\\n",
      "White-wine & 0.616170 & 0.506533 & 0.495917 & 0.488158 & 0.488158 \\\\\n",
      "\\end{tabular}\n",
      "\n"
     ]
    }
   ],
   "source": [
    "Table2_tex = table2_df.style.to_latex()\n",
    "print(Table2_tex)"
   ]
  },
  {
   "cell_type": "code",
   "execution_count": 69,
   "id": "3f9e7ef5",
   "metadata": {},
   "outputs": [
    {
     "name": "stdout",
     "output_type": "stream",
     "text": [
      "\\begin{tabular}{lrrrrrrrrr}\n",
      "Method / Folds & 2 & 3 & 4 & 5 & 6 & 7 & 8 & 9 & Total \\\\\n",
      "1NN & 1 & 0 & 0 & 0 & 0 & 0 & 0 & 0 & 1 \\\\\n",
      "3NN & 0 & 0 & 1 & 0 & 0 & 0 & 0 & 0 & 1 \\\\\n",
      "5NN & 0 & 0 & 0 & 0 & 0 & 0 & 0 & 0 & 0 \\\\\n",
      "7NN & 1 & 0 & 0 & 0 & 0 & 0 & 0 & 0 & 1 \\\\\n",
      "NB & 1 & 0 & 0 & 0 & 0 & 0 & 0 & 0 & 1 \\\\\n",
      "Total & 3 & 0 & 1 & 0 & 0 & 0 & 0 & 0 & 4 \\\\\n",
      "\\end{tabular}\n",
      "\n"
     ]
    }
   ],
   "source": [
    "table4_tex = table4_df.style.to_latex()\n",
    "print(table4_tex)"
   ]
  },
  {
   "cell_type": "code",
   "execution_count": 75,
   "id": "0789d221",
   "metadata": {
    "scrolled": false
   },
   "outputs": [
    {
     "name": "stdout",
     "output_type": "stream",
     "text": [
      "\\begin{tabular}{lrrrrrrrrr}\n",
      "(1NN) Dataset/folds & 2 & 3 & 4 & 5 & 6 & 7 & 8 & 9 & 10 \\\\\n",
      "Haberman & \\background-color 0.887838 & \\background-color 0.869738 & \\background-color 1.000000 & \\background-color 1.000000 & \\background-color 1.000000 & \\background-color 1.000000 & \\background-color 1.000000 & \\background-color 1.000000 & \\background-color 1.000000 \\\\\n",
      "Magic & \\background-color 0.983736 & \\background-color 0.965209 & \\background-color 0.999995 & \\background-color 0.999973 & \\background-color 1.000000 & \\background-color 0.999977 & \\background-color 1.000000 & \\background-color 1.000000 & \\background-color 1.000000 \\\\\n",
      "Livers & \\background-color 0.518691 & \\background-color 0.933701 & \\background-color 0.879641 & \\background-color 0.999589 & \\background-color 0.848436 & \\background-color 0.962822 & \\background-color 0.999235 & \\background-color 0.999999 & \\background-color 0.999940 \\\\\n",
      "Letters & \\background-color 0.496836 & \\background-color 0.956897 & \\background-color 0.999990 & \\background-color 0.743307 & \\background-color 0.999994 & \\background-color 0.705099 & \\background-color 0.999994 & \\background-color 1.000000 & \\background-color 1.000000 \\\\\n",
      "Page-Blocks & \\background-color 0.999995 & \\background-color 1.000000 & \\background-color 1.000000 & \\background-color 1.000000 & \\background-color 1.000000 & \\background-color 1.000000 & \\background-color 1.000000 & \\background-color 1.000000 & \\background-color 1.000000 \\\\\n",
      "Red-wine & \\background-color 0.952585 & \\background-color 0.979516 & \\background-color 0.999148 & \\background-color 0.951465 & \\background-color 0.999861 & \\background-color 0.999990 & \\background-color 1.000000 & \\background-color 1.000000 & \\background-color 1.000000 \\\\\n",
      "White-wine & \\background-coloryellow 0.046859 & \\background-color 0.670176 & \\background-color 0.999620 & \\background-color 0.999601 & \\background-color 1.000000 & \\background-color 0.999970 & \\background-color 1.000000 & \\background-color 1.000000 & \\background-color 1.000000 \\\\\n",
      "\\end{tabular}\n",
      "\n",
      "\n",
      "\n",
      "\n",
      "\\begin{tabular}{lrrrrrrrrr}\n",
      "(3NN) Dataset/folds & 2 & 3 & 4 & 5 & 6 & 7 & 8 & 9 & 10 \\\\\n",
      "Haberman & \\background-color 0.920028 & \\background-color 0.968212 & \\background-color 1.000000 & \\background-color 1.000000 & \\background-color 1.000000 & \\background-color 0.999999 & \\background-color 1.000000 & \\background-color 1.000000 & \\background-color 1.000000 \\\\\n",
      "Magic & \\background-color 0.992750 & \\background-color 0.697403 & \\background-color 0.960222 & \\background-color 1.000000 & \\background-color 1.000000 & \\background-color 1.000000 & \\background-color 1.000000 & \\background-color 1.000000 & \\background-color 1.000000 \\\\\n",
      "Livers & \\background-color 0.796170 & \\background-color 0.300609 & \\background-coloryellow 0.024092 & \\background-color 0.820314 & \\background-color 0.952167 & \\background-color 0.061336 & \\background-color 0.145584 & \\background-color 0.983429 & \\background-color 0.999709 \\\\\n",
      "Letters & \\background-color 0.777380 & \\background-color 0.528967 & \\background-color 0.888941 & \\background-color 0.631956 & \\background-color 0.931341 & \\background-color 0.831017 & \\background-color 0.999939 & \\background-color 0.999993 & \\background-color 1.000000 \\\\\n",
      "Page-Blocks & \\background-color 0.999998 & \\background-color 1.000000 & \\background-color 1.000000 & \\background-color 1.000000 & \\background-color 1.000000 & \\background-color 1.000000 & \\background-color 1.000000 & \\background-color 1.000000 & \\background-color 1.000000 \\\\\n",
      "Red-wine & \\background-color 0.593357 & \\background-color 0.989397 & \\background-color 1.000000 & \\background-color 1.000000 & \\background-color 1.000000 & \\background-color 1.000000 & \\background-color 1.000000 & \\background-color 1.000000 & \\background-color 1.000000 \\\\\n",
      "White-wine & \\background-color 0.525077 & \\background-color 0.919169 & \\background-color 0.999971 & \\background-color 0.990614 & \\background-color 1.000000 & \\background-color 0.999308 & \\background-color 1.000000 & \\background-color 1.000000 & \\background-color 1.000000 \\\\\n",
      "\\end{tabular}\n",
      "\n",
      "\n",
      "\n",
      "\n",
      "\\begin{tabular}{lrrrrrrrrr}\n",
      "(5NN) Dataset/folds & 2 & 3 & 4 & 5 & 6 & 7 & 8 & 9 & 10 \\\\\n",
      "Haberman & \\background-color 0.298200 & \\background-color 0.970358 & \\background-color 0.840694 & \\background-color 0.999909 & \\background-color 1.000000 & \\background-color 0.932226 & \\background-color 0.998999 & \\background-color 1.000000 & \\background-color 1.000000 \\\\\n",
      "Magic & \\background-color 0.999830 & \\background-color 0.996228 & \\background-color 0.553456 & \\background-color 1.000000 & \\background-color 0.998854 & \\background-color 1.000000 & \\background-color 1.000000 & \\background-color 1.000000 & \\background-color 1.000000 \\\\\n",
      "Livers & \\background-color 0.527209 & \\background-color 0.705409 & \\background-color 0.209247 & \\background-color 0.869971 & \\background-color 0.975632 & \\background-color 0.881018 & \\background-color 0.984343 & \\background-color 0.999965 & \\background-color 0.999945 \\\\\n",
      "Letters & \\background-color 0.540871 & \\background-color 0.982361 & \\background-color 0.947001 & \\background-color 0.984432 & \\background-color 0.979942 & \\background-color 0.996975 & \\background-color 0.984166 & \\background-color 0.987542 & \\background-color 1.000000 \\\\\n",
      "Page-Blocks & \\background-color 0.997872 & \\background-color 1.000000 & \\background-color 1.000000 & \\background-color 1.000000 & \\background-color 1.000000 & \\background-color 1.000000 & \\background-color 1.000000 & \\background-color 1.000000 & \\background-color 1.000000 \\\\\n",
      "Red-wine & \\background-color 0.467064 & \\background-color 0.239697 & \\background-color 0.938136 & \\background-color 0.990823 & \\background-color 0.990119 & \\background-color 1.000000 & \\background-color 0.999992 & \\background-color 1.000000 & \\background-color 1.000000 \\\\\n",
      "White-wine & \\background-color 0.412861 & \\background-color 0.993200 & \\background-color 0.794083 & \\background-color 0.806029 & \\background-color 0.999111 & \\background-color 0.989864 & \\background-color 0.998980 & \\background-color 0.989034 & \\background-color 1.000000 \\\\\n",
      "\\end{tabular}\n",
      "\n",
      "\n",
      "\n",
      "\n",
      "\\begin{tabular}{lrrrrrrrrr}\n",
      "(7NN) Dataset/folds & 2 & 3 & 4 & 5 & 6 & 7 & 8 & 9 & 10 \\\\\n",
      "Haberman & \\background-coloryellow 0.000000 & \\background-color 0.373536 & \\background-color 0.984275 & \\background-color 0.999960 & \\background-color 1.000000 & \\background-color 0.350122 & \\background-color 0.987512 & \\background-color 1.000000 & \\background-color 1.000000 \\\\\n",
      "Magic & \\background-color 0.997599 & \\background-color 0.998862 & \\background-color 0.984154 & \\background-color 0.999926 & \\background-color 1.000000 & \\background-color 1.000000 & \\background-color 1.000000 & \\background-color 1.000000 & \\background-color 1.000000 \\\\\n",
      "Livers & \\background-color 0.414356 & \\background-color 0.893988 & \\background-color 0.703853 & \\background-color 0.805683 & \\background-color 0.999665 & \\background-color 0.999758 & \\background-color 0.998214 & \\background-color 1.000000 & \\background-color 0.985949 \\\\\n",
      "Letters & \\background-color 0.370120 & \\background-color 0.475599 & \\background-color 0.092167 & \\background-color 0.611180 & \\background-color 0.475987 & \\background-color 0.999957 & \\background-color 0.999992 & \\background-color 0.984248 & \\background-color 1.000000 \\\\\n",
      "Page-Blocks & \\background-color 0.997398 & \\background-color 1.000000 & \\background-color 0.999999 & \\background-color 1.000000 & \\background-color 1.000000 & \\background-color 1.000000 & \\background-color 1.000000 & \\background-color 1.000000 & \\background-color 1.000000 \\\\\n",
      "Red-wine & \\background-color 0.330275 & \\background-color 0.837347 & \\background-color 0.888244 & \\background-color 0.824378 & \\background-color 0.956167 & \\background-color 1.000000 & \\background-color 0.999988 & \\background-color 1.000000 & \\background-color 0.999783 \\\\\n",
      "White-wine & \\background-color 0.668899 & \\background-color 0.932369 & \\background-color 0.996489 & \\background-color 0.999024 & \\background-color 0.999998 & \\background-color 0.999808 & \\background-color 1.000000 & \\background-color 1.000000 & \\background-color 1.000000 \\\\\n",
      "\\end{tabular}\n",
      "\n",
      "\n",
      "\n",
      "\n",
      "\\begin{tabular}{lrrrrrrrrr}\n",
      "(NB) Dataset/folds & 2 & 3 & 4 & 5 & 6 & 7 & 8 & 9 & 10 \\\\\n",
      "Haberman & \\background-coloryellow 0.000000 & \\background-color 0.373536 & \\background-color 0.984275 & \\background-color 0.999960 & \\background-color 1.000000 & \\background-color 0.350122 & \\background-color 0.987512 & \\background-color 1.000000 & \\background-color 1.000000 \\\\\n",
      "Magic & \\background-color 0.997599 & \\background-color 0.998862 & \\background-color 0.984154 & \\background-color 0.999926 & \\background-color 1.000000 & \\background-color 1.000000 & \\background-color 1.000000 & \\background-color 1.000000 & \\background-color 1.000000 \\\\\n",
      "Livers & \\background-color 0.414356 & \\background-color 0.893988 & \\background-color 0.703853 & \\background-color 0.805683 & \\background-color 0.999665 & \\background-color 0.999758 & \\background-color 0.998214 & \\background-color 1.000000 & \\background-color 0.985949 \\\\\n",
      "Letters & \\background-color 0.370120 & \\background-color 0.475599 & \\background-color 0.092167 & \\background-color 0.611180 & \\background-color 0.475987 & \\background-color 0.999957 & \\background-color 0.999992 & \\background-color 0.984248 & \\background-color 1.000000 \\\\\n",
      "Page-Blocks & \\background-color 0.997398 & \\background-color 1.000000 & \\background-color 0.999999 & \\background-color 1.000000 & \\background-color 1.000000 & \\background-color 1.000000 & \\background-color 1.000000 & \\background-color 1.000000 & \\background-color 1.000000 \\\\\n",
      "Red-wine & \\background-color 0.330275 & \\background-color 0.837347 & \\background-color 0.888244 & \\background-color 0.824378 & \\background-color 0.956167 & \\background-color 1.000000 & \\background-color 0.999988 & \\background-color 1.000000 & \\background-color 0.999783 \\\\\n",
      "White-wine & \\background-color 0.668899 & \\background-color 0.932369 & \\background-color 0.996489 & \\background-color 0.999024 & \\background-color 0.999998 & \\background-color 0.999808 & \\background-color 1.000000 & \\background-color 1.000000 & \\background-color 1.000000 \\\\\n",
      "\\end{tabular}\n",
      "\n",
      "\n",
      "\n",
      "\n"
     ]
    }
   ],
   "source": [
    "for table3_tex in table3_df_tex_versions:\n",
    "    print(table3_tex)\n",
    "    print('\\n\\n')"
   ]
  }
 ],
 "metadata": {
  "kernelspec": {
   "display_name": "Python 3 (ipykernel)",
   "language": "python",
   "name": "python3"
  },
  "language_info": {
   "codemirror_mode": {
    "name": "ipython",
    "version": 3
   },
   "file_extension": ".py",
   "mimetype": "text/x-python",
   "name": "python",
   "nbconvert_exporter": "python",
   "pygments_lexer": "ipython3",
   "version": "3.9.0"
  }
 },
 "nbformat": 4,
 "nbformat_minor": 5
}
