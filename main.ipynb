{
 "cells": [
  {
   "cell_type": "code",
   "execution_count": 70,
   "id": "ef0e2b77",
   "metadata": {},
   "outputs": [],
   "source": [
    "import sklearn\n",
    "import numpy as np\n",
    "import pandas as pd\n",
    "from scipy import stats\n",
    "import json\n",
    "import os"
   ]
  },
  {
   "cell_type": "markdown",
   "id": "64fddae8",
   "metadata": {},
   "source": [
    "# Machine Learning Final Project\n",
    "**Student name:** Mohammad Amin Dadgar\n",
    "\n",
    "**Student Id:** 4003624016\n",
    "\n",
    "**Instructor:** Dr. Peyman Adibi\n",
    "\n",
    "**Date:** Tir 1401 | June, July 2022"
   ]
  },
  {
   "cell_type": "markdown",
   "id": "5613384b",
   "metadata": {},
   "source": [
    "The Final Project is the implementation of [dependency analysis of accuracy estimates in k-fold cross validation](https://ieeexplore.ieee.org/document/8012491) article."
   ]
  },
  {
   "cell_type": "markdown",
   "id": "4c6e77f0",
   "metadata": {},
   "source": [
    "**Abstract:** K-fold cross-validation is a method to evaluate the performance of classification algorithms. In this report, we are going to show the appropriateness of K-fold cross-validation for the dependence of fold accuracies. "
   ]
  },
  {
   "cell_type": "markdown",
   "id": "6e06d3e9",
   "metadata": {},
   "source": [
    "**Introduction**\n",
    "Several studies have shown that in k-fold cross-validation, fold accuracies are dependent, but there is no formal definition for this fact. This report is the reproduction results of referenced article that in section 2, we introduced the statistical methods needed for this experiment. In section 3 sampling the distribution from fold accuracies is introduced and using this in section 4, a statistical method is shown to evaluate the fold accuracies independence. In section 5, the method introduced in section 4 is tested on 20 UCI datasets, and in section 6 we’ve concluded the work done before."
   ]
  },
  {
   "cell_type": "markdown",
   "id": "7c4eff4a",
   "metadata": {},
   "source": [
    "To inference the idea behind this article, in section 4 the variances are given as below\n",
    "\n",
    "sample variance:\n",
    "\\begin{equation}\n",
    "s^2 = \\frac{\\sum_{i=0}^{k} (\\bar p_i - \\bar{\\bar{x}})^2}{k-1}\n",
    "\\end{equation}\n",
    "And the variance for leave-one-out cross validation\n",
    "\\begin{equation}\n",
    "\\sigma_I^2 = \\frac{p(1-p)}{n}\n",
    "\\end{equation}"
   ]
  },
  {
   "cell_type": "markdown",
   "id": "80bc6917",
   "metadata": {},
   "source": [
    "to explain the equations above we can say that $p$ is the accuracy of the classifier and to find it, we can devide the correct classifications by the sample size.\n",
    "\n",
    "$\\bar p_i$ refers to the accuracy estimate in fold i, and can be written as below\n",
    "\\begin{equation}\n",
    "\\bar{p_i} = \\frac{\\sum_{j=1}^{m} x_{ij}}{m}\n",
    "\\end{equation}\n",
    "where $m$ is the count of each fold sample. For example if we had $200$ sample in our dataset and using $5$ folds, then we would have $m=\\frac{200}{5}$.\n",
    "\n",
    "where $x_{ij}$ is a function that outputs $1$ where the classification is correct and outputs $0$ when the classification is wrong.\n",
    "\n",
    "The $\\bar{\\bar{x}}$ represents the sample mean and it's possible to find it using the equation below\n",
    "\\begin{equation}\n",
    "\\bar{\\bar{x}} = \\frac{\\sum_{i=1}^{k} \\bar{p_i}}{k}\n",
    "\\end{equation}"
   ]
  },
  {
   "cell_type": "markdown",
   "id": "70c493af",
   "metadata": {},
   "source": [
    "We will start the dependency test of folds with a hypothesis $H_0: s^2/k=\\sigma_l^2$. the test statistics can be found as $\\chi^2 = \\frac{(k-1) s^2}{k \\sigma_l^2}$ when $\\chi$ has $k-1$ degrees of freedom."
   ]
  },
  {
   "cell_type": "code",
   "execution_count": 25,
   "id": "6e48af1f",
   "metadata": {},
   "outputs": [
    {
     "name": "stdout",
     "output_type": "stream",
     "text": [
      "acc: 0.8\n",
      "acc: 0.75\n",
      "acc: 0.675\n",
      "acc: 0.75\n",
      "acc: 0.625\n",
      "sample mean is 0.72\n"
     ]
    }
   ],
   "source": [
    "######### Let's re-calculate the example 2 and 3 in the article\n",
    "total = 200\n",
    "classification_res = np.array([32, 30, 27, 30, 25])\n",
    "sample_mean = np.sum(classification_res / 200) \n",
    "\n",
    "for true_classified in classification_res:\n",
    "    print(f\"acc: {true_classified / 40}\")\n",
    "\n",
    "print(f\"sample mean is {sample_mean}\")"
   ]
  },
  {
   "cell_type": "code",
   "execution_count": 57,
   "id": "085ec19a",
   "metadata": {},
   "outputs": [],
   "source": [
    "##### implementing equation 1\n",
    "def find_sample_variance(true_classification, fold_samples_count):\n",
    "    \"\"\"\n",
    "    Find sample variance of k-fold cross validation\n",
    "    \n",
    "    Parameters:\n",
    "    -----------\n",
    "    true_classification : array of floats\n",
    "        the portion of true classified samples in each fold\n",
    "        note that the folds count is the length of this array\n",
    "    fold_samples_count : positive integer\n",
    "        the count of folds data samples\n",
    "        \n",
    "    Returns:\n",
    "    ---------\n",
    "    sample_variance : float\n",
    "        the sample variance of all the folds\n",
    "    \"\"\"\n",
    "    ## find the total sample count\n",
    "    total_sample_count = fold_samples_count * len(true_classification)\n",
    "    \n",
    "    sample_mean = find_sample_mean(true_classification, total_sample_count)\n",
    "    \n",
    "    ## the subtraction of true classified portion from sample mean\n",
    "    subtraction_arr = np.subtract(true_classification / fold_samples_count, sample_mean)\n",
    "\n",
    "    ## to divide the found value by `k-1`\n",
    "    sample_variance = np.sum(np.power(subtraction_arr, 2)) / (len(true_classification) - 1)\n",
    "    \n",
    "    return sample_variance\n",
    "    \n",
    "def find_sample_mean(true_classification, total_samples_count):\n",
    "    \"\"\"\n",
    "    Find the sample mean of k-fold cross validation using the true classification results\n",
    "    \n",
    "    Parameters:\n",
    "    -----------\n",
    "    true_classification : array of floats\n",
    "        the portion of true classified samples in each fold\n",
    "        note that the folds count is the length of this array\n",
    "    total_samples_count : positive integer\n",
    "        the count of total sample size (dataset length maybe)\n",
    "    \n",
    "    Returns:\n",
    "    ---------\n",
    "    sample_mean : float\n",
    "        the sample mean calculated for all the dataset\n",
    "    \"\"\"\n",
    "    sample_mean = np.sum(true_classification / total_samples_count)\n",
    "    \n",
    "    return sample_mean"
   ]
  },
  {
   "cell_type": "code",
   "execution_count": 64,
   "id": "84e00f70",
   "metadata": {},
   "outputs": [
    {
     "data": {
      "text/plain": [
       "0.004812500000000001"
      ]
     },
     "execution_count": 64,
     "metadata": {},
     "output_type": "execute_result"
    }
   ],
   "source": [
    "m_sample_variance = find_sample_variance(classification_res, 40)\n",
    "m_sample_variance"
   ]
  },
  {
   "cell_type": "code",
   "execution_count": 59,
   "id": "de611716",
   "metadata": {},
   "outputs": [],
   "source": [
    "def find_total_variance(accuracy, total_sample_count):\n",
    "    \"\"\"\n",
    "    Find the variance of a set using its accuracy and samples count\n",
    "    the equation is `accuracy(1-accuracy)/total_sample_count`\n",
    "    \n",
    "    Parameters:\n",
    "    ------------\n",
    "    accuracy : float between 0 and 1\n",
    "        the floating value that rerpresent the portion of true classified samples over all samples\n",
    "    total_sample_count : integer\n",
    "        the total samples in a dataset\n",
    "    \n",
    "    Returns:\n",
    "    ---------\n",
    "    variance : float\n",
    "        the calculated variance for the dataset\n",
    "    \"\"\"\n",
    "    \n",
    "    variance = (accuracy * (1 - accuracy)) / total_sample_count\n",
    "    \n",
    "    return variance"
   ]
  },
  {
   "cell_type": "code",
   "execution_count": 65,
   "id": "bf265366",
   "metadata": {},
   "outputs": [
    {
     "data": {
      "text/plain": [
       "0.0010500000000000002"
      ]
     },
     "execution_count": 65,
     "metadata": {},
     "output_type": "execute_result"
    }
   ],
   "source": [
    "m_variance = find_total_variance(0.7, 200)\n",
    "m_variance"
   ]
  },
  {
   "cell_type": "code",
   "execution_count": 62,
   "id": "a0ba70bf",
   "metadata": {},
   "outputs": [],
   "source": [
    "def chi_independence_test(k_folds, total_variance, sample_variance):\n",
    "    \"\"\"\n",
    "    the chi square independence test introduced in the article\n",
    "    equation is `(`k-1` folds * sample_varience) / `k` folds  * total_variance`\n",
    "    \n",
    "    Parameters:\n",
    "    ------------\n",
    "    k_folds : positive integer\n",
    "        the count of folds applied for a model\n",
    "    total_variance : float\n",
    "        the variance represented by leave-one-out cross validation\n",
    "    sample_variance : float\n",
    "        the variance that is found by aggregation of fold accuracies\n",
    "        \n",
    "    Returns:\n",
    "    ---------\n",
    "    chi_square : float\n",
    "        the chi square value \n",
    "    \"\"\"\n",
    "    \n",
    "    chi_square = ((k_folds - 1) * sample_variance) / (k_folds * total_variance)\n",
    "    \n",
    "    return chi_square"
   ]
  },
  {
   "cell_type": "code",
   "execution_count": 71,
   "id": "d204cce4",
   "metadata": {},
   "outputs": [
    {
     "data": {
      "text/plain": [
       "3.6666666666666665"
      ]
     },
     "execution_count": 71,
     "metadata": {},
     "output_type": "execute_result"
    }
   ],
   "source": [
    "chisquare_value = chi_independence_test(5, m_variance, m_sample_variance)\n",
    "chisquare_value"
   ]
  },
  {
   "cell_type": "markdown",
   "id": "336fc89c",
   "metadata": {},
   "source": [
    "And finding the exact values for `Example 3.`, we can now go on to real tests for real datasets, but Before going to experiments in real datasets another thing is to find out the p-value for our test.\n",
    "\n",
    "So we are going to find the p-value first"
   ]
  },
  {
   "cell_type": "code",
   "execution_count": 73,
   "id": "53fde476",
   "metadata": {},
   "outputs": [
    {
     "data": {
      "text/plain": [
       "0.5470073861075335"
      ]
     },
     "execution_count": 73,
     "metadata": {},
     "output_type": "execute_result"
    }
   ],
   "source": [
    "stats.chi2.cdf(chisquare_value, 4)"
   ]
  },
  {
   "cell_type": "markdown",
   "id": "10bcd730",
   "metadata": {},
   "source": [
    "# 1-NN Liver disorders dataset\n",
    "Let's try KNN method with K=1 with different datasets. minkowski distance with $p=2$ is the euclidean distance and we are using euclidean distance as our nearest neighbour metric."
   ]
  },
  {
   "cell_type": "code",
   "execution_count": 211,
   "id": "4fdbcd21",
   "metadata": {},
   "outputs": [],
   "source": [
    "from sklearn.neighbors import KNeighborsClassifier\n",
    "from sklearn.model_selection import cross_validate, cross_val_score, LeaveOneOut, KFold\n",
    "from sklearn.naive_bayes import GaussianNB"
   ]
  },
  {
   "cell_type": "code",
   "execution_count": 82,
   "id": "9ab78f6a",
   "metadata": {},
   "outputs": [
    {
     "data": {
      "text/html": [
       "<div>\n",
       "<style scoped>\n",
       "    .dataframe tbody tr th:only-of-type {\n",
       "        vertical-align: middle;\n",
       "    }\n",
       "\n",
       "    .dataframe tbody tr th {\n",
       "        vertical-align: top;\n",
       "    }\n",
       "\n",
       "    .dataframe thead th {\n",
       "        text-align: right;\n",
       "    }\n",
       "</style>\n",
       "<table border=\"1\" class=\"dataframe\">\n",
       "  <thead>\n",
       "    <tr style=\"text-align: right;\">\n",
       "      <th></th>\n",
       "      <th>mcv</th>\n",
       "      <th>alkphos</th>\n",
       "      <th>sgpt</th>\n",
       "      <th>sgot</th>\n",
       "      <th>gammagt</th>\n",
       "      <th>drinks</th>\n",
       "      <th>selector</th>\n",
       "    </tr>\n",
       "  </thead>\n",
       "  <tbody>\n",
       "    <tr>\n",
       "      <th>0</th>\n",
       "      <td>85</td>\n",
       "      <td>92</td>\n",
       "      <td>45</td>\n",
       "      <td>27</td>\n",
       "      <td>31</td>\n",
       "      <td>0.0</td>\n",
       "      <td>1</td>\n",
       "    </tr>\n",
       "    <tr>\n",
       "      <th>1</th>\n",
       "      <td>85</td>\n",
       "      <td>64</td>\n",
       "      <td>59</td>\n",
       "      <td>32</td>\n",
       "      <td>23</td>\n",
       "      <td>0.0</td>\n",
       "      <td>2</td>\n",
       "    </tr>\n",
       "    <tr>\n",
       "      <th>2</th>\n",
       "      <td>86</td>\n",
       "      <td>54</td>\n",
       "      <td>33</td>\n",
       "      <td>16</td>\n",
       "      <td>54</td>\n",
       "      <td>0.0</td>\n",
       "      <td>2</td>\n",
       "    </tr>\n",
       "    <tr>\n",
       "      <th>3</th>\n",
       "      <td>91</td>\n",
       "      <td>78</td>\n",
       "      <td>34</td>\n",
       "      <td>24</td>\n",
       "      <td>36</td>\n",
       "      <td>0.0</td>\n",
       "      <td>2</td>\n",
       "    </tr>\n",
       "    <tr>\n",
       "      <th>4</th>\n",
       "      <td>87</td>\n",
       "      <td>70</td>\n",
       "      <td>12</td>\n",
       "      <td>28</td>\n",
       "      <td>10</td>\n",
       "      <td>0.0</td>\n",
       "      <td>2</td>\n",
       "    </tr>\n",
       "  </tbody>\n",
       "</table>\n",
       "</div>"
      ],
      "text/plain": [
       "   mcv  alkphos  sgpt  sgot  gammagt  drinks  selector\n",
       "0   85       92    45    27       31     0.0         1\n",
       "1   85       64    59    32       23     0.0         2\n",
       "2   86       54    33    16       54     0.0         2\n",
       "3   91       78    34    24       36     0.0         2\n",
       "4   87       70    12    28       10     0.0         2"
      ]
     },
     "execution_count": 82,
     "metadata": {},
     "output_type": "execute_result"
    }
   ],
   "source": [
    "ds_liver = pd.read_csv('Datasets/liver-disorders/bupa.data', names=['mcv', 'alkphos', 'sgpt', 'sgot', 'gammagt', 'drinks', 'selector'])\n",
    "ds_liver.head()"
   ]
  },
  {
   "cell_type": "code",
   "execution_count": 85,
   "id": "07cd922f",
   "metadata": {},
   "outputs": [
    {
     "data": {
      "text/plain": [
       "array([1, 2], dtype=int64)"
      ]
     },
     "execution_count": 85,
     "metadata": {},
     "output_type": "execute_result"
    }
   ],
   "source": [
    "ds_liver.selector.unique()"
   ]
  },
  {
   "cell_type": "markdown",
   "id": "a2af6aee",
   "metadata": {},
   "source": [
    "we have two classess for each data, selector is the label in our dataset."
   ]
  },
  {
   "cell_type": "code",
   "execution_count": 90,
   "id": "b8f1a97a",
   "metadata": {},
   "outputs": [],
   "source": [
    "KNN_1_liver = KNeighborsClassifier(n_neighbors=1, p=2)\n",
    "# KNN_1_liver.fit(ds_liver[ds_liver.columns[:-1]], ds_liver.selector)"
   ]
  },
  {
   "cell_type": "code",
   "execution_count": 109,
   "id": "67a40efd",
   "metadata": {},
   "outputs": [],
   "source": [
    "ds_liver_X = ds_liver[ds_liver.columns[:-1]]\n",
    "ds_liver_Y = ds_liver.selector "
   ]
  },
  {
   "cell_type": "code",
   "execution_count": 113,
   "id": "ecd80b08",
   "metadata": {},
   "outputs": [
    {
     "data": {
      "text/plain": [
       "{'fit_time': array([0.0026772 , 0.00232077, 0.00202894, 0.00267959, 0.00164056]),\n",
       " 'score_time': array([0.00377774, 0.00390458, 0.00401592, 0.00382686, 0.00284386]),\n",
       " 'estimator': [KNeighborsClassifier(n_neighbors=1),\n",
       "  KNeighborsClassifier(n_neighbors=1),\n",
       "  KNeighborsClassifier(n_neighbors=1),\n",
       "  KNeighborsClassifier(n_neighbors=1),\n",
       "  KNeighborsClassifier(n_neighbors=1)],\n",
       " 'test_score': array([0.65217391, 0.76811594, 0.62318841, 0.66666667, 0.53623188]),\n",
       " 'train_score': array([1., 1., 1., 1., 1.])}"
      ]
     },
     "execution_count": 113,
     "metadata": {},
     "output_type": "execute_result"
    }
   ],
   "source": [
    "KNN_1_5cv_scores = cross_validate(KNN_1_liver, \n",
    "                                  ds_liver_X,\n",
    "                                  ds_liver_Y,\n",
    "                                  cv=5,\n",
    "                                  return_train_score=True,\n",
    "                                 return_estimator=True)\n",
    "KNN_1_5cv_scores"
   ]
  },
  {
   "cell_type": "code",
   "execution_count": 131,
   "id": "6ccbec25",
   "metadata": {},
   "outputs": [
    {
     "data": {
      "text/plain": [
       "0.6492753623188406"
      ]
     },
     "execution_count": 131,
     "metadata": {},
     "output_type": "execute_result"
    }
   ],
   "source": [
    "m_sample_mean = np.mean(KNN_1_5cv_scores['test_score'])\n",
    "m_sample_mean"
   ]
  },
  {
   "cell_type": "code",
   "execution_count": 136,
   "id": "20dfb4a2",
   "metadata": {},
   "outputs": [],
   "source": [
    "## find sample variance\n",
    "def find_sample_variance_using_accuracies(fold_accuracies):\n",
    "    \"\"\"\n",
    "    Find variances using the accuracies got from k-fold cross validation\n",
    "    \n",
    "    Parameters:\n",
    "    ------------\n",
    "    fold_accuracies : float between 0 and 1\n",
    "        the accuracies in each fold of k-fold cross validation\n",
    "        note that the k folds count will be computed using the length of this parameter  \n",
    "    \n",
    "    Returns:\n",
    "    ---------\n",
    "    variance : float\n",
    "        the variance of accuracies\n",
    "    \"\"\"\n",
    "    sample_mean = np.mean(fold_accuracies)\n",
    "    \n",
    "    ## the subtraction of true classified portion from sample mean\n",
    "    subtraction = np.subtract(fold_accuracies, sample_mean)\n",
    "    \n",
    "    variance = np.sum(np.power(subtraction, 2)) / (len(fold_accuracies) - 1)\n",
    "    \n",
    "    return variance"
   ]
  },
  {
   "cell_type": "code",
   "execution_count": 139,
   "id": "963e4e9f",
   "metadata": {},
   "outputs": [
    {
     "data": {
      "text/plain": [
       "0.006973324931737026"
      ]
     },
     "execution_count": 139,
     "metadata": {},
     "output_type": "execute_result"
    }
   ],
   "source": [
    "sample_variance = find_sample_variance_using_accuracies(KNN_1_5cv_scores['test_score'])\n",
    "sample_variance"
   ]
  },
  {
   "cell_type": "markdown",
   "id": "937c62c3",
   "metadata": {},
   "source": [
    "## Leave one out method\n",
    "In this method the folds count is eqaul to the data size and test size in each fold is 1.https://www.statology.org/leave-one-out-cross-validation/"
   ]
  },
  {
   "cell_type": "code",
   "execution_count": 152,
   "id": "dbf78807",
   "metadata": {},
   "outputs": [],
   "source": [
    "KNN_leaveOneOut = KNeighborsClassifier(n_neighbors=1, p=2)\n",
    "KNN_leaveOneOut_result = cross_validate(KNN_leaveOneOut, \n",
    "                                  ds_liver_X,\n",
    "                                  ds_liver_Y,\n",
    "                                  cv=LeaveOneOut(),\n",
    "                                  return_train_score=True,\n",
    "                                 return_estimator=False)"
   ]
  },
  {
   "cell_type": "code",
   "execution_count": 186,
   "id": "5f8f6953",
   "metadata": {},
   "outputs": [
    {
     "data": {
      "text/plain": [
       "array([0., 0., 1., 1., 0., 1., 1., 1., 1., 1., 0., 0., 0., 1., 1., 0., 1.,\n",
       "       1., 0., 1., 1., 1., 1., 1., 0., 0., 1., 0., 0., 0., 1., 0., 0., 0.,\n",
       "       1., 1., 0., 1., 1., 1., 1., 1., 0., 0., 0., 1., 1., 1., 0., 0., 0.,\n",
       "       0., 1., 1., 0., 1., 0., 0., 1., 0., 1., 1., 1., 0., 1., 1., 1., 1.,\n",
       "       1., 1., 0., 1., 0., 1., 1., 1., 0., 0., 0., 1., 0., 1., 0., 1., 1.,\n",
       "       1., 1., 0., 1., 1., 1., 0., 1., 1., 1., 0., 1., 1., 1., 1., 1., 1.,\n",
       "       1., 1., 1., 0., 1., 1., 1., 0., 0., 1., 1., 0., 1., 1., 1., 1., 0.,\n",
       "       1., 1., 1., 1., 1., 1., 1., 1., 1., 0., 1., 0., 0., 0., 0., 1., 1.,\n",
       "       1., 1., 1., 1., 1., 0., 1., 1., 0., 0., 0., 0., 1., 1., 1., 1., 1.,\n",
       "       1., 1., 0., 1., 1., 1., 1., 1., 0., 0., 1., 0., 0., 1., 0., 1., 1.,\n",
       "       1., 0., 1., 1., 0., 1., 0., 1., 0., 1., 1., 1., 1., 0., 1., 1., 0.,\n",
       "       1., 0., 0., 1., 1., 0., 1., 0., 1., 1., 1., 1., 1., 1., 1., 0., 1.,\n",
       "       1., 1., 0., 1., 1., 0., 0., 1., 0., 1., 1., 0., 0., 0., 1., 0., 1.,\n",
       "       1., 0., 0., 1., 1., 0., 1., 1., 0., 0., 1., 1., 1., 1., 0., 0., 1.,\n",
       "       1., 1., 0., 1., 1., 0., 1., 1., 0., 1., 1., 0., 0., 1., 0., 1., 0.,\n",
       "       1., 0., 1., 1., 0., 0., 0., 0., 1., 1., 1., 0., 0., 0., 1., 1., 1.,\n",
       "       0., 1., 1., 1., 1., 1., 0., 1., 1., 1., 0., 1., 1., 1., 0., 0., 0.,\n",
       "       1., 0., 1., 1., 1., 1., 1., 1., 0., 0., 1., 0., 1., 1., 0., 1., 1.,\n",
       "       1., 0., 0., 0., 0., 0., 0., 1., 1., 0., 1., 1., 1., 1., 1., 1., 1.,\n",
       "       1., 0., 0., 1., 0., 0., 1., 1., 1., 1., 0., 0., 0., 0., 1., 0., 1.,\n",
       "       0., 0., 1., 1., 0.])"
      ]
     },
     "execution_count": 186,
     "metadata": {},
     "output_type": "execute_result"
    }
   ],
   "source": [
    "KNN_leaveOneOut_result['test_score']"
   ]
  },
  {
   "cell_type": "code",
   "execution_count": 197,
   "id": "20f6cda9",
   "metadata": {},
   "outputs": [
    {
     "data": {
      "text/plain": [
       "0.6202898550724638"
      ]
     },
     "execution_count": 197,
     "metadata": {},
     "output_type": "execute_result"
    }
   ],
   "source": [
    "leaveOneOut_acc = sum(KNN_leaveOneOut_result['test_score']) / len(ds_liver)\n",
    "leaveOneOut_acc"
   ]
  },
  {
   "cell_type": "code",
   "execution_count": 178,
   "id": "d64a6b01",
   "metadata": {},
   "outputs": [],
   "source": [
    "## implementing leave-one-out method by hand\n",
    "kf = KFold(n_splits=len(ds_liver))\n",
    "\n",
    "KNN_leaveOneOut = KNeighborsClassifier(n_neighbors=1, p=2)\n",
    "\n",
    "\n",
    "test_result = []\n",
    "for train, test in kf.split(ds_liver):\n",
    "    ## predict using the classifier\n",
    "    KNN_leaveOneOut.fit(ds_liver_X.loc[train], ds_liver_Y.loc[train])\n",
    "    ## predict the test data\n",
    "    y_pred = KNN_leaveOneOut.predict(ds_liver_X.loc[test])\n",
    "    \n",
    "    test_result.append(y_pred == ds_liver_Y.loc[test].values)"
   ]
  },
  {
   "cell_type": "code",
   "execution_count": 196,
   "id": "00117024",
   "metadata": {},
   "outputs": [
    {
     "data": {
      "text/plain": [
       "array([0.62028986])"
      ]
     },
     "execution_count": 196,
     "metadata": {},
     "output_type": "execute_result"
    }
   ],
   "source": [
    "sum(test_result) / len(ds_liver)"
   ]
  },
  {
   "cell_type": "markdown",
   "id": "e990650a",
   "metadata": {},
   "source": [
    "We can see that the accuracy of leave-one-out compited by hand is the same as the `LeaveOneOut()` method in sklearn. So we will continue with sklearn method because of its simplicity. (We just implement it by hand to see we are going in the right direction)"
   ]
  },
  {
   "cell_type": "markdown",
   "id": "af080efd",
   "metadata": {},
   "source": [
    "Now as Example 3, we can compute the chi value"
   ]
  },
  {
   "cell_type": "code",
   "execution_count": 198,
   "id": "084a94e9",
   "metadata": {},
   "outputs": [
    {
     "data": {
      "text/plain": [
       "0.000682696668888828"
      ]
     },
     "execution_count": 198,
     "metadata": {},
     "output_type": "execute_result"
    }
   ],
   "source": [
    "sigma = (leaveOneOut_acc * (1 - leaveOneOut_acc)) / len(ds_liver)\n",
    "sigma"
   ]
  },
  {
   "cell_type": "code",
   "execution_count": 200,
   "id": "b2c3139b",
   "metadata": {},
   "outputs": [
    {
     "data": {
      "text/plain": [
       "8.171506028394088"
      ]
     },
     "execution_count": 200,
     "metadata": {},
     "output_type": "execute_result"
    }
   ],
   "source": [
    "## the folds was chosen 5 above\n",
    "chi_square = ((5-1) * sample_variance) / (5* sigma)\n",
    "chi_square"
   ]
  },
  {
   "cell_type": "code",
   "execution_count": 201,
   "id": "5a9a7365",
   "metadata": {},
   "outputs": [
    {
     "data": {
      "text/plain": [
       "0.9145060709028664"
      ]
     },
     "execution_count": 201,
     "metadata": {},
     "output_type": "execute_result"
    }
   ],
   "source": [
    "## number of freedom is one less than 5\n",
    "stats.chi2.cdf(chi_square, 4)"
   ]
  },
  {
   "cell_type": "markdown",
   "id": "afaca51b",
   "metadata": {},
   "source": [
    "With significance level $\\alpha = 0.05$, our null hypothesis cannot be reject because the p-value is $0.91$. And we can say that here 5 fold accuracies are independent.\n"
   ]
  },
  {
   "cell_type": "markdown",
   "id": "5e400b3a",
   "metadata": {},
   "source": [
    "# Table 2 Reproduction\n",
    "Here we will reproduce table 2 results. To do this we need to find the leave-one-out accuracies of `1-NN`, `3-NN`, `5-NN`, `7-NN` and `NBC` of different datasets."
   ]
  },
  {
   "cell_type": "markdown",
   "id": "b6ff9aa2",
   "metadata": {},
   "source": [
    "## Livers-Disorders"
   ]
  },
  {
   "cell_type": "code",
   "execution_count": 203,
   "id": "9130cbc9",
   "metadata": {},
   "outputs": [],
   "source": [
    "ds_liver = pd.read_csv('Datasets/liver-disorders/bupa.data', names=['mcv', 'alkphos', 'sgpt', 'sgot', 'gammagt', 'drinks', 'selector'])\n",
    "\n",
    "ds_liver_X = ds_liver[ds_liver.columns[:-1]]\n",
    "ds_liver_Y = ds_liver.selector"
   ]
  },
  {
   "cell_type": "code",
   "execution_count": 214,
   "id": "090f75ef",
   "metadata": {},
   "outputs": [],
   "source": [
    "def find_leave_one_out_results(dataset_X, dataset_Y, verbose=False):\n",
    "    \"\"\"\n",
    "    Find the leave-one-out results of a dataset for 1NN, 3NN, 5NN, 7NN and Naive Bayes algorithm\n",
    "    \n",
    "    Parameters:\n",
    "    ------------\n",
    "    dataset_X : array_like\n",
    "        the features vector\n",
    "    dataset_Y : array_like\n",
    "        the label for each feature\n",
    "    verbose : bool\n",
    "        print the progress if True\n",
    "        default is False\n",
    "        \n",
    "    Returns:\n",
    "    ---------\n",
    "    acc_dict : dictionary\n",
    "        the leave-one-out method applied on the dataset and the results of each method accuracy is returned\n",
    "    \"\"\"\n",
    "    ## initialize a dicitonary\n",
    "    acc_dict = {}\n",
    "    \n",
    "    ## 1-NN, 3-NN, 5-NN, 7-NN\n",
    "    for neighbours_count in [1, 3, 5, 7]:\n",
    "        ## initialize KNN classifier with neighbours_count value\n",
    "        KNN_Classifier = KNeighborsClassifier(n_neighbors=neighbours_count, p=2)\n",
    "        ## find the results of leave-one-out cross validation\n",
    "        KNN_leaveOneOut_result = cross_validate(KNN_Classifier, \n",
    "                                      dataset_X,\n",
    "                                      dataset_Y,\n",
    "                                      cv=LeaveOneOut(),\n",
    "                                      return_train_score=False,\n",
    "                                      return_estimator=False)\n",
    "\n",
    "        ## both dataset_X and dataset_Y have the same length\n",
    "        ## here just use one of it to find the accuracy of classification\n",
    "        acc_score = sum(KNN_leaveOneOut_result['test_score']) / len(dataset_X)\n",
    "        \n",
    "        if verbose:\n",
    "            print(f'{neighbours_count}-NN finished with accuracy score: {acc_score}')\n",
    "        \n",
    "        ## add the accuracy of the classifier to our results\n",
    "        acc_dict[f'{neighbours_count}NN'] = acc_score\n",
    "    \n",
    "    ## Appying Naive Bayes afterwards\n",
    "    \n",
    "    ## Naive Bayes\n",
    "    NB_Classifier = GaussianNB()\n",
    "    NB_leaveOneOut_result = cross_validate(NB_Classifier, \n",
    "                                  dataset_X,\n",
    "                                  dataset_Y,\n",
    "                                  cv=LeaveOneOut(),\n",
    "                                  return_train_score=False,\n",
    "                                  return_estimator=False)\n",
    "    ## get the accuracy of Nive Bayes and save it in the dictionary\n",
    "    NB_acc_score = sum(KNN_leaveOneOut_result['test_score']) / len(dataset_X)\n",
    "    acc_dict['NBC'] = NB_acc_score\n",
    "    \n",
    "    if verbose:\n",
    "        print(f'Naive Bayes finished with accuracy score: {NB_acc_score}')\n",
    "    \n",
    "    return acc_dict"
   ]
  },
  {
   "cell_type": "code",
   "execution_count": 262,
   "id": "f79534e5",
   "metadata": {},
   "outputs": [],
   "source": [
    "def read_if_available_else_produce(dataset_X, dataset_Y, file_name):\n",
    "    \"\"\"\n",
    "    Read the data if available and else run the leave-one-out method on dataset\n",
    "    \n",
    "    Parameters:\n",
    "    ------------\n",
    "    dataset_X : array_like\n",
    "        the features vector\n",
    "    dataset_Y : array_like\n",
    "        the label for each feature\n",
    "    file_name : string\n",
    "        where to read or save the data\n",
    "    \n",
    "    Returns:\n",
    "    ---------\n",
    "    acc_dict : dictionary\n",
    "        the leave-one-out method applied on the dataset and the results of each method accuracy is returned\n",
    "    \"\"\"\n",
    "    ## initialize out of the conditions to have access to it\n",
    "    table2_results = {}\n",
    "    ## check if the results is not available then run the method to produce results\n",
    "    if os.path.isfile(file_name) == False:  \n",
    "        print(\"Results not available, Producing them\\n\")\n",
    "        table2_results = find_leave_one_out_results(dataset_X,\n",
    "                                                    dataset_Y,\n",
    "                                                    verbose=True)\n",
    "\n",
    "        ## save the results to use later\n",
    "        file = open(file_name, 'w')\n",
    "        json.dump(table2_results, file)\n",
    "        file.close()\n",
    "    else:\n",
    "        print(f\"Reading From previous data\\nResults from file {file_name}\")\n",
    "        file = open(file_name, 'r')\n",
    "        table2_results = file.read()\n",
    "        file.close()\n",
    "\n",
    "    return table2_results\n"
   ]
  },
  {
   "cell_type": "code",
   "execution_count": 264,
   "id": "25f89449",
   "metadata": {},
   "outputs": [
    {
     "name": "stdout",
     "output_type": "stream",
     "text": [
      "Reading From previous data\n",
      "Results from file results/LeaveOneOut_liverDisorders.txt\n"
     ]
    },
    {
     "data": {
      "text/plain": [
       "'{\"1NN\": 0.6202898550724638, \"3NN\": 0.6376811594202898, \"5NN\": 0.6608695652173913, \"7NN\": 0.6869565217391305, \"NBC\": 0.6869565217391305}'"
      ]
     },
     "execution_count": 264,
     "metadata": {},
     "output_type": "execute_result"
    }
   ],
   "source": [
    "livers_fileName = 'results/LeaveOneOut_liverDisorders.txt'\n",
    "table2_results_livers_disorder = read_if_available_else_produce(ds_liver_X, ds_liver_Y, livers_fileName)\n",
    "table2_results_livers_disorder"
   ]
  },
  {
   "cell_type": "markdown",
   "id": "b2ae14d1",
   "metadata": {},
   "source": [
    "## Letter-Recognition dataset\n",
    "dataset link: https://archive.ics.uci.edu/ml/machine-learning-databases/letter-recognition/"
   ]
  },
  {
   "cell_type": "code",
   "execution_count": 217,
   "id": "67a51654",
   "metadata": {},
   "outputs": [],
   "source": [
    "letter_recognition_cols = ['letter', 'x-box', 'y-box', \n",
    "                            'width', 'height', 'onpix', 'x-bar', 'y-bar',\n",
    "                            'x2-bar', 'y2-bar', 'xy-bar', 'x2y-bar','xy2-bar',\n",
    "                            'x-ege', 'xegvy', 'y-ege','yegvx']\n",
    "ds_letter_reco = pd.read_csv('Datasets/letter recognition/letter-recognition.data',\n",
    "                            names=letter_recognition_cols)"
   ]
  },
  {
   "cell_type": "code",
   "execution_count": 252,
   "id": "c430fc38",
   "metadata": {},
   "outputs": [
    {
     "data": {
      "text/html": [
       "<div>\n",
       "<style scoped>\n",
       "    .dataframe tbody tr th:only-of-type {\n",
       "        vertical-align: middle;\n",
       "    }\n",
       "\n",
       "    .dataframe tbody tr th {\n",
       "        vertical-align: top;\n",
       "    }\n",
       "\n",
       "    .dataframe thead th {\n",
       "        text-align: right;\n",
       "    }\n",
       "</style>\n",
       "<table border=\"1\" class=\"dataframe\">\n",
       "  <thead>\n",
       "    <tr style=\"text-align: right;\">\n",
       "      <th></th>\n",
       "      <th>letter</th>\n",
       "      <th>x-box</th>\n",
       "      <th>y-box</th>\n",
       "      <th>width</th>\n",
       "      <th>height</th>\n",
       "      <th>onpix</th>\n",
       "      <th>x-bar</th>\n",
       "      <th>y-bar</th>\n",
       "      <th>x2-bar</th>\n",
       "      <th>y2-bar</th>\n",
       "      <th>xy-bar</th>\n",
       "      <th>x2y-bar</th>\n",
       "      <th>xy2-bar</th>\n",
       "      <th>x-ege</th>\n",
       "      <th>xegvy</th>\n",
       "      <th>y-ege</th>\n",
       "      <th>yegvx</th>\n",
       "    </tr>\n",
       "  </thead>\n",
       "  <tbody>\n",
       "    <tr>\n",
       "      <th>0</th>\n",
       "      <td>T</td>\n",
       "      <td>2</td>\n",
       "      <td>8</td>\n",
       "      <td>3</td>\n",
       "      <td>5</td>\n",
       "      <td>1</td>\n",
       "      <td>8</td>\n",
       "      <td>13</td>\n",
       "      <td>0</td>\n",
       "      <td>6</td>\n",
       "      <td>6</td>\n",
       "      <td>10</td>\n",
       "      <td>8</td>\n",
       "      <td>0</td>\n",
       "      <td>8</td>\n",
       "      <td>0</td>\n",
       "      <td>8</td>\n",
       "    </tr>\n",
       "    <tr>\n",
       "      <th>1</th>\n",
       "      <td>I</td>\n",
       "      <td>5</td>\n",
       "      <td>12</td>\n",
       "      <td>3</td>\n",
       "      <td>7</td>\n",
       "      <td>2</td>\n",
       "      <td>10</td>\n",
       "      <td>5</td>\n",
       "      <td>5</td>\n",
       "      <td>4</td>\n",
       "      <td>13</td>\n",
       "      <td>3</td>\n",
       "      <td>9</td>\n",
       "      <td>2</td>\n",
       "      <td>8</td>\n",
       "      <td>4</td>\n",
       "      <td>10</td>\n",
       "    </tr>\n",
       "    <tr>\n",
       "      <th>2</th>\n",
       "      <td>D</td>\n",
       "      <td>4</td>\n",
       "      <td>11</td>\n",
       "      <td>6</td>\n",
       "      <td>8</td>\n",
       "      <td>6</td>\n",
       "      <td>10</td>\n",
       "      <td>6</td>\n",
       "      <td>2</td>\n",
       "      <td>6</td>\n",
       "      <td>10</td>\n",
       "      <td>3</td>\n",
       "      <td>7</td>\n",
       "      <td>3</td>\n",
       "      <td>7</td>\n",
       "      <td>3</td>\n",
       "      <td>9</td>\n",
       "    </tr>\n",
       "    <tr>\n",
       "      <th>3</th>\n",
       "      <td>N</td>\n",
       "      <td>7</td>\n",
       "      <td>11</td>\n",
       "      <td>6</td>\n",
       "      <td>6</td>\n",
       "      <td>3</td>\n",
       "      <td>5</td>\n",
       "      <td>9</td>\n",
       "      <td>4</td>\n",
       "      <td>6</td>\n",
       "      <td>4</td>\n",
       "      <td>4</td>\n",
       "      <td>10</td>\n",
       "      <td>6</td>\n",
       "      <td>10</td>\n",
       "      <td>2</td>\n",
       "      <td>8</td>\n",
       "    </tr>\n",
       "    <tr>\n",
       "      <th>4</th>\n",
       "      <td>G</td>\n",
       "      <td>2</td>\n",
       "      <td>1</td>\n",
       "      <td>3</td>\n",
       "      <td>1</td>\n",
       "      <td>1</td>\n",
       "      <td>8</td>\n",
       "      <td>6</td>\n",
       "      <td>6</td>\n",
       "      <td>6</td>\n",
       "      <td>6</td>\n",
       "      <td>5</td>\n",
       "      <td>9</td>\n",
       "      <td>1</td>\n",
       "      <td>7</td>\n",
       "      <td>5</td>\n",
       "      <td>10</td>\n",
       "    </tr>\n",
       "  </tbody>\n",
       "</table>\n",
       "</div>"
      ],
      "text/plain": [
       "  letter  x-box  y-box  width  height  onpix  x-bar  y-bar  x2-bar  y2-bar  \\\n",
       "0      T      2      8      3       5      1      8     13       0       6   \n",
       "1      I      5     12      3       7      2     10      5       5       4   \n",
       "2      D      4     11      6       8      6     10      6       2       6   \n",
       "3      N      7     11      6       6      3      5      9       4       6   \n",
       "4      G      2      1      3       1      1      8      6       6       6   \n",
       "\n",
       "   xy-bar  x2y-bar  xy2-bar  x-ege  xegvy  y-ege  yegvx  \n",
       "0       6       10        8      0      8      0      8  \n",
       "1      13        3        9      2      8      4     10  \n",
       "2      10        3        7      3      7      3      9  \n",
       "3       4        4       10      6     10      2      8  \n",
       "4       6        5        9      1      7      5     10  "
      ]
     },
     "execution_count": 252,
     "metadata": {},
     "output_type": "execute_result"
    }
   ],
   "source": [
    "ds_letter_reco.head()"
   ]
  },
  {
   "cell_type": "code",
   "execution_count": 222,
   "id": "c45f34ff",
   "metadata": {},
   "outputs": [],
   "source": [
    "ds_letter_reco_X = ds_letter_reco[letter_recognition_cols[1:]]\n",
    "ds_letter_reco_Y = ds_letter_reco[letter_recognition_cols[0]]"
   ]
  },
  {
   "cell_type": "code",
   "execution_count": 266,
   "id": "2ed695cb",
   "metadata": {},
   "outputs": [
    {
     "name": "stdout",
     "output_type": "stream",
     "text": [
      "Reading From previous data\n",
      "Results from file results/LeaveOneOut_letter_recognition.txt\n"
     ]
    },
    {
     "data": {
      "text/plain": [
       "'{\"1NN\": 0.96245, \"3NN\": 0.9595, \"5NN\": 0.958, \"7NN\": 0.95585, \"NBC\": 0.95585}'"
      ]
     },
     "execution_count": 266,
     "metadata": {},
     "output_type": "execute_result"
    }
   ],
   "source": [
    "letter_recognition_result_fileName = 'results/LeaveOneOut_letter_recognition.txt'\n",
    "table2_results_letter_recognition = read_if_available_else_produce(ds_letter_reco_X,\n",
    "                               ds_letter_reco_Y\n",
    "                              ,letter_recognition_result_fileName)\n",
    "table2_results_letter_recognition"
   ]
  },
  {
   "cell_type": "markdown",
   "id": "a424020b",
   "metadata": {},
   "source": [
    "## MAGIC gamma telescope data\n",
    "Link: https://archive.ics.uci.edu/ml/datasets/magic+gamma+telescope"
   ]
  },
  {
   "cell_type": "code",
   "execution_count": 283,
   "id": "6d319799",
   "metadata": {},
   "outputs": [],
   "source": [
    "ds_magic_gamma = pd.read_csv('Datasets/magic/magic04.data', \n",
    "                             names=['fLength', 'fWidth', 'fSize', 'fConc',\n",
    "                                   'fConc1', 'fAsym', 'fM3Long', 'fM3Trans',\n",
    "                                   'fAlpha', 'fDist', 'class'])"
   ]
  },
  {
   "cell_type": "code",
   "execution_count": 284,
   "id": "22c0fee4",
   "metadata": {},
   "outputs": [
    {
     "data": {
      "text/html": [
       "<div>\n",
       "<style scoped>\n",
       "    .dataframe tbody tr th:only-of-type {\n",
       "        vertical-align: middle;\n",
       "    }\n",
       "\n",
       "    .dataframe tbody tr th {\n",
       "        vertical-align: top;\n",
       "    }\n",
       "\n",
       "    .dataframe thead th {\n",
       "        text-align: right;\n",
       "    }\n",
       "</style>\n",
       "<table border=\"1\" class=\"dataframe\">\n",
       "  <thead>\n",
       "    <tr style=\"text-align: right;\">\n",
       "      <th></th>\n",
       "      <th>fLength</th>\n",
       "      <th>fWidth</th>\n",
       "      <th>fSize</th>\n",
       "      <th>fConc</th>\n",
       "      <th>fConc1</th>\n",
       "      <th>fAsym</th>\n",
       "      <th>fM3Long</th>\n",
       "      <th>fM3Trans</th>\n",
       "      <th>fAlpha</th>\n",
       "      <th>fDist</th>\n",
       "      <th>class</th>\n",
       "    </tr>\n",
       "  </thead>\n",
       "  <tbody>\n",
       "    <tr>\n",
       "      <th>0</th>\n",
       "      <td>28.7967</td>\n",
       "      <td>16.0021</td>\n",
       "      <td>2.6449</td>\n",
       "      <td>0.3918</td>\n",
       "      <td>0.1982</td>\n",
       "      <td>27.7004</td>\n",
       "      <td>22.0110</td>\n",
       "      <td>-8.2027</td>\n",
       "      <td>40.0920</td>\n",
       "      <td>81.8828</td>\n",
       "      <td>g</td>\n",
       "    </tr>\n",
       "    <tr>\n",
       "      <th>1</th>\n",
       "      <td>31.6036</td>\n",
       "      <td>11.7235</td>\n",
       "      <td>2.5185</td>\n",
       "      <td>0.5303</td>\n",
       "      <td>0.3773</td>\n",
       "      <td>26.2722</td>\n",
       "      <td>23.8238</td>\n",
       "      <td>-9.9574</td>\n",
       "      <td>6.3609</td>\n",
       "      <td>205.2610</td>\n",
       "      <td>g</td>\n",
       "    </tr>\n",
       "    <tr>\n",
       "      <th>2</th>\n",
       "      <td>162.0520</td>\n",
       "      <td>136.0310</td>\n",
       "      <td>4.0612</td>\n",
       "      <td>0.0374</td>\n",
       "      <td>0.0187</td>\n",
       "      <td>116.7410</td>\n",
       "      <td>-64.8580</td>\n",
       "      <td>-45.2160</td>\n",
       "      <td>76.9600</td>\n",
       "      <td>256.7880</td>\n",
       "      <td>g</td>\n",
       "    </tr>\n",
       "    <tr>\n",
       "      <th>3</th>\n",
       "      <td>23.8172</td>\n",
       "      <td>9.5728</td>\n",
       "      <td>2.3385</td>\n",
       "      <td>0.6147</td>\n",
       "      <td>0.3922</td>\n",
       "      <td>27.2107</td>\n",
       "      <td>-6.4633</td>\n",
       "      <td>-7.1513</td>\n",
       "      <td>10.4490</td>\n",
       "      <td>116.7370</td>\n",
       "      <td>g</td>\n",
       "    </tr>\n",
       "    <tr>\n",
       "      <th>4</th>\n",
       "      <td>75.1362</td>\n",
       "      <td>30.9205</td>\n",
       "      <td>3.1611</td>\n",
       "      <td>0.3168</td>\n",
       "      <td>0.1832</td>\n",
       "      <td>-5.5277</td>\n",
       "      <td>28.5525</td>\n",
       "      <td>21.8393</td>\n",
       "      <td>4.6480</td>\n",
       "      <td>356.4620</td>\n",
       "      <td>g</td>\n",
       "    </tr>\n",
       "  </tbody>\n",
       "</table>\n",
       "</div>"
      ],
      "text/plain": [
       "    fLength    fWidth   fSize   fConc  fConc1     fAsym  fM3Long  fM3Trans  \\\n",
       "0   28.7967   16.0021  2.6449  0.3918  0.1982   27.7004  22.0110   -8.2027   \n",
       "1   31.6036   11.7235  2.5185  0.5303  0.3773   26.2722  23.8238   -9.9574   \n",
       "2  162.0520  136.0310  4.0612  0.0374  0.0187  116.7410 -64.8580  -45.2160   \n",
       "3   23.8172    9.5728  2.3385  0.6147  0.3922   27.2107  -6.4633   -7.1513   \n",
       "4   75.1362   30.9205  3.1611  0.3168  0.1832   -5.5277  28.5525   21.8393   \n",
       "\n",
       "    fAlpha     fDist class  \n",
       "0  40.0920   81.8828     g  \n",
       "1   6.3609  205.2610     g  \n",
       "2  76.9600  256.7880     g  \n",
       "3  10.4490  116.7370     g  \n",
       "4   4.6480  356.4620     g  "
      ]
     },
     "execution_count": 284,
     "metadata": {},
     "output_type": "execute_result"
    }
   ],
   "source": [
    "ds_magic_gamma.head()"
   ]
  },
  {
   "cell_type": "code",
   "execution_count": 285,
   "id": "f531dc8d",
   "metadata": {},
   "outputs": [],
   "source": [
    "ds_magic_gamma_X = ds_magic_gamma[ds_magic_gamma.columns[:-1]]\n",
    "ds_magic_gamma_Y = ds_magic_gamma['class']"
   ]
  },
  {
   "cell_type": "code",
   "execution_count": 286,
   "id": "4a920e69",
   "metadata": {},
   "outputs": [
    {
     "name": "stdout",
     "output_type": "stream",
     "text": [
      "1-NN finished with accuracy score: 0.96245\n",
      "3-NN finished with accuracy score: 0.9595\n",
      "5-NN finished with accuracy score: 0.958\n",
      "7-NN finished with accuracy score: 0.95585\n",
      "Naive Bayes finished with accuracy score: 0.95585\n"
     ]
    }
   ],
   "source": [
    "magic_gamma_FileName = 'results/LeaveOneOut_magic_gamma.txt'\n",
    "table2_results_magic_gamma = read_if_available_else_produce(ds_letter_reco_X,\n",
    "                                                            ds_letter_reco_Y,\n",
    "                                                            magic_gamma_FileName)"
   ]
  },
  {
   "cell_type": "code",
   "execution_count": 287,
   "id": "5cb8dba0",
   "metadata": {},
   "outputs": [
    {
     "data": {
      "text/plain": [
       "{'1NN': 0.96245, '3NN': 0.9595, '5NN': 0.958, '7NN': 0.95585, 'NBC': 0.95585}"
      ]
     },
     "execution_count": 287,
     "metadata": {},
     "output_type": "execute_result"
    }
   ],
   "source": [
    "table2_results_magic_gamma"
   ]
  },
  {
   "cell_type": "markdown",
   "id": "a5f4d372",
   "metadata": {},
   "source": [
    "## Page-Blocks dataset\n",
    "Link: https://archive.ics.uci.edu/ml/datasets/Page+Blocks+Classification"
   ]
  },
  {
   "cell_type": "code",
   "execution_count": 288,
   "id": "c8689bb8",
   "metadata": {},
   "outputs": [],
   "source": [
    "ds_page_blocks = pd.read_csv('Datasets/page-blocks/page-blocks.data', \n",
    "                             sep=' +',\n",
    "                             engine='python',\n",
    "                             names=['height', 'length', 'area', 'eccen',\n",
    "                                   'p_black', 'p_and', 'mean_tr', 'blackpix',\n",
    "                                   'blackand', 'wb_trans'])"
   ]
  },
  {
   "cell_type": "code",
   "execution_count": 289,
   "id": "cdcd3eda",
   "metadata": {},
   "outputs": [
    {
     "data": {
      "text/html": [
       "<div>\n",
       "<style scoped>\n",
       "    .dataframe tbody tr th:only-of-type {\n",
       "        vertical-align: middle;\n",
       "    }\n",
       "\n",
       "    .dataframe tbody tr th {\n",
       "        vertical-align: top;\n",
       "    }\n",
       "\n",
       "    .dataframe thead th {\n",
       "        text-align: right;\n",
       "    }\n",
       "</style>\n",
       "<table border=\"1\" class=\"dataframe\">\n",
       "  <thead>\n",
       "    <tr style=\"text-align: right;\">\n",
       "      <th></th>\n",
       "      <th>height</th>\n",
       "      <th>length</th>\n",
       "      <th>area</th>\n",
       "      <th>eccen</th>\n",
       "      <th>p_black</th>\n",
       "      <th>p_and</th>\n",
       "      <th>mean_tr</th>\n",
       "      <th>blackpix</th>\n",
       "      <th>blackand</th>\n",
       "      <th>wb_trans</th>\n",
       "    </tr>\n",
       "  </thead>\n",
       "  <tbody>\n",
       "    <tr>\n",
       "      <th>5</th>\n",
       "      <td>7</td>\n",
       "      <td>35</td>\n",
       "      <td>1.400</td>\n",
       "      <td>0.400</td>\n",
       "      <td>0.657</td>\n",
       "      <td>2.33</td>\n",
       "      <td>14</td>\n",
       "      <td>23</td>\n",
       "      <td>6</td>\n",
       "      <td>1</td>\n",
       "    </tr>\n",
       "    <tr>\n",
       "      <th>6</th>\n",
       "      <td>7</td>\n",
       "      <td>42</td>\n",
       "      <td>1.167</td>\n",
       "      <td>0.429</td>\n",
       "      <td>0.881</td>\n",
       "      <td>3.60</td>\n",
       "      <td>18</td>\n",
       "      <td>37</td>\n",
       "      <td>5</td>\n",
       "      <td>1</td>\n",
       "    </tr>\n",
       "    <tr>\n",
       "      <th>6</th>\n",
       "      <td>18</td>\n",
       "      <td>108</td>\n",
       "      <td>3.000</td>\n",
       "      <td>0.287</td>\n",
       "      <td>0.741</td>\n",
       "      <td>4.43</td>\n",
       "      <td>31</td>\n",
       "      <td>80</td>\n",
       "      <td>7</td>\n",
       "      <td>1</td>\n",
       "    </tr>\n",
       "    <tr>\n",
       "      <th>5</th>\n",
       "      <td>7</td>\n",
       "      <td>35</td>\n",
       "      <td>1.400</td>\n",
       "      <td>0.371</td>\n",
       "      <td>0.743</td>\n",
       "      <td>4.33</td>\n",
       "      <td>13</td>\n",
       "      <td>26</td>\n",
       "      <td>3</td>\n",
       "      <td>1</td>\n",
       "    </tr>\n",
       "    <tr>\n",
       "      <th>6</th>\n",
       "      <td>3</td>\n",
       "      <td>18</td>\n",
       "      <td>0.500</td>\n",
       "      <td>0.500</td>\n",
       "      <td>0.944</td>\n",
       "      <td>2.25</td>\n",
       "      <td>9</td>\n",
       "      <td>17</td>\n",
       "      <td>4</td>\n",
       "      <td>1</td>\n",
       "    </tr>\n",
       "  </tbody>\n",
       "</table>\n",
       "</div>"
      ],
      "text/plain": [
       "   height  length   area  eccen  p_black  p_and  mean_tr  blackpix  blackand  \\\n",
       "5       7      35  1.400  0.400    0.657   2.33       14        23         6   \n",
       "6       7      42  1.167  0.429    0.881   3.60       18        37         5   \n",
       "6      18     108  3.000  0.287    0.741   4.43       31        80         7   \n",
       "5       7      35  1.400  0.371    0.743   4.33       13        26         3   \n",
       "6       3      18  0.500  0.500    0.944   2.25        9        17         4   \n",
       "\n",
       "   wb_trans  \n",
       "5         1  \n",
       "6         1  \n",
       "6         1  \n",
       "5         1  \n",
       "6         1  "
      ]
     },
     "execution_count": 289,
     "metadata": {},
     "output_type": "execute_result"
    }
   ],
   "source": [
    "ds_page_blocks.head()\n"
   ]
  },
  {
   "cell_type": "code",
   "execution_count": 290,
   "id": "cd197ad1",
   "metadata": {},
   "outputs": [],
   "source": [
    "ds_page_blocks_X = ds_page_blocks[ds_page_blocks.columns[:-1]]\n",
    "ds_page_blocks_Y = ds_page_blocks.wb_trans"
   ]
  },
  {
   "cell_type": "code",
   "execution_count": 291,
   "id": "74c2f856",
   "metadata": {},
   "outputs": [
    {
     "name": "stdout",
     "output_type": "stream",
     "text": [
      "1-NN finished with accuracy score: 0.9572446555819477\n",
      "3-NN finished with accuracy score: 0.9574273707290334\n",
      "5-NN finished with accuracy score: 0.957061940434862\n",
      "7-NN finished with accuracy score: 0.9552347889640052\n",
      "Naive Bayes finished with accuracy score: 0.9552347889640052\n"
     ]
    }
   ],
   "source": [
    "page_blocks_FileName = 'results/LeaveOneOut_page_blocks.txt'\n",
    "table2_results_page_blocks = read_if_available_else_produce(ds_page_blocks_X,\n",
    "                                                            ds_page_blocks_Y,\n",
    "                                                            page_blocks_FileName)"
   ]
  },
  {
   "cell_type": "markdown",
   "id": "0fe78b0a",
   "metadata": {},
   "source": [
    "## Wine Quality dataset\n",
    "Link: https://archive.ics.uci.edu/ml/datasets/wine+quality"
   ]
  },
  {
   "cell_type": "markdown",
   "id": "03c382d4",
   "metadata": {},
   "source": [
    "### White Wine"
   ]
  },
  {
   "cell_type": "code",
   "execution_count": 298,
   "id": "2b244aa3",
   "metadata": {},
   "outputs": [
    {
     "data": {
      "text/html": [
       "<div>\n",
       "<style scoped>\n",
       "    .dataframe tbody tr th:only-of-type {\n",
       "        vertical-align: middle;\n",
       "    }\n",
       "\n",
       "    .dataframe tbody tr th {\n",
       "        vertical-align: top;\n",
       "    }\n",
       "\n",
       "    .dataframe thead th {\n",
       "        text-align: right;\n",
       "    }\n",
       "</style>\n",
       "<table border=\"1\" class=\"dataframe\">\n",
       "  <thead>\n",
       "    <tr style=\"text-align: right;\">\n",
       "      <th></th>\n",
       "      <th>fixed acidity</th>\n",
       "      <th>volatile acidity</th>\n",
       "      <th>citric acid</th>\n",
       "      <th>residual sugar</th>\n",
       "      <th>chlorides</th>\n",
       "      <th>free sulfur dioxide</th>\n",
       "      <th>total sulfur dioxide</th>\n",
       "      <th>density</th>\n",
       "      <th>pH</th>\n",
       "      <th>sulphates</th>\n",
       "      <th>alcohol</th>\n",
       "      <th>quality</th>\n",
       "    </tr>\n",
       "  </thead>\n",
       "  <tbody>\n",
       "    <tr>\n",
       "      <th>0</th>\n",
       "      <td>7.4</td>\n",
       "      <td>0.70</td>\n",
       "      <td>0.00</td>\n",
       "      <td>1.9</td>\n",
       "      <td>0.076</td>\n",
       "      <td>11.0</td>\n",
       "      <td>34.0</td>\n",
       "      <td>0.9978</td>\n",
       "      <td>3.51</td>\n",
       "      <td>0.56</td>\n",
       "      <td>9.4</td>\n",
       "      <td>5</td>\n",
       "    </tr>\n",
       "    <tr>\n",
       "      <th>1</th>\n",
       "      <td>7.8</td>\n",
       "      <td>0.88</td>\n",
       "      <td>0.00</td>\n",
       "      <td>2.6</td>\n",
       "      <td>0.098</td>\n",
       "      <td>25.0</td>\n",
       "      <td>67.0</td>\n",
       "      <td>0.9968</td>\n",
       "      <td>3.20</td>\n",
       "      <td>0.68</td>\n",
       "      <td>9.8</td>\n",
       "      <td>5</td>\n",
       "    </tr>\n",
       "    <tr>\n",
       "      <th>2</th>\n",
       "      <td>7.8</td>\n",
       "      <td>0.76</td>\n",
       "      <td>0.04</td>\n",
       "      <td>2.3</td>\n",
       "      <td>0.092</td>\n",
       "      <td>15.0</td>\n",
       "      <td>54.0</td>\n",
       "      <td>0.9970</td>\n",
       "      <td>3.26</td>\n",
       "      <td>0.65</td>\n",
       "      <td>9.8</td>\n",
       "      <td>5</td>\n",
       "    </tr>\n",
       "    <tr>\n",
       "      <th>3</th>\n",
       "      <td>11.2</td>\n",
       "      <td>0.28</td>\n",
       "      <td>0.56</td>\n",
       "      <td>1.9</td>\n",
       "      <td>0.075</td>\n",
       "      <td>17.0</td>\n",
       "      <td>60.0</td>\n",
       "      <td>0.9980</td>\n",
       "      <td>3.16</td>\n",
       "      <td>0.58</td>\n",
       "      <td>9.8</td>\n",
       "      <td>6</td>\n",
       "    </tr>\n",
       "    <tr>\n",
       "      <th>4</th>\n",
       "      <td>7.4</td>\n",
       "      <td>0.70</td>\n",
       "      <td>0.00</td>\n",
       "      <td>1.9</td>\n",
       "      <td>0.076</td>\n",
       "      <td>11.0</td>\n",
       "      <td>34.0</td>\n",
       "      <td>0.9978</td>\n",
       "      <td>3.51</td>\n",
       "      <td>0.56</td>\n",
       "      <td>9.4</td>\n",
       "      <td>5</td>\n",
       "    </tr>\n",
       "  </tbody>\n",
       "</table>\n",
       "</div>"
      ],
      "text/plain": [
       "   fixed acidity  volatile acidity  citric acid  residual sugar  chlorides  \\\n",
       "0            7.4              0.70         0.00             1.9      0.076   \n",
       "1            7.8              0.88         0.00             2.6      0.098   \n",
       "2            7.8              0.76         0.04             2.3      0.092   \n",
       "3           11.2              0.28         0.56             1.9      0.075   \n",
       "4            7.4              0.70         0.00             1.9      0.076   \n",
       "\n",
       "   free sulfur dioxide  total sulfur dioxide  density    pH  sulphates  \\\n",
       "0                 11.0                  34.0   0.9978  3.51       0.56   \n",
       "1                 25.0                  67.0   0.9968  3.20       0.68   \n",
       "2                 15.0                  54.0   0.9970  3.26       0.65   \n",
       "3                 17.0                  60.0   0.9980  3.16       0.58   \n",
       "4                 11.0                  34.0   0.9978  3.51       0.56   \n",
       "\n",
       "   alcohol  quality  \n",
       "0      9.4        5  \n",
       "1      9.8        5  \n",
       "2      9.8        5  \n",
       "3      9.8        6  \n",
       "4      9.4        5  "
      ]
     },
     "execution_count": 298,
     "metadata": {},
     "output_type": "execute_result"
    }
   ],
   "source": [
    "ds_redWine = pd.read_csv('Datasets/wine-quality/winequality-red.csv', sep=';')\n",
    "ds_redWine.head()"
   ]
  },
  {
   "cell_type": "code",
   "execution_count": 299,
   "id": "3ba06cd3",
   "metadata": {},
   "outputs": [],
   "source": [
    "ds_redWine_X = ds_redWine[ds_redWine.columns[:-1]]\n",
    "ds_redWine_Y = ds_redWine.quality"
   ]
  },
  {
   "cell_type": "code",
   "execution_count": 300,
   "id": "3c2338ad",
   "metadata": {},
   "outputs": [
    {
     "name": "stdout",
     "output_type": "stream",
     "text": [
      "1-NN finished with accuracy score: 0.6153846153846154\n",
      "3-NN finished with accuracy score: 0.5234521575984991\n",
      "5-NN finished with accuracy score: 0.5103189493433395\n",
      "7-NN finished with accuracy score: 0.4996873045653533\n",
      "Naive Bayes finished with accuracy score: 0.4996873045653533\n"
     ]
    },
    {
     "data": {
      "text/plain": [
       "{'1NN': 0.6153846153846154,\n",
       " '3NN': 0.5234521575984991,\n",
       " '5NN': 0.5103189493433395,\n",
       " '7NN': 0.4996873045653533,\n",
       " 'NBC': 0.4996873045653533}"
      ]
     },
     "execution_count": 300,
     "metadata": {},
     "output_type": "execute_result"
    }
   ],
   "source": [
    "redWine_FileName = 'results/LeaveOneOut_redWine.txt'\n",
    "table2_results_redWine = read_if_available_else_produce(ds_redWine_X,\n",
    "                                                        ds_redWine_Y,\n",
    "                                                        redWine_FileName)\n",
    "table2_results_redWine"
   ]
  },
  {
   "cell_type": "markdown",
   "id": "18211369",
   "metadata": {},
   "source": [
    "### Red Wine"
   ]
  },
  {
   "cell_type": "code",
   "execution_count": 301,
   "id": "a36164ed",
   "metadata": {},
   "outputs": [
    {
     "data": {
      "text/html": [
       "<div>\n",
       "<style scoped>\n",
       "    .dataframe tbody tr th:only-of-type {\n",
       "        vertical-align: middle;\n",
       "    }\n",
       "\n",
       "    .dataframe tbody tr th {\n",
       "        vertical-align: top;\n",
       "    }\n",
       "\n",
       "    .dataframe thead th {\n",
       "        text-align: right;\n",
       "    }\n",
       "</style>\n",
       "<table border=\"1\" class=\"dataframe\">\n",
       "  <thead>\n",
       "    <tr style=\"text-align: right;\">\n",
       "      <th></th>\n",
       "      <th>fixed acidity</th>\n",
       "      <th>volatile acidity</th>\n",
       "      <th>citric acid</th>\n",
       "      <th>residual sugar</th>\n",
       "      <th>chlorides</th>\n",
       "      <th>free sulfur dioxide</th>\n",
       "      <th>total sulfur dioxide</th>\n",
       "      <th>density</th>\n",
       "      <th>pH</th>\n",
       "      <th>sulphates</th>\n",
       "      <th>alcohol</th>\n",
       "      <th>quality</th>\n",
       "    </tr>\n",
       "  </thead>\n",
       "  <tbody>\n",
       "    <tr>\n",
       "      <th>0</th>\n",
       "      <td>7.0</td>\n",
       "      <td>0.27</td>\n",
       "      <td>0.36</td>\n",
       "      <td>20.7</td>\n",
       "      <td>0.045</td>\n",
       "      <td>45.0</td>\n",
       "      <td>170.0</td>\n",
       "      <td>1.0010</td>\n",
       "      <td>3.00</td>\n",
       "      <td>0.45</td>\n",
       "      <td>8.8</td>\n",
       "      <td>6</td>\n",
       "    </tr>\n",
       "    <tr>\n",
       "      <th>1</th>\n",
       "      <td>6.3</td>\n",
       "      <td>0.30</td>\n",
       "      <td>0.34</td>\n",
       "      <td>1.6</td>\n",
       "      <td>0.049</td>\n",
       "      <td>14.0</td>\n",
       "      <td>132.0</td>\n",
       "      <td>0.9940</td>\n",
       "      <td>3.30</td>\n",
       "      <td>0.49</td>\n",
       "      <td>9.5</td>\n",
       "      <td>6</td>\n",
       "    </tr>\n",
       "    <tr>\n",
       "      <th>2</th>\n",
       "      <td>8.1</td>\n",
       "      <td>0.28</td>\n",
       "      <td>0.40</td>\n",
       "      <td>6.9</td>\n",
       "      <td>0.050</td>\n",
       "      <td>30.0</td>\n",
       "      <td>97.0</td>\n",
       "      <td>0.9951</td>\n",
       "      <td>3.26</td>\n",
       "      <td>0.44</td>\n",
       "      <td>10.1</td>\n",
       "      <td>6</td>\n",
       "    </tr>\n",
       "    <tr>\n",
       "      <th>3</th>\n",
       "      <td>7.2</td>\n",
       "      <td>0.23</td>\n",
       "      <td>0.32</td>\n",
       "      <td>8.5</td>\n",
       "      <td>0.058</td>\n",
       "      <td>47.0</td>\n",
       "      <td>186.0</td>\n",
       "      <td>0.9956</td>\n",
       "      <td>3.19</td>\n",
       "      <td>0.40</td>\n",
       "      <td>9.9</td>\n",
       "      <td>6</td>\n",
       "    </tr>\n",
       "    <tr>\n",
       "      <th>4</th>\n",
       "      <td>7.2</td>\n",
       "      <td>0.23</td>\n",
       "      <td>0.32</td>\n",
       "      <td>8.5</td>\n",
       "      <td>0.058</td>\n",
       "      <td>47.0</td>\n",
       "      <td>186.0</td>\n",
       "      <td>0.9956</td>\n",
       "      <td>3.19</td>\n",
       "      <td>0.40</td>\n",
       "      <td>9.9</td>\n",
       "      <td>6</td>\n",
       "    </tr>\n",
       "  </tbody>\n",
       "</table>\n",
       "</div>"
      ],
      "text/plain": [
       "   fixed acidity  volatile acidity  citric acid  residual sugar  chlorides  \\\n",
       "0            7.0              0.27         0.36            20.7      0.045   \n",
       "1            6.3              0.30         0.34             1.6      0.049   \n",
       "2            8.1              0.28         0.40             6.9      0.050   \n",
       "3            7.2              0.23         0.32             8.5      0.058   \n",
       "4            7.2              0.23         0.32             8.5      0.058   \n",
       "\n",
       "   free sulfur dioxide  total sulfur dioxide  density    pH  sulphates  \\\n",
       "0                 45.0                 170.0   1.0010  3.00       0.45   \n",
       "1                 14.0                 132.0   0.9940  3.30       0.49   \n",
       "2                 30.0                  97.0   0.9951  3.26       0.44   \n",
       "3                 47.0                 186.0   0.9956  3.19       0.40   \n",
       "4                 47.0                 186.0   0.9956  3.19       0.40   \n",
       "\n",
       "   alcohol  quality  \n",
       "0      8.8        6  \n",
       "1      9.5        6  \n",
       "2     10.1        6  \n",
       "3      9.9        6  \n",
       "4      9.9        6  "
      ]
     },
     "execution_count": 301,
     "metadata": {},
     "output_type": "execute_result"
    }
   ],
   "source": [
    "ds_whiteWine = pd.read_csv('Datasets/wine-quality/winequality-white.csv', sep=';')\n",
    "ds_whiteWine.head()"
   ]
  },
  {
   "cell_type": "code",
   "execution_count": 302,
   "id": "b59c41b4",
   "metadata": {},
   "outputs": [],
   "source": [
    "ds_whiteWine_X = ds_whiteWine[ds_whiteWine.columns[:-1]]\n",
    "ds_whiteWine_Y = ds_whiteWine.quality"
   ]
  },
  {
   "cell_type": "code",
   "execution_count": 303,
   "id": "5f1ec9a7",
   "metadata": {},
   "outputs": [
    {
     "name": "stdout",
     "output_type": "stream",
     "text": [
      "1-NN finished with accuracy score: 0.6161698652511229\n",
      "3-NN finished with accuracy score: 0.5065332788893426\n",
      "5-NN finished with accuracy score: 0.4959167006941609\n",
      "7-NN finished with accuracy score: 0.4881584320130666\n",
      "Naive Bayes finished with accuracy score: 0.4881584320130666\n"
     ]
    },
    {
     "data": {
      "text/plain": [
       "{'1NN': 0.6161698652511229,\n",
       " '3NN': 0.5065332788893426,\n",
       " '5NN': 0.4959167006941609,\n",
       " '7NN': 0.4881584320130666,\n",
       " 'NBC': 0.4881584320130666}"
      ]
     },
     "execution_count": 303,
     "metadata": {},
     "output_type": "execute_result"
    }
   ],
   "source": [
    "white_Wine_FileName = 'results/LeaveOneOut_white_Wine.txt'\n",
    "table2_results_White_Wine = read_if_available_else_produce(ds_whiteWine_X,\n",
    "                                                        ds_whiteWine_Y,\n",
    "                                                        white_Wine_FileName)\n",
    "table2_results_White_Wine"
   ]
  },
  {
   "cell_type": "markdown",
   "id": "4fb46e15",
   "metadata": {},
   "source": [
    "## TODO: Another Dataset"
   ]
  }
 ],
 "metadata": {
  "kernelspec": {
   "display_name": "Python 3 (ipykernel)",
   "language": "python",
   "name": "python3"
  },
  "language_info": {
   "codemirror_mode": {
    "name": "ipython",
    "version": 3
   },
   "file_extension": ".py",
   "mimetype": "text/x-python",
   "name": "python",
   "nbconvert_exporter": "python",
   "pygments_lexer": "ipython3",
   "version": "3.9.0"
  }
 },
 "nbformat": 4,
 "nbformat_minor": 5
}
